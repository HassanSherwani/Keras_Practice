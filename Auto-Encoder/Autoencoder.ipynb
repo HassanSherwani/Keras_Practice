{
  "nbformat": 4,
  "nbformat_minor": 0,
  "metadata": {
    "colab": {
      "name": "Autoencoder.ipynb",
      "version": "0.3.2",
      "provenance": []
    },
    "kernelspec": {
      "name": "python3",
      "display_name": "Python 3"
    },
    "accelerator": "GPU"
  },
  "cells": [
    {
      "cell_type": "markdown",
      "metadata": {
        "id": "erAemDiBMyYr",
        "colab_type": "text"
      },
      "source": [
        "# Autoencoder\n",
        "\n",
        "Based on Keras blog created by Francois Chollet."
      ]
    },
    {
      "cell_type": "code",
      "metadata": {
        "id": "xh6Rm43PNBBT",
        "colab_type": "code",
        "colab": {
          "base_uri": "https://localhost:8080/",
          "height": 34
        },
        "outputId": "926d1770-8952-4902-efb8-151e98fcc58f"
      },
      "source": [
        "import warnings\n",
        "warnings.filterwarnings('ignore')\n",
        "\n",
        "import numpy as np\n",
        "import matplotlib.pyplot as plt\n",
        "\n",
        "from keras.layers import Input, Dense, Conv2D, MaxPooling2D, UpSampling2D, LSTM \n",
        "from keras.models import Model\n",
        "from keras.datasets import mnist"
      ],
      "execution_count": 1,
      "outputs": [
        {
          "output_type": "stream",
          "text": [
            "Using TensorFlow backend.\n"
          ],
          "name": "stderr"
        }
      ]
    },
    {
      "cell_type": "markdown",
      "metadata": {
        "id": "CbTs_sMSNLjn",
        "colab_type": "text"
      },
      "source": [
        "# Loading in dataset"
      ]
    },
    {
      "cell_type": "code",
      "metadata": {
        "id": "mLBoB7zvNIT1",
        "colab_type": "code",
        "colab": {
          "base_uri": "https://localhost:8080/",
          "height": 50
        },
        "outputId": "a4e45a47-47a0-40e0-f77c-12c06e22ccfe"
      },
      "source": [
        "(x_train, y_train), (x_test, y_test) = mnist.load_data()\n",
        "del y_train\n",
        "del y_test\n",
        "\n",
        "# scale data between 0 and 1\n",
        "x_train = x_train.astype('float32') / 256\n",
        "x_test = x_test.astype('float32') / 256\n",
        "\n",
        "# Reshape data\n",
        "x_train = x_train.reshape(len(x_train), 28*28)\n",
        "x_test = x_test.reshape(len(x_test), 28*28)\n",
        "\n",
        "print('Training data shape:', x_train.shape)\n",
        "print('Testing data shape:', x_test.shape)"
      ],
      "execution_count": 2,
      "outputs": [
        {
          "output_type": "stream",
          "text": [
            "Training data shape: (60000, 784)\n",
            "Testing data shape: (10000, 784)\n"
          ],
          "name": "stdout"
        }
      ]
    },
    {
      "cell_type": "markdown",
      "metadata": {
        "id": "d2LQdUKtNS7o",
        "colab_type": "text"
      },
      "source": [
        "# 1)- Simple autoencoder"
      ]
    },
    {
      "cell_type": "code",
      "metadata": {
        "id": "JHG-ygABNPxV",
        "colab_type": "code",
        "colab": {
          "base_uri": "https://localhost:8080/",
          "height": 87
        },
        "outputId": "d4592834-d795-4fd8-d459-efb1e949a78a"
      },
      "source": [
        "input_layer = Input(shape=(784,))\n",
        "# encoded layer. compresses data by the factor 12.25 (784/64=12.25)\n",
        "encoded = Dense(64, activation='relu')(input_layer)\n",
        "# decoded layer. reconstructs the input (units are equal to the input dimension of the image)\n",
        "decoded = Dense(784, activation='sigmoid')(encoded)"
      ],
      "execution_count": 3,
      "outputs": [
        {
          "output_type": "stream",
          "text": [
            "WARNING:tensorflow:From /usr/local/lib/python3.6/dist-packages/tensorflow/python/framework/op_def_library.py:263: colocate_with (from tensorflow.python.framework.ops) is deprecated and will be removed in a future version.\n",
            "Instructions for updating:\n",
            "Colocations handled automatically by placer.\n"
          ],
          "name": "stdout"
        }
      ]
    },
    {
      "cell_type": "markdown",
      "metadata": {
        "id": "alNWHLaDNcdA",
        "colab_type": "text"
      },
      "source": [
        "## Creating model"
      ]
    },
    {
      "cell_type": "code",
      "metadata": {
        "id": "YEx9ZJ1eNZ1i",
        "colab_type": "code",
        "colab": {}
      },
      "source": [
        "# maps an input to its reconstruction\n",
        "autoencoder = Model(input_layer, decoded)\n",
        "\n",
        "# maps an input to its encoded representation\n",
        "encoder = Model(input_layer, encoded)"
      ],
      "execution_count": 0,
      "outputs": []
    },
    {
      "cell_type": "code",
      "metadata": {
        "id": "i2k2zqlgNq57",
        "colab_type": "code",
        "colab": {}
      },
      "source": [
        "# for the decoder, we need to create an input layer which has the dimensionality of the encoded layer\n",
        "input_layer_dec = Input(shape=(64,))\n",
        "# retrieve the last layer of the autoencoder model and place it after the input layer\n",
        "decoder_layer = autoencoder.layers[-1](input_layer_dec)\n",
        "\n",
        "decoder = Model(input_layer_dec, decoder_layer)"
      ],
      "execution_count": 0,
      "outputs": []
    },
    {
      "cell_type": "code",
      "metadata": {
        "id": "8N0iUbVpNu_A",
        "colab_type": "code",
        "colab": {
          "base_uri": "https://localhost:8080/",
          "height": 1801
        },
        "outputId": "4d6d8979-1f04-4aa2-f6ab-45169a00221a"
      },
      "source": [
        "autoencoder.compile(optimizer='adadelta', loss='binary_crossentropy')\n",
        "\n",
        "autoencoder.fit(x_train, x_train, epochs=50,\n",
        "                batch_size=256, shuffle=True,\n",
        "                validation_data=(x_test, x_test))"
      ],
      "execution_count": 6,
      "outputs": [
        {
          "output_type": "stream",
          "text": [
            "WARNING:tensorflow:From /usr/local/lib/python3.6/dist-packages/tensorflow/python/ops/math_ops.py:3066: to_int32 (from tensorflow.python.ops.math_ops) is deprecated and will be removed in a future version.\n",
            "Instructions for updating:\n",
            "Use tf.cast instead.\n",
            "Train on 60000 samples, validate on 10000 samples\n",
            "Epoch 1/50\n",
            "60000/60000 [==============================] - 2s 36us/step - loss: 0.3552 - val_loss: 0.2691\n",
            "Epoch 2/50\n",
            "60000/60000 [==============================] - 1s 16us/step - loss: 0.2600 - val_loss: 0.2470\n",
            "Epoch 3/50\n",
            "60000/60000 [==============================] - 1s 16us/step - loss: 0.2355 - val_loss: 0.2224\n",
            "Epoch 4/50\n",
            "60000/60000 [==============================] - 1s 16us/step - loss: 0.2146 - val_loss: 0.2049\n",
            "Epoch 5/50\n",
            "60000/60000 [==============================] - 1s 16us/step - loss: 0.1998 - val_loss: 0.1924\n",
            "Epoch 6/50\n",
            "60000/60000 [==============================] - 1s 16us/step - loss: 0.1889 - val_loss: 0.1829\n",
            "Epoch 7/50\n",
            "60000/60000 [==============================] - 1s 16us/step - loss: 0.1804 - val_loss: 0.1753\n",
            "Epoch 8/50\n",
            "60000/60000 [==============================] - 1s 16us/step - loss: 0.1733 - val_loss: 0.1687\n",
            "Epoch 9/50\n",
            "60000/60000 [==============================] - 1s 16us/step - loss: 0.1672 - val_loss: 0.1630\n",
            "Epoch 10/50\n",
            "60000/60000 [==============================] - 1s 16us/step - loss: 0.1617 - val_loss: 0.1578\n",
            "Epoch 11/50\n",
            "60000/60000 [==============================] - 1s 16us/step - loss: 0.1567 - val_loss: 0.1530\n",
            "Epoch 12/50\n",
            "60000/60000 [==============================] - 1s 16us/step - loss: 0.1521 - val_loss: 0.1486\n",
            "Epoch 13/50\n",
            "60000/60000 [==============================] - 1s 16us/step - loss: 0.1480 - val_loss: 0.1446\n",
            "Epoch 14/50\n",
            "60000/60000 [==============================] - 1s 16us/step - loss: 0.1441 - val_loss: 0.1410\n",
            "Epoch 15/50\n",
            "60000/60000 [==============================] - 1s 16us/step - loss: 0.1406 - val_loss: 0.1376\n",
            "Epoch 16/50\n",
            "60000/60000 [==============================] - 1s 16us/step - loss: 0.1374 - val_loss: 0.1346\n",
            "Epoch 17/50\n",
            "60000/60000 [==============================] - 1s 16us/step - loss: 0.1344 - val_loss: 0.1316\n",
            "Epoch 18/50\n",
            "60000/60000 [==============================] - 1s 16us/step - loss: 0.1316 - val_loss: 0.1289\n",
            "Epoch 19/50\n",
            "60000/60000 [==============================] - 1s 16us/step - loss: 0.1289 - val_loss: 0.1262\n",
            "Epoch 20/50\n",
            "60000/60000 [==============================] - 1s 16us/step - loss: 0.1264 - val_loss: 0.1238\n",
            "Epoch 21/50\n",
            "60000/60000 [==============================] - 1s 16us/step - loss: 0.1241 - val_loss: 0.1216\n",
            "Epoch 22/50\n",
            "60000/60000 [==============================] - 1s 16us/step - loss: 0.1218 - val_loss: 0.1193\n",
            "Epoch 23/50\n",
            "60000/60000 [==============================] - 1s 16us/step - loss: 0.1196 - val_loss: 0.1171\n",
            "Epoch 24/50\n",
            "60000/60000 [==============================] - 1s 16us/step - loss: 0.1176 - val_loss: 0.1153\n",
            "Epoch 25/50\n",
            "60000/60000 [==============================] - 1s 16us/step - loss: 0.1157 - val_loss: 0.1134\n",
            "Epoch 26/50\n",
            "60000/60000 [==============================] - 1s 16us/step - loss: 0.1139 - val_loss: 0.1117\n",
            "Epoch 27/50\n",
            "60000/60000 [==============================] - 1s 16us/step - loss: 0.1123 - val_loss: 0.1101\n",
            "Epoch 28/50\n",
            "60000/60000 [==============================] - 1s 16us/step - loss: 0.1107 - val_loss: 0.1086\n",
            "Epoch 29/50\n",
            "60000/60000 [==============================] - 1s 16us/step - loss: 0.1093 - val_loss: 0.1072\n",
            "Epoch 30/50\n",
            "60000/60000 [==============================] - 1s 16us/step - loss: 0.1080 - val_loss: 0.1059\n",
            "Epoch 31/50\n",
            "60000/60000 [==============================] - 1s 16us/step - loss: 0.1068 - val_loss: 0.1048\n",
            "Epoch 32/50\n",
            "60000/60000 [==============================] - 1s 16us/step - loss: 0.1056 - val_loss: 0.1036\n",
            "Epoch 33/50\n",
            "60000/60000 [==============================] - 1s 16us/step - loss: 0.1045 - val_loss: 0.1026\n",
            "Epoch 34/50\n",
            "60000/60000 [==============================] - 1s 16us/step - loss: 0.1035 - val_loss: 0.1017\n",
            "Epoch 35/50\n",
            "60000/60000 [==============================] - 1s 16us/step - loss: 0.1026 - val_loss: 0.1008\n",
            "Epoch 36/50\n",
            "60000/60000 [==============================] - 1s 16us/step - loss: 0.1017 - val_loss: 0.0999\n",
            "Epoch 37/50\n",
            "60000/60000 [==============================] - 1s 16us/step - loss: 0.1009 - val_loss: 0.0991\n",
            "Epoch 38/50\n",
            "60000/60000 [==============================] - 1s 16us/step - loss: 0.1002 - val_loss: 0.0984\n",
            "Epoch 39/50\n",
            "60000/60000 [==============================] - 1s 16us/step - loss: 0.0994 - val_loss: 0.0977\n",
            "Epoch 40/50\n",
            "60000/60000 [==============================] - 1s 16us/step - loss: 0.0988 - val_loss: 0.0971\n",
            "Epoch 41/50\n",
            "60000/60000 [==============================] - 1s 16us/step - loss: 0.0981 - val_loss: 0.0964\n",
            "Epoch 42/50\n",
            "60000/60000 [==============================] - 1s 16us/step - loss: 0.0975 - val_loss: 0.0959\n",
            "Epoch 43/50\n",
            "60000/60000 [==============================] - 1s 16us/step - loss: 0.0969 - val_loss: 0.0953\n",
            "Epoch 44/50\n",
            "60000/60000 [==============================] - 1s 16us/step - loss: 0.0964 - val_loss: 0.0948\n",
            "Epoch 45/50\n",
            "60000/60000 [==============================] - 1s 16us/step - loss: 0.0958 - val_loss: 0.0943\n",
            "Epoch 46/50\n",
            "60000/60000 [==============================] - 1s 16us/step - loss: 0.0953 - val_loss: 0.0938\n",
            "Epoch 47/50\n",
            "60000/60000 [==============================] - 1s 16us/step - loss: 0.0949 - val_loss: 0.0933\n",
            "Epoch 48/50\n",
            "60000/60000 [==============================] - 1s 16us/step - loss: 0.0944 - val_loss: 0.0929\n",
            "Epoch 49/50\n",
            "60000/60000 [==============================] - 1s 16us/step - loss: 0.0940 - val_loss: 0.0925\n",
            "Epoch 50/50\n",
            "60000/60000 [==============================] - 1s 16us/step - loss: 0.0935 - val_loss: 0.0920\n"
          ],
          "name": "stdout"
        },
        {
          "output_type": "execute_result",
          "data": {
            "text/plain": [
              "<keras.callbacks.History at 0x7f2bb58291d0>"
            ]
          },
          "metadata": {
            "tags": []
          },
          "execution_count": 6
        }
      ]
    },
    {
      "cell_type": "code",
      "metadata": {
        "id": "KCbqtxGfNyI8",
        "colab_type": "code",
        "colab": {}
      },
      "source": [
        "encoded_images = encoder.predict(x_test)\n",
        "decoded_images = decoder.predict(encoded_images) # takes the output from the encoder as input"
      ],
      "execution_count": 0,
      "outputs": []
    },
    {
      "cell_type": "markdown",
      "metadata": {
        "id": "YtbisopWN3aC",
        "colab_type": "text"
      },
      "source": [
        "## Results"
      ]
    },
    {
      "cell_type": "code",
      "metadata": {
        "id": "5MRakGn5N2y2",
        "colab_type": "code",
        "colab": {}
      },
      "source": [
        "def visualize_data(data, size):\n",
        "    n = 10 # number of digits that will be displayed\n",
        "    plt.figure(figsize=(20, 4))\n",
        "    plt.gray()\n",
        "    for i in range(n):\n",
        "        ax = plt.subplot(2, n, i+1)\n",
        "        plt.imshow(data[i].reshape(size, size)) # reshape the image back to its normal shape\n",
        "        # disable axis\n",
        "        ax.get_xaxis().set_visible(False)\n",
        "        ax.get_yaxis().set_visible(False)\n",
        "    plt.show()"
      ],
      "execution_count": 0,
      "outputs": []
    },
    {
      "cell_type": "code",
      "metadata": {
        "id": "31IDpCbPN8fi",
        "colab_type": "code",
        "colab": {
          "base_uri": "https://localhost:8080/",
          "height": 233
        },
        "outputId": "67be783c-1721-4122-df06-dd42ff3396ce"
      },
      "source": [
        "\n",
        "visualize_data(x_test, 28)\n",
        "visualize_data(decoded_images, 28)"
      ],
      "execution_count": 9,
      "outputs": [
        {
          "output_type": "display_data",
          "data": {
            "image/png": "[encoded data removed]",
            "text/plain": [
              "<Figure size 1440x288 with 10 Axes>"
            ]
          },
          "metadata": {
            "tags": []
          }
        },
        {
          "output_type": "display_data",
          "data": {
            "image/png": "[encoded data removed]",
            "text/plain": [
              "<Figure size 1440x288 with 10 Axes>"
            ]
          },
          "metadata": {
            "tags": []
          }
        }
      ]
    },
    {
      "cell_type": "code",
      "metadata": {
        "id": "b2bhhew_N-67",
        "colab_type": "code",
        "colab": {
          "base_uri": "https://localhost:8080/",
          "height": 125
        },
        "outputId": "af075d15-6e4d-423f-dacb-5b6eaa9e8828"
      },
      "source": [
        "visualize_data(encoded_images, 8)"
      ],
      "execution_count": 10,
      "outputs": [
        {
          "output_type": "display_data",
          "data": {
            "image/png": "[encoded data removed]",
            "text/plain": [
              "<Figure size 1440x288 with 10 Axes>"
            ]
          },
          "metadata": {
            "tags": []
          }
        }
      ]
    },
    {
      "cell_type": "markdown",
      "metadata": {
        "id": "DuO8eEFnOCiZ",
        "colab_type": "text"
      },
      "source": [
        "# 2)-Deep autoencoder"
      ]
    },
    {
      "cell_type": "code",
      "metadata": {
        "id": "-l_MeybyN_BO",
        "colab_type": "code",
        "colab": {}
      },
      "source": [
        "input_layer = Input(shape=(784,))\n",
        "encoded = Dense(128, activation='relu')(input_layer)\n",
        "encoded = Dense(64, activation='relu')(encoded)\n",
        "\n",
        "decoded = Dense(128, activation='relu')(encoded)\n",
        "decoded = Dense(784, activation='sigmoid')(decoded)"
      ],
      "execution_count": 0,
      "outputs": []
    },
    {
      "cell_type": "code",
      "metadata": {
        "id": "lXvlrQovN_Ht",
        "colab_type": "code",
        "colab": {
          "base_uri": "https://localhost:8080/",
          "height": 3410
        },
        "outputId": "2605619b-6d48-4ae5-f83c-d66ce33923a6"
      },
      "source": [
        "autoencoder = Model(input_layer, decoded)\n",
        "autoencoder.compile(optimizer='adadelta', loss='binary_crossentropy')\n",
        "\n",
        "autoencoder.fit(x_train, x_train, epochs=100,\n",
        "                batch_size=256, shuffle=True,\n",
        "                validation_data=(x_test, x_test))"
      ],
      "execution_count": 12,
      "outputs": [
        {
          "output_type": "stream",
          "text": [
            "Train on 60000 samples, validate on 10000 samples\n",
            "Epoch 1/100\n",
            "60000/60000 [==============================] - 1s 24us/step - loss: 0.3292 - val_loss: 0.2643\n",
            "Epoch 2/100\n",
            "60000/60000 [==============================] - 1s 19us/step - loss: 0.2543 - val_loss: 0.2389\n",
            "Epoch 3/100\n",
            "60000/60000 [==============================] - 1s 19us/step - loss: 0.2256 - val_loss: 0.2116\n",
            "Epoch 4/100\n",
            "60000/60000 [==============================] - 1s 19us/step - loss: 0.2021 - val_loss: 0.1911\n",
            "Epoch 5/100\n",
            "60000/60000 [==============================] - 1s 19us/step - loss: 0.1853 - val_loss: 0.1777\n",
            "Epoch 6/100\n",
            "60000/60000 [==============================] - 1s 20us/step - loss: 0.1740 - val_loss: 0.1687\n",
            "Epoch 7/100\n",
            "60000/60000 [==============================] - 1s 21us/step - loss: 0.1673 - val_loss: 0.1653\n",
            "Epoch 8/100\n",
            "60000/60000 [==============================] - 1s 22us/step - loss: 0.1624 - val_loss: 0.1580\n",
            "Epoch 9/100\n",
            "60000/60000 [==============================] - 1s 22us/step - loss: 0.1574 - val_loss: 0.1547\n",
            "Epoch 10/100\n",
            "60000/60000 [==============================] - 1s 22us/step - loss: 0.1515 - val_loss: 0.1502\n",
            "Epoch 11/100\n",
            "60000/60000 [==============================] - 1s 22us/step - loss: 0.1457 - val_loss: 0.1413\n",
            "Epoch 12/100\n",
            "60000/60000 [==============================] - 1s 22us/step - loss: 0.1412 - val_loss: 0.1374\n",
            "Epoch 13/100\n",
            "60000/60000 [==============================] - 1s 21us/step - loss: 0.1375 - val_loss: 0.1343\n",
            "Epoch 14/100\n",
            "60000/60000 [==============================] - 1s 21us/step - loss: 0.1345 - val_loss: 0.1323\n",
            "Epoch 15/100\n",
            "60000/60000 [==============================] - 1s 19us/step - loss: 0.1315 - val_loss: 0.1271\n",
            "Epoch 16/100\n",
            "60000/60000 [==============================] - 1s 19us/step - loss: 0.1288 - val_loss: 0.1269\n",
            "Epoch 17/100\n",
            "60000/60000 [==============================] - 1s 19us/step - loss: 0.1263 - val_loss: 0.1234\n",
            "Epoch 18/100\n",
            "60000/60000 [==============================] - 1s 19us/step - loss: 0.1237 - val_loss: 0.1209\n",
            "Epoch 19/100\n",
            "60000/60000 [==============================] - 1s 19us/step - loss: 0.1216 - val_loss: 0.1193\n",
            "Epoch 20/100\n",
            "60000/60000 [==============================] - 1s 19us/step - loss: 0.1193 - val_loss: 0.1177\n",
            "Epoch 21/100\n",
            "60000/60000 [==============================] - 1s 19us/step - loss: 0.1177 - val_loss: 0.1157\n",
            "Epoch 22/100\n",
            "60000/60000 [==============================] - 1s 19us/step - loss: 0.1161 - val_loss: 0.1135\n",
            "Epoch 23/100\n",
            "60000/60000 [==============================] - 1s 19us/step - loss: 0.1145 - val_loss: 0.1133\n",
            "Epoch 24/100\n",
            "60000/60000 [==============================] - 1s 19us/step - loss: 0.1134 - val_loss: 0.1121\n",
            "Epoch 25/100\n",
            "60000/60000 [==============================] - 1s 19us/step - loss: 0.1122 - val_loss: 0.1110\n",
            "Epoch 26/100\n",
            "60000/60000 [==============================] - 1s 19us/step - loss: 0.1110 - val_loss: 0.1094\n",
            "Epoch 27/100\n",
            "60000/60000 [==============================] - 1s 19us/step - loss: 0.1100 - val_loss: 0.1087\n",
            "Epoch 28/100\n",
            "60000/60000 [==============================] - 1s 19us/step - loss: 0.1090 - val_loss: 0.1073\n",
            "Epoch 29/100\n",
            "60000/60000 [==============================] - 1s 19us/step - loss: 0.1080 - val_loss: 0.1057\n",
            "Epoch 30/100\n",
            "60000/60000 [==============================] - 1s 19us/step - loss: 0.1073 - val_loss: 0.1051\n",
            "Epoch 31/100\n",
            "60000/60000 [==============================] - 1s 19us/step - loss: 0.1065 - val_loss: 0.1039\n",
            "Epoch 32/100\n",
            "60000/60000 [==============================] - 1s 19us/step - loss: 0.1057 - val_loss: 0.1052\n",
            "Epoch 33/100\n",
            "60000/60000 [==============================] - 1s 19us/step - loss: 0.1049 - val_loss: 0.1037\n",
            "Epoch 34/100\n",
            "60000/60000 [==============================] - 1s 19us/step - loss: 0.1041 - val_loss: 0.1019\n",
            "Epoch 35/100\n",
            "60000/60000 [==============================] - 1s 19us/step - loss: 0.1035 - val_loss: 0.1025\n",
            "Epoch 36/100\n",
            "60000/60000 [==============================] - 1s 19us/step - loss: 0.1028 - val_loss: 0.1013\n",
            "Epoch 37/100\n",
            "60000/60000 [==============================] - 1s 19us/step - loss: 0.1021 - val_loss: 0.1004\n",
            "Epoch 38/100\n",
            "60000/60000 [==============================] - 1s 19us/step - loss: 0.1016 - val_loss: 0.1018\n",
            "Epoch 39/100\n",
            "60000/60000 [==============================] - 1s 19us/step - loss: 0.1010 - val_loss: 0.1005\n",
            "Epoch 40/100\n",
            "60000/60000 [==============================] - 1s 19us/step - loss: 0.1005 - val_loss: 0.0983\n",
            "Epoch 41/100\n",
            "60000/60000 [==============================] - 1s 19us/step - loss: 0.0999 - val_loss: 0.0985\n",
            "Epoch 42/100\n",
            "60000/60000 [==============================] - 1s 19us/step - loss: 0.0996 - val_loss: 0.0993\n",
            "Epoch 43/100\n",
            "60000/60000 [==============================] - 1s 19us/step - loss: 0.0990 - val_loss: 0.0967\n",
            "Epoch 44/100\n",
            "60000/60000 [==============================] - 1s 19us/step - loss: 0.0985 - val_loss: 0.0976\n",
            "Epoch 45/100\n",
            "60000/60000 [==============================] - 1s 19us/step - loss: 0.0982 - val_loss: 0.0963\n",
            "Epoch 46/100\n",
            "60000/60000 [==============================] - 1s 19us/step - loss: 0.0977 - val_loss: 0.0963\n",
            "Epoch 47/100\n",
            "60000/60000 [==============================] - 1s 19us/step - loss: 0.0977 - val_loss: 0.0958\n",
            "Epoch 48/100\n",
            "60000/60000 [==============================] - 1s 19us/step - loss: 0.0971 - val_loss: 0.0957\n",
            "Epoch 49/100\n",
            "60000/60000 [==============================] - 1s 19us/step - loss: 0.0968 - val_loss: 0.0973\n",
            "Epoch 50/100\n",
            "60000/60000 [==============================] - 1s 19us/step - loss: 0.0965 - val_loss: 0.0950\n",
            "Epoch 51/100\n",
            "60000/60000 [==============================] - 1s 19us/step - loss: 0.0963 - val_loss: 0.0950\n",
            "Epoch 52/100\n",
            "60000/60000 [==============================] - 1s 19us/step - loss: 0.0960 - val_loss: 0.0944\n",
            "Epoch 53/100\n",
            "60000/60000 [==============================] - 1s 19us/step - loss: 0.0956 - val_loss: 0.0947\n",
            "Epoch 54/100\n",
            "60000/60000 [==============================] - 1s 19us/step - loss: 0.0953 - val_loss: 0.0945\n",
            "Epoch 55/100\n",
            "60000/60000 [==============================] - 1s 19us/step - loss: 0.0950 - val_loss: 0.0950\n",
            "Epoch 56/100\n",
            "60000/60000 [==============================] - 1s 19us/step - loss: 0.0949 - val_loss: 0.0930\n",
            "Epoch 57/100\n",
            "60000/60000 [==============================] - 1s 19us/step - loss: 0.0945 - val_loss: 0.0938\n",
            "Epoch 58/100\n",
            "60000/60000 [==============================] - 1s 19us/step - loss: 0.0943 - val_loss: 0.0943\n",
            "Epoch 59/100\n",
            "60000/60000 [==============================] - 1s 19us/step - loss: 0.0940 - val_loss: 0.0931\n",
            "Epoch 60/100\n",
            "60000/60000 [==============================] - 1s 19us/step - loss: 0.0936 - val_loss: 0.0920\n",
            "Epoch 61/100\n",
            "60000/60000 [==============================] - 1s 19us/step - loss: 0.0934 - val_loss: 0.0928\n",
            "Epoch 62/100\n",
            "60000/60000 [==============================] - 1s 19us/step - loss: 0.0932 - val_loss: 0.0918\n",
            "Epoch 63/100\n",
            "60000/60000 [==============================] - 1s 19us/step - loss: 0.0930 - val_loss: 0.0913\n",
            "Epoch 64/100\n",
            "60000/60000 [==============================] - 1s 19us/step - loss: 0.0926 - val_loss: 0.0912\n",
            "Epoch 65/100\n",
            "60000/60000 [==============================] - 1s 19us/step - loss: 0.0925 - val_loss: 0.0914\n",
            "Epoch 66/100\n",
            "60000/60000 [==============================] - 1s 19us/step - loss: 0.0921 - val_loss: 0.0911\n",
            "Epoch 67/100\n",
            "60000/60000 [==============================] - 1s 19us/step - loss: 0.0921 - val_loss: 0.0910\n",
            "Epoch 68/100\n",
            "60000/60000 [==============================] - 1s 19us/step - loss: 0.0916 - val_loss: 0.0905\n",
            "Epoch 69/100\n",
            "60000/60000 [==============================] - 1s 19us/step - loss: 0.0916 - val_loss: 0.0904\n",
            "Epoch 70/100\n",
            "60000/60000 [==============================] - 1s 19us/step - loss: 0.0912 - val_loss: 0.0900\n",
            "Epoch 71/100\n",
            "60000/60000 [==============================] - 1s 19us/step - loss: 0.0911 - val_loss: 0.0898\n",
            "Epoch 72/100\n",
            "60000/60000 [==============================] - 1s 19us/step - loss: 0.0909 - val_loss: 0.0900\n",
            "Epoch 73/100\n",
            "60000/60000 [==============================] - 1s 19us/step - loss: 0.0907 - val_loss: 0.0897\n",
            "Epoch 74/100\n",
            "60000/60000 [==============================] - 1s 19us/step - loss: 0.0906 - val_loss: 0.0893\n",
            "Epoch 75/100\n",
            "60000/60000 [==============================] - 1s 19us/step - loss: 0.0904 - val_loss: 0.0899\n",
            "Epoch 76/100\n",
            "60000/60000 [==============================] - 1s 22us/step - loss: 0.0901 - val_loss: 0.0901\n",
            "Epoch 77/100\n",
            "60000/60000 [==============================] - 1s 21us/step - loss: 0.0900 - val_loss: 0.0895\n",
            "Epoch 78/100\n",
            "60000/60000 [==============================] - 1s 22us/step - loss: 0.0898 - val_loss: 0.0893\n",
            "Epoch 79/100\n",
            "60000/60000 [==============================] - 1s 22us/step - loss: 0.0896 - val_loss: 0.0894\n",
            "Epoch 80/100\n",
            "60000/60000 [==============================] - 1s 22us/step - loss: 0.0895 - val_loss: 0.0886\n",
            "Epoch 81/100\n",
            "60000/60000 [==============================] - 1s 22us/step - loss: 0.0893 - val_loss: 0.0888\n",
            "Epoch 82/100\n",
            "60000/60000 [==============================] - 1s 22us/step - loss: 0.0892 - val_loss: 0.0878\n",
            "Epoch 83/100\n",
            "60000/60000 [==============================] - 1s 21us/step - loss: 0.0889 - val_loss: 0.0883\n",
            "Epoch 84/100\n",
            "60000/60000 [==============================] - 1s 19us/step - loss: 0.0888 - val_loss: 0.0879\n",
            "Epoch 85/100\n",
            "60000/60000 [==============================] - 1s 19us/step - loss: 0.0888 - val_loss: 0.0876\n",
            "Epoch 86/100\n",
            "60000/60000 [==============================] - 1s 19us/step - loss: 0.0885 - val_loss: 0.0871\n",
            "Epoch 87/100\n",
            "60000/60000 [==============================] - 1s 19us/step - loss: 0.0884 - val_loss: 0.0872\n",
            "Epoch 88/100\n",
            "60000/60000 [==============================] - 1s 22us/step - loss: 0.0883 - val_loss: 0.0877\n",
            "Epoch 89/100\n",
            "60000/60000 [==============================] - 1s 23us/step - loss: 0.0880 - val_loss: 0.0872\n",
            "Epoch 90/100\n",
            "60000/60000 [==============================] - 1s 22us/step - loss: 0.0881 - val_loss: 0.0871\n",
            "Epoch 91/100\n",
            "60000/60000 [==============================] - 1s 22us/step - loss: 0.0878 - val_loss: 0.0867\n",
            "Epoch 92/100\n",
            "60000/60000 [==============================] - 1s 23us/step - loss: 0.0877 - val_loss: 0.0866\n",
            "Epoch 93/100\n",
            "60000/60000 [==============================] - 1s 22us/step - loss: 0.0876 - val_loss: 0.0865\n",
            "Epoch 94/100\n",
            "60000/60000 [==============================] - 1s 23us/step - loss: 0.0875 - val_loss: 0.0865\n",
            "Epoch 95/100\n",
            "60000/60000 [==============================] - 1s 22us/step - loss: 0.0873 - val_loss: 0.0863\n",
            "Epoch 96/100\n",
            "60000/60000 [==============================] - 1s 19us/step - loss: 0.0872 - val_loss: 0.0865\n",
            "Epoch 97/100\n",
            "60000/60000 [==============================] - 1s 19us/step - loss: 0.0871 - val_loss: 0.0860\n",
            "Epoch 98/100\n",
            "60000/60000 [==============================] - 1s 19us/step - loss: 0.0870 - val_loss: 0.0865\n",
            "Epoch 99/100\n",
            "60000/60000 [==============================] - 1s 19us/step - loss: 0.0869 - val_loss: 0.0862\n",
            "Epoch 100/100\n",
            "60000/60000 [==============================] - 1s 19us/step - loss: 0.0867 - val_loss: 0.0858\n"
          ],
          "name": "stdout"
        },
        {
          "output_type": "execute_result",
          "data": {
            "text/plain": [
              "<keras.callbacks.History at 0x7f2b4c728b70>"
            ]
          },
          "metadata": {
            "tags": []
          },
          "execution_count": 12
        }
      ]
    },
    {
      "cell_type": "code",
      "metadata": {
        "id": "WOlM-4oiN_NY",
        "colab_type": "code",
        "colab": {}
      },
      "source": [
        "autoencoded_images = autoencoder.predict(x_test)"
      ],
      "execution_count": 0,
      "outputs": []
    },
    {
      "cell_type": "code",
      "metadata": {
        "id": "MZEdM9PEOORZ",
        "colab_type": "code",
        "colab": {
          "base_uri": "https://localhost:8080/",
          "height": 233
        },
        "outputId": "110f1056-35f5-4fe7-9aa1-ec7d8f6260d9"
      },
      "source": [
        "visualize_data(x_test, 28)\n",
        "visualize_data(autoencoded_images, 28)"
      ],
      "execution_count": 14,
      "outputs": [
        {
          "output_type": "display_data",
          "data": {
            "image/png": "[encoded data removed]",
            "text/plain": [
              "<Figure size 1440x288 with 10 Axes>"
            ]
          },
          "metadata": {
            "tags": []
          }
        },
        {
          "output_type": "display_data",
          "data": {
            "image/png": "[encoded data removed]",
            "text/plain": [
              "<Figure size 1440x288 with 10 Axes>"
            ]
          },
          "metadata": {
            "tags": []
          }
        }
      ]
    },
    {
      "cell_type": "markdown",
      "metadata": {
        "id": "vwzTtsebO8Th",
        "colab_type": "text"
      },
      "source": [
        "# 3)-Convolutional autoencoder"
      ]
    },
    {
      "cell_type": "code",
      "metadata": {
        "id": "KnrVe6TROOam",
        "colab_type": "code",
        "colab": {
          "base_uri": "https://localhost:8080/",
          "height": 50
        },
        "outputId": "b3769849-a224-4438-fd98-ae84cea34f15"
      },
      "source": [
        "# Reshape data for Convolutional Layer\n",
        "x_train = x_train.reshape(len(x_train), 28, 28, 1)\n",
        "x_test = x_test.reshape(len(x_test), 28, 28, 1)\n",
        "print('Training data shape:', x_train.shape)\n",
        "print('Testing data shape:', x_test.shape)"
      ],
      "execution_count": 15,
      "outputs": [
        {
          "output_type": "stream",
          "text": [
            "Training data shape: (60000, 28, 28, 1)\n",
            "Testing data shape: (10000, 28, 28, 1)\n"
          ],
          "name": "stdout"
        }
      ]
    },
    {
      "cell_type": "code",
      "metadata": {
        "id": "PhLumEu4OOLn",
        "colab_type": "code",
        "colab": {}
      },
      "source": [
        "input_layer = Input(shape=(28, 28, 1))\n",
        "\n",
        "x = Conv2D(16, (3, 3), activation='relu', padding='same')(input_layer)\n",
        "x = MaxPooling2D((2, 2), padding='same')(x)\n",
        "x = Conv2D(8, (3, 3), activation='relu', padding='same')(x)\n",
        "x = MaxPooling2D((2, 2), padding='same')(x)\n",
        "x = Conv2D(8, (3, 3), activation='relu', padding='same')(x)\n",
        "encoded = MaxPooling2D((2,2), padding='same')(x)\n",
        "\n",
        "# encoded representation is (4, 4, 8) i.e. 128-dimensional \n",
        "\n",
        "x = Conv2D(8, (3, 3), activation='relu', padding='same')(encoded)\n",
        "x = UpSampling2D((2, 2))(x)\n",
        "x = Conv2D(8, (3, 3), activation='relu', padding='same')(x)\n",
        "x = UpSampling2D((2, 2))(x)\n",
        "x = Conv2D(16, (3, 3), activation='relu')(x)\n",
        "x = UpSampling2D((2, 2))(x)\n",
        "decoded = Conv2D(1, (3, 3), activation='sigmoid', padding='same')(x)"
      ],
      "execution_count": 0,
      "outputs": []
    },
    {
      "cell_type": "code",
      "metadata": {
        "id": "7I-ffBI_PELy",
        "colab_type": "code",
        "colab": {}
      },
      "source": [
        "autoencoder = Model(input_layer, decoded)\n",
        "autoencoder.compile(loss='binary_crossentropy', optimizer='adadelta')"
      ],
      "execution_count": 0,
      "outputs": []
    },
    {
      "cell_type": "code",
      "metadata": {
        "id": "ag1GCEUZPEaD",
        "colab_type": "code",
        "colab": {
          "base_uri": "https://localhost:8080/",
          "height": 1730
        },
        "outputId": "09cf1abb-69aa-4ef6-9810-e6a49f551136"
      },
      "source": [
        "autoencoder.fit(x_train, x_train, epochs=50, \n",
        "                batch_size=128, shuffle=True,\n",
        "                validation_data=(x_test, x_test))"
      ],
      "execution_count": 18,
      "outputs": [
        {
          "output_type": "stream",
          "text": [
            "Train on 60000 samples, validate on 10000 samples\n",
            "Epoch 1/50\n",
            "60000/60000 [==============================] - 6s 92us/step - loss: 0.2117 - val_loss: 0.1763\n",
            "Epoch 2/50\n",
            "60000/60000 [==============================] - 3s 56us/step - loss: 0.1604 - val_loss: 0.1478\n",
            "Epoch 3/50\n",
            "60000/60000 [==============================] - 3s 56us/step - loss: 0.1453 - val_loss: 0.1372\n",
            "Epoch 4/50\n",
            "60000/60000 [==============================] - 3s 56us/step - loss: 0.1364 - val_loss: 0.1306\n",
            "Epoch 5/50\n",
            "60000/60000 [==============================] - 3s 56us/step - loss: 0.1307 - val_loss: 0.1303\n",
            "Epoch 6/50\n",
            "60000/60000 [==============================] - 3s 56us/step - loss: 0.1266 - val_loss: 0.1231\n",
            "Epoch 7/50\n",
            "60000/60000 [==============================] - 3s 56us/step - loss: 0.1235 - val_loss: 0.1214\n",
            "Epoch 8/50\n",
            "60000/60000 [==============================] - 3s 56us/step - loss: 0.1211 - val_loss: 0.1184\n",
            "Epoch 9/50\n",
            "60000/60000 [==============================] - 3s 56us/step - loss: 0.1192 - val_loss: 0.1233\n",
            "Epoch 10/50\n",
            "60000/60000 [==============================] - 3s 56us/step - loss: 0.1174 - val_loss: 0.1166\n",
            "Epoch 11/50\n",
            "60000/60000 [==============================] - 3s 56us/step - loss: 0.1162 - val_loss: 0.1130\n",
            "Epoch 12/50\n",
            "60000/60000 [==============================] - 3s 56us/step - loss: 0.1149 - val_loss: 0.1114\n",
            "Epoch 13/50\n",
            "60000/60000 [==============================] - 3s 56us/step - loss: 0.1134 - val_loss: 0.1115\n",
            "Epoch 14/50\n",
            "60000/60000 [==============================] - 4s 61us/step - loss: 0.1124 - val_loss: 0.1141\n",
            "Epoch 15/50\n",
            "60000/60000 [==============================] - 4s 64us/step - loss: 0.1117 - val_loss: 0.1090\n",
            "Epoch 16/50\n",
            "60000/60000 [==============================] - 4s 64us/step - loss: 0.1108 - val_loss: 0.1100\n",
            "Epoch 17/50\n",
            "60000/60000 [==============================] - 3s 56us/step - loss: 0.1103 - val_loss: 0.1063\n",
            "Epoch 18/50\n",
            "60000/60000 [==============================] - 3s 56us/step - loss: 0.1095 - val_loss: 0.1099\n",
            "Epoch 19/50\n",
            "60000/60000 [==============================] - 3s 56us/step - loss: 0.1087 - val_loss: 0.1067\n",
            "Epoch 20/50\n",
            "60000/60000 [==============================] - 4s 63us/step - loss: 0.1079 - val_loss: 0.1073\n",
            "Epoch 21/50\n",
            "60000/60000 [==============================] - 4s 62us/step - loss: 0.1077 - val_loss: 0.1098\n",
            "Epoch 22/50\n",
            "60000/60000 [==============================] - 3s 56us/step - loss: 0.1071 - val_loss: 0.1051\n",
            "Epoch 23/50\n",
            "60000/60000 [==============================] - 3s 56us/step - loss: 0.1065 - val_loss: 0.1042\n",
            "Epoch 24/50\n",
            "60000/60000 [==============================] - 3s 56us/step - loss: 0.1061 - val_loss: 0.1029\n",
            "Epoch 25/50\n",
            "60000/60000 [==============================] - 3s 56us/step - loss: 0.1056 - val_loss: 0.1057\n",
            "Epoch 26/50\n",
            "60000/60000 [==============================] - 3s 56us/step - loss: 0.1054 - val_loss: 0.1013\n",
            "Epoch 27/50\n",
            "60000/60000 [==============================] - 3s 56us/step - loss: 0.1049 - val_loss: 0.1016\n",
            "Epoch 28/50\n",
            "60000/60000 [==============================] - 3s 56us/step - loss: 0.1045 - val_loss: 0.1056\n",
            "Epoch 29/50\n",
            "60000/60000 [==============================] - 3s 56us/step - loss: 0.1043 - val_loss: 0.1016\n",
            "Epoch 30/50\n",
            "60000/60000 [==============================] - 3s 56us/step - loss: 0.1040 - val_loss: 0.1014\n",
            "Epoch 31/50\n",
            "60000/60000 [==============================] - 3s 56us/step - loss: 0.1035 - val_loss: 0.1046\n",
            "Epoch 32/50\n",
            "60000/60000 [==============================] - 3s 56us/step - loss: 0.1033 - val_loss: 0.1018\n",
            "Epoch 33/50\n",
            "60000/60000 [==============================] - 3s 56us/step - loss: 0.1030 - val_loss: 0.1034\n",
            "Epoch 34/50\n",
            "60000/60000 [==============================] - 3s 56us/step - loss: 0.1026 - val_loss: 0.0993\n",
            "Epoch 35/50\n",
            "60000/60000 [==============================] - 3s 56us/step - loss: 0.1026 - val_loss: 0.1030\n",
            "Epoch 36/50\n",
            "60000/60000 [==============================] - 3s 56us/step - loss: 0.1023 - val_loss: 0.1020\n",
            "Epoch 37/50\n",
            "60000/60000 [==============================] - 3s 58us/step - loss: 0.1021 - val_loss: 0.0994\n",
            "Epoch 38/50\n",
            "60000/60000 [==============================] - 4s 64us/step - loss: 0.1019 - val_loss: 0.1017\n",
            "Epoch 39/50\n",
            "60000/60000 [==============================] - 4s 64us/step - loss: 0.1015 - val_loss: 0.1014\n",
            "Epoch 40/50\n",
            "60000/60000 [==============================] - 4s 59us/step - loss: 0.1014 - val_loss: 0.1008\n",
            "Epoch 41/50\n",
            "60000/60000 [==============================] - 3s 56us/step - loss: 0.1011 - val_loss: 0.1023\n",
            "Epoch 42/50\n",
            "60000/60000 [==============================] - 3s 56us/step - loss: 0.1008 - val_loss: 0.0991\n",
            "Epoch 43/50\n",
            "60000/60000 [==============================] - 3s 56us/step - loss: 0.1008 - val_loss: 0.1005\n",
            "Epoch 44/50\n",
            "60000/60000 [==============================] - 3s 56us/step - loss: 0.1006 - val_loss: 0.0984\n",
            "Epoch 45/50\n",
            "60000/60000 [==============================] - 3s 56us/step - loss: 0.1005 - val_loss: 0.0971\n",
            "Epoch 46/50\n",
            "60000/60000 [==============================] - 3s 56us/step - loss: 0.1002 - val_loss: 0.0978\n",
            "Epoch 47/50\n",
            "60000/60000 [==============================] - 3s 55us/step - loss: 0.1003 - val_loss: 0.1010\n",
            "Epoch 48/50\n",
            "60000/60000 [==============================] - 3s 56us/step - loss: 0.1001 - val_loss: 0.0987\n",
            "Epoch 49/50\n",
            "60000/60000 [==============================] - 3s 56us/step - loss: 0.0999 - val_loss: 0.0982\n",
            "Epoch 50/50\n",
            "60000/60000 [==============================] - 3s 56us/step - loss: 0.0996 - val_loss: 0.0999\n"
          ],
          "name": "stdout"
        },
        {
          "output_type": "execute_result",
          "data": {
            "text/plain": [
              "<keras.callbacks.History at 0x7f2b60213390>"
            ]
          },
          "metadata": {
            "tags": []
          },
          "execution_count": 18
        }
      ]
    },
    {
      "cell_type": "code",
      "metadata": {
        "id": "INIMV7ktPLfj",
        "colab_type": "code",
        "colab": {}
      },
      "source": [
        "autoencoded_images = autoencoder.predict(x_test)"
      ],
      "execution_count": 0,
      "outputs": []
    },
    {
      "cell_type": "code",
      "metadata": {
        "id": "uIfpYh2PPLuO",
        "colab_type": "code",
        "colab": {
          "base_uri": "https://localhost:8080/",
          "height": 233
        },
        "outputId": "2c422f19-7bff-40a5-de41-06d5d47b8570"
      },
      "source": [
        "visualize_data(x_test, 28)\n",
        "visualize_data(autoencoded_images, 28)"
      ],
      "execution_count": 20,
      "outputs": [
        {
          "output_type": "display_data",
          "data": {
            "image/png": "[encoded data removed]",
            "text/plain": [
              "<Figure size 1440x288 with 10 Axes>"
            ]
          },
          "metadata": {
            "tags": []
          }
        },
        {
          "output_type": "display_data",
          "data": {
            "image/png": "[encoded data removed]",
            "text/plain": [
              "<Figure size 1440x288 with 10 Axes>"
            ]
          },
          "metadata": {
            "tags": []
          }
        }
      ]
    },
    {
      "cell_type": "markdown",
      "metadata": {
        "id": "TngrPJdiPPWa",
        "colab_type": "text"
      },
      "source": [
        "# 4)-Image denoising"
      ]
    },
    {
      "cell_type": "markdown",
      "metadata": {
        "id": "s82ALeI3PWke",
        "colab_type": "text"
      },
      "source": [
        "### Creating noisy data"
      ]
    },
    {
      "cell_type": "code",
      "metadata": {
        "id": "qtjYlG4FPL3u",
        "colab_type": "code",
        "colab": {}
      },
      "source": [
        "noise_factor = 0.5\n",
        "x_train_noisy = x_train + noise_factor * np.random.normal(loc=0.0, scale=1.0, size=x_train.shape) \n",
        "x_test_noisy = x_test + noise_factor * np.random.normal(loc=0.0, scale=1.0, size=x_test.shape) \n",
        "\n",
        "x_train_noisy = np.clip(x_train_noisy, 0., 1.)\n",
        "x_test_noisy = np.clip(x_test_noisy, 0., 1.)"
      ],
      "execution_count": 0,
      "outputs": []
    },
    {
      "cell_type": "code",
      "metadata": {
        "id": "g7cv3OxnPLq1",
        "colab_type": "code",
        "colab": {
          "base_uri": "https://localhost:8080/",
          "height": 125
        },
        "outputId": "fd9282be-5612-489c-981f-1d230282b2f8"
      },
      "source": [
        "visualize_data(x_test_noisy, 28)"
      ],
      "execution_count": 22,
      "outputs": [
        {
          "output_type": "display_data",
          "data": {
            "image/png": "[encoded data removed]",
            "text/plain": [
              "<Figure size 1440x288 with 10 Axes>"
            ]
          },
          "metadata": {
            "tags": []
          }
        }
      ]
    },
    {
      "cell_type": "markdown",
      "metadata": {
        "id": "dcMVYVfAPhVq",
        "colab_type": "text"
      },
      "source": [
        "### improving the quality of the image"
      ]
    },
    {
      "cell_type": "code",
      "metadata": {
        "id": "544tFRcxPerL",
        "colab_type": "code",
        "colab": {}
      },
      "source": [
        "input_layer = Input(shape=(28, 28, 1))\n",
        "\n",
        "x = Conv2D(32, (3, 3), activation='relu', padding='same')(input_layer)\n",
        "x = MaxPooling2D((2, 2), padding='same')(x)\n",
        "x = Conv2D(32, (3, 3), activation='relu', padding='same')(x)\n",
        "encoded = MaxPooling2D((2, 2), padding='same')(x)\n",
        "\n",
        "# at this point the representation is (7, 7, 32)\n",
        "\n",
        "x = Conv2D(32, (3, 3), activation='relu', padding='same')(encoded)\n",
        "x = UpSampling2D((2, 2))(x)\n",
        "x = Conv2D(32, (3, 3), activation='relu', padding='same')(x)\n",
        "x = UpSampling2D((2, 2))(x)\n",
        "decoded = Conv2D(1, (3, 3), activation='sigmoid', padding='same')(x)"
      ],
      "execution_count": 0,
      "outputs": []
    },
    {
      "cell_type": "code",
      "metadata": {
        "id": "S-_XpVLNPe2E",
        "colab_type": "code",
        "colab": {}
      },
      "source": [
        "autoencoder = Model(input_layer, decoded)\n",
        "autoencoder.compile(optimizer='adadelta', loss='binary_crossentropy')"
      ],
      "execution_count": 0,
      "outputs": []
    },
    {
      "cell_type": "code",
      "metadata": {
        "id": "UErtevRKPLmN",
        "colab_type": "code",
        "colab": {
          "base_uri": "https://localhost:8080/",
          "height": 3410
        },
        "outputId": "ba5271d8-e625-412f-eb55-d0673fe02350"
      },
      "source": [
        "autoencoder.fit(x_train_noisy, x_train, epochs=100, \n",
        "                batch_size=128, shuffle=True,\n",
        "                validation_data=(x_test_noisy, x_test))"
      ],
      "execution_count": 25,
      "outputs": [
        {
          "output_type": "stream",
          "text": [
            "Train on 60000 samples, validate on 10000 samples\n",
            "Epoch 1/100\n",
            "60000/60000 [==============================] - 4s 70us/step - loss: 0.1833 - val_loss: 0.1284\n",
            "Epoch 2/100\n",
            "60000/60000 [==============================] - 4s 59us/step - loss: 0.1203 - val_loss: 0.1117\n",
            "Epoch 3/100\n",
            "60000/60000 [==============================] - 4s 59us/step - loss: 0.1124 - val_loss: 0.1067\n",
            "Epoch 4/100\n",
            "60000/60000 [==============================] - 4s 59us/step - loss: 0.1086 - val_loss: 0.1048\n",
            "Epoch 5/100\n",
            "60000/60000 [==============================] - 4s 59us/step - loss: 0.1062 - val_loss: 0.1036\n",
            "Epoch 6/100\n",
            "60000/60000 [==============================] - 4s 59us/step - loss: 0.1046 - val_loss: 0.1024\n",
            "Epoch 7/100\n",
            "60000/60000 [==============================] - 4s 59us/step - loss: 0.1035 - val_loss: 0.1016\n",
            "Epoch 8/100\n",
            "60000/60000 [==============================] - 4s 59us/step - loss: 0.1027 - val_loss: 0.1015\n",
            "Epoch 9/100\n",
            "60000/60000 [==============================] - 4s 63us/step - loss: 0.1020 - val_loss: 0.1022\n",
            "Epoch 10/100\n",
            "60000/60000 [==============================] - 4s 63us/step - loss: 0.1015 - val_loss: 0.1006\n",
            "Epoch 11/100\n",
            "60000/60000 [==============================] - 4s 62us/step - loss: 0.1011 - val_loss: 0.1014\n",
            "Epoch 12/100\n",
            "60000/60000 [==============================] - 4s 59us/step - loss: 0.1008 - val_loss: 0.1011\n",
            "Epoch 13/100\n",
            "60000/60000 [==============================] - 4s 59us/step - loss: 0.1003 - val_loss: 0.0993\n",
            "Epoch 14/100\n",
            "60000/60000 [==============================] - 4s 59us/step - loss: 0.1000 - val_loss: 0.0993\n",
            "Epoch 15/100\n",
            "60000/60000 [==============================] - 4s 59us/step - loss: 0.0998 - val_loss: 0.0992\n",
            "Epoch 16/100\n",
            "60000/60000 [==============================] - 4s 59us/step - loss: 0.0995 - val_loss: 0.0981\n",
            "Epoch 17/100\n",
            "60000/60000 [==============================] - 4s 59us/step - loss: 0.0993 - val_loss: 0.0998\n",
            "Epoch 18/100\n",
            "60000/60000 [==============================] - 4s 59us/step - loss: 0.0991 - val_loss: 0.0979\n",
            "Epoch 19/100\n",
            "60000/60000 [==============================] - 4s 59us/step - loss: 0.0989 - val_loss: 0.0976\n",
            "Epoch 20/100\n",
            "60000/60000 [==============================] - 4s 59us/step - loss: 0.0987 - val_loss: 0.0975\n",
            "Epoch 21/100\n",
            "60000/60000 [==============================] - 4s 59us/step - loss: 0.0986 - val_loss: 0.0980\n",
            "Epoch 22/100\n",
            "60000/60000 [==============================] - 4s 59us/step - loss: 0.0984 - val_loss: 0.0976\n",
            "Epoch 23/100\n",
            "60000/60000 [==============================] - 4s 59us/step - loss: 0.0983 - val_loss: 0.0971\n",
            "Epoch 24/100\n",
            "60000/60000 [==============================] - 4s 59us/step - loss: 0.0981 - val_loss: 0.0980\n",
            "Epoch 25/100\n",
            "60000/60000 [==============================] - 4s 59us/step - loss: 0.0981 - val_loss: 0.0976\n",
            "Epoch 26/100\n",
            "60000/60000 [==============================] - 4s 59us/step - loss: 0.0979 - val_loss: 0.0971\n",
            "Epoch 27/100\n",
            "60000/60000 [==============================] - 4s 59us/step - loss: 0.0978 - val_loss: 0.0982\n",
            "Epoch 28/100\n",
            "60000/60000 [==============================] - 4s 59us/step - loss: 0.0978 - val_loss: 0.0987\n",
            "Epoch 29/100\n",
            "60000/60000 [==============================] - 4s 59us/step - loss: 0.0976 - val_loss: 0.0967\n",
            "Epoch 30/100\n",
            "60000/60000 [==============================] - 4s 59us/step - loss: 0.0976 - val_loss: 0.0984\n",
            "Epoch 31/100\n",
            "60000/60000 [==============================] - 4s 60us/step - loss: 0.0975 - val_loss: 0.0969\n",
            "Epoch 32/100\n",
            "60000/60000 [==============================] - 4s 64us/step - loss: 0.0974 - val_loss: 0.0967\n",
            "Epoch 33/100\n",
            "60000/60000 [==============================] - 4s 65us/step - loss: 0.0972 - val_loss: 0.0970\n",
            "Epoch 34/100\n",
            "60000/60000 [==============================] - 4s 65us/step - loss: 0.0972 - val_loss: 0.0979\n",
            "Epoch 35/100\n",
            "60000/60000 [==============================] - 4s 62us/step - loss: 0.0972 - val_loss: 0.0973\n",
            "Epoch 36/100\n",
            "60000/60000 [==============================] - 4s 59us/step - loss: 0.0971 - val_loss: 0.0962\n",
            "Epoch 37/100\n",
            "60000/60000 [==============================] - 4s 59us/step - loss: 0.0971 - val_loss: 0.0963\n",
            "Epoch 38/100\n",
            "60000/60000 [==============================] - 4s 59us/step - loss: 0.0968 - val_loss: 0.0962\n",
            "Epoch 39/100\n",
            "60000/60000 [==============================] - 4s 59us/step - loss: 0.0969 - val_loss: 0.0967\n",
            "Epoch 40/100\n",
            "60000/60000 [==============================] - 4s 59us/step - loss: 0.0967 - val_loss: 0.0968\n",
            "Epoch 41/100\n",
            "60000/60000 [==============================] - 4s 59us/step - loss: 0.0967 - val_loss: 0.0973\n",
            "Epoch 42/100\n",
            "60000/60000 [==============================] - 4s 59us/step - loss: 0.0967 - val_loss: 0.0969\n",
            "Epoch 43/100\n",
            "60000/60000 [==============================] - 4s 59us/step - loss: 0.0966 - val_loss: 0.0960\n",
            "Epoch 44/100\n",
            "60000/60000 [==============================] - 4s 59us/step - loss: 0.0966 - val_loss: 0.0964\n",
            "Epoch 45/100\n",
            "60000/60000 [==============================] - 4s 59us/step - loss: 0.0965 - val_loss: 0.0958\n",
            "Epoch 46/100\n",
            "60000/60000 [==============================] - 4s 59us/step - loss: 0.0965 - val_loss: 0.0962\n",
            "Epoch 47/100\n",
            "60000/60000 [==============================] - 4s 59us/step - loss: 0.0965 - val_loss: 0.0968\n",
            "Epoch 48/100\n",
            "60000/60000 [==============================] - 4s 59us/step - loss: 0.0964 - val_loss: 0.0959\n",
            "Epoch 49/100\n",
            "60000/60000 [==============================] - 4s 59us/step - loss: 0.0964 - val_loss: 0.0957\n",
            "Epoch 50/100\n",
            "60000/60000 [==============================] - 4s 59us/step - loss: 0.0963 - val_loss: 0.0957\n",
            "Epoch 51/100\n",
            "60000/60000 [==============================] - 4s 59us/step - loss: 0.0963 - val_loss: 0.0958\n",
            "Epoch 52/100\n",
            "60000/60000 [==============================] - 4s 59us/step - loss: 0.0963 - val_loss: 0.0957\n",
            "Epoch 53/100\n",
            "60000/60000 [==============================] - 4s 59us/step - loss: 0.0962 - val_loss: 0.0963\n",
            "Epoch 54/100\n",
            "60000/60000 [==============================] - 4s 63us/step - loss: 0.0962 - val_loss: 0.0961\n",
            "Epoch 55/100\n",
            "60000/60000 [==============================] - 4s 64us/step - loss: 0.0961 - val_loss: 0.0956\n",
            "Epoch 56/100\n",
            "60000/60000 [==============================] - 4s 62us/step - loss: 0.0961 - val_loss: 0.0954\n",
            "Epoch 57/100\n",
            "60000/60000 [==============================] - 4s 59us/step - loss: 0.0961 - val_loss: 0.0960\n",
            "Epoch 58/100\n",
            "60000/60000 [==============================] - 4s 59us/step - loss: 0.0960 - val_loss: 0.0963\n",
            "Epoch 59/100\n",
            "60000/60000 [==============================] - 4s 59us/step - loss: 0.0960 - val_loss: 0.0956\n",
            "Epoch 60/100\n",
            "60000/60000 [==============================] - 4s 59us/step - loss: 0.0959 - val_loss: 0.0956\n",
            "Epoch 61/100\n",
            "60000/60000 [==============================] - 4s 59us/step - loss: 0.0959 - val_loss: 0.0958\n",
            "Epoch 62/100\n",
            "60000/60000 [==============================] - 4s 59us/step - loss: 0.0960 - val_loss: 0.0954\n",
            "Epoch 63/100\n",
            "60000/60000 [==============================] - 4s 59us/step - loss: 0.0959 - val_loss: 0.0953\n",
            "Epoch 64/100\n",
            "60000/60000 [==============================] - 4s 59us/step - loss: 0.0959 - val_loss: 0.0953\n",
            "Epoch 65/100\n",
            "60000/60000 [==============================] - 4s 58us/step - loss: 0.0957 - val_loss: 0.0953\n",
            "Epoch 66/100\n",
            "60000/60000 [==============================] - 4s 59us/step - loss: 0.0958 - val_loss: 0.0957\n",
            "Epoch 67/100\n",
            "60000/60000 [==============================] - 4s 59us/step - loss: 0.0957 - val_loss: 0.0952\n",
            "Epoch 68/100\n",
            "60000/60000 [==============================] - 4s 59us/step - loss: 0.0958 - val_loss: 0.0955\n",
            "Epoch 69/100\n",
            "60000/60000 [==============================] - 4s 59us/step - loss: 0.0957 - val_loss: 0.0952\n",
            "Epoch 70/100\n",
            "60000/60000 [==============================] - 4s 59us/step - loss: 0.0957 - val_loss: 0.0958\n",
            "Epoch 71/100\n",
            "60000/60000 [==============================] - 4s 59us/step - loss: 0.0957 - val_loss: 0.0952\n",
            "Epoch 72/100\n",
            "60000/60000 [==============================] - 4s 59us/step - loss: 0.0956 - val_loss: 0.0963\n",
            "Epoch 73/100\n",
            "60000/60000 [==============================] - 4s 59us/step - loss: 0.0956 - val_loss: 0.0951\n",
            "Epoch 74/100\n",
            "60000/60000 [==============================] - 4s 59us/step - loss: 0.0956 - val_loss: 0.0951\n",
            "Epoch 75/100\n",
            "60000/60000 [==============================] - 4s 59us/step - loss: 0.0956 - val_loss: 0.0951\n",
            "Epoch 76/100\n",
            "60000/60000 [==============================] - 4s 61us/step - loss: 0.0955 - val_loss: 0.0958\n",
            "Epoch 77/100\n",
            "60000/60000 [==============================] - 4s 63us/step - loss: 0.0955 - val_loss: 0.0951\n",
            "Epoch 78/100\n",
            "60000/60000 [==============================] - 4s 63us/step - loss: 0.0955 - val_loss: 0.0959\n",
            "Epoch 79/100\n",
            "60000/60000 [==============================] - 4s 60us/step - loss: 0.0955 - val_loss: 0.0961\n",
            "Epoch 80/100\n",
            "60000/60000 [==============================] - 4s 59us/step - loss: 0.0955 - val_loss: 0.0961\n",
            "Epoch 81/100\n",
            "60000/60000 [==============================] - 4s 59us/step - loss: 0.0954 - val_loss: 0.0955\n",
            "Epoch 82/100\n",
            "60000/60000 [==============================] - 4s 59us/step - loss: 0.0954 - val_loss: 0.0950\n",
            "Epoch 83/100\n",
            "60000/60000 [==============================] - 4s 59us/step - loss: 0.0955 - val_loss: 0.0960\n",
            "Epoch 84/100\n",
            "60000/60000 [==============================] - 4s 59us/step - loss: 0.0953 - val_loss: 0.0950\n",
            "Epoch 85/100\n",
            "60000/60000 [==============================] - 4s 59us/step - loss: 0.0954 - val_loss: 0.0965\n",
            "Epoch 86/100\n",
            "60000/60000 [==============================] - 4s 59us/step - loss: 0.0953 - val_loss: 0.0950\n",
            "Epoch 87/100\n",
            "60000/60000 [==============================] - 4s 59us/step - loss: 0.0953 - val_loss: 0.0949\n",
            "Epoch 88/100\n",
            "60000/60000 [==============================] - 4s 59us/step - loss: 0.0952 - val_loss: 0.0955\n",
            "Epoch 89/100\n",
            "60000/60000 [==============================] - 4s 59us/step - loss: 0.0953 - val_loss: 0.0956\n",
            "Epoch 90/100\n",
            "60000/60000 [==============================] - 4s 59us/step - loss: 0.0953 - val_loss: 0.0966\n",
            "Epoch 91/100\n",
            "60000/60000 [==============================] - 4s 59us/step - loss: 0.0953 - val_loss: 0.0952\n",
            "Epoch 92/100\n",
            "60000/60000 [==============================] - 4s 59us/step - loss: 0.0952 - val_loss: 0.0951\n",
            "Epoch 93/100\n",
            "60000/60000 [==============================] - 4s 59us/step - loss: 0.0952 - val_loss: 0.0960\n",
            "Epoch 94/100\n",
            "60000/60000 [==============================] - 4s 59us/step - loss: 0.0952 - val_loss: 0.0958\n",
            "Epoch 95/100\n",
            "60000/60000 [==============================] - 4s 59us/step - loss: 0.0952 - val_loss: 0.0964\n",
            "Epoch 96/100\n",
            "60000/60000 [==============================] - 4s 59us/step - loss: 0.0952 - val_loss: 0.0948\n",
            "Epoch 97/100\n",
            "60000/60000 [==============================] - 4s 59us/step - loss: 0.0952 - val_loss: 0.0950\n",
            "Epoch 98/100\n",
            "60000/60000 [==============================] - 4s 59us/step - loss: 0.0951 - val_loss: 0.0948\n",
            "Epoch 99/100\n",
            "60000/60000 [==============================] - 4s 62us/step - loss: 0.0951 - val_loss: 0.0951\n",
            "Epoch 100/100\n",
            "60000/60000 [==============================] - 4s 63us/step - loss: 0.0952 - val_loss: 0.0960\n"
          ],
          "name": "stdout"
        },
        {
          "output_type": "execute_result",
          "data": {
            "text/plain": [
              "<keras.callbacks.History at 0x7f2b3cc45b70>"
            ]
          },
          "metadata": {
            "tags": []
          },
          "execution_count": 25
        }
      ]
    },
    {
      "cell_type": "code",
      "metadata": {
        "id": "Ro-o3XmmPpxL",
        "colab_type": "code",
        "colab": {}
      },
      "source": [
        "denoised_data = autoencoder.predict(x_train_noisy)"
      ],
      "execution_count": 0,
      "outputs": []
    },
    {
      "cell_type": "code",
      "metadata": {
        "id": "anLpFETfPsmm",
        "colab_type": "code",
        "colab": {
          "base_uri": "https://localhost:8080/",
          "height": 233
        },
        "outputId": "4ec7248e-1132-45f2-a0a4-9cbeb5e905d3"
      },
      "source": [
        "visualize_data(x_train_noisy, 28)\n",
        "visualize_data(denoised_data, 28)"
      ],
      "execution_count": 27,
      "outputs": [
        {
          "output_type": "display_data",
          "data": {
            "image/png": "[encoded data removed]",
            "text/plain": [
              "<Figure size 1440x288 with 10 Axes>"
            ]
          },
          "metadata": {
            "tags": []
          }
        },
        {
          "output_type": "display_data",
          "data": {
            "image/png": "[encoded data removed]",
            "text/plain": [
              "<Figure size 1440x288 with 10 Axes>"
            ]
          },
          "metadata": {
            "tags": []
          }
        }
      ]
    }
  ]
}