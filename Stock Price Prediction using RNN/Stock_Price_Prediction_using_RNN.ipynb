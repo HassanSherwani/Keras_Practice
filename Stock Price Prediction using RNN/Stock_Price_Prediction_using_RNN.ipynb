{
  "nbformat": 4,
  "nbformat_minor": 0,
  "metadata": {
    "colab": {
      "name": "Stock Price Prediction using RNN.ipynb",
      "version": "0.3.2",
      "provenance": []
    },
    "kernelspec": {
      "name": "python3",
      "display_name": "Python 3"
    }
  },
  "cells": [
    {
      "cell_type": "markdown",
      "metadata": {
        "id": "y3URxNTcxISj",
        "colab_type": "text"
      },
      "source": [
        "# Stock Price Prediction using RNN"
      ]
    },
    {
      "cell_type": "code",
      "metadata": {
        "id": "-9KZLhP0xPk6",
        "colab_type": "code",
        "colab": {
          "base_uri": "https://localhost:8080/",
          "height": 34
        },
        "outputId": "20cfc72f-356a-4b40-d877-74de713de4be"
      },
      "source": [
        "import numpy as np\n",
        "import pandas as pd\n",
        "import matplotlib.pyplot as plt\n",
        "from sklearn.preprocessing import MinMaxScaler\n",
        "from keras.models import Sequential, load_model\n",
        "from keras.layers import LSTM, Dense, Dropout\n",
        "import os"
      ],
      "execution_count": 1,
      "outputs": [
        {
          "output_type": "stream",
          "text": [
            "Using TensorFlow backend.\n"
          ],
          "name": "stderr"
        }
      ]
    },
    {
      "cell_type": "code",
      "metadata": {
        "id": "l8cd-O_SxXgV",
        "colab_type": "code",
        "colab": {}
      },
      "source": [
        "df = pd.read_csv('https://raw.githubusercontent.com/HassanSherwani/Keras_Practice/master/Stock%20Price%20Prediction%20using%20RNN/AAPL_data.csv')"
      ],
      "execution_count": 0,
      "outputs": []
    },
    {
      "cell_type": "code",
      "metadata": {
        "id": "ojuMH8Wj1qAI",
        "colab_type": "code",
        "colab": {
          "base_uri": "https://localhost:8080/",
          "height": 195
        },
        "outputId": "18b7cd0c-0ceb-4288-aed5-17e15a5607b4"
      },
      "source": [
        "df.head()"
      ],
      "execution_count": 7,
      "outputs": [
        {
          "output_type": "execute_result",
          "data": {
            "text/html": [
              "<div>\n",
              "<style scoped>\n",
              "    .dataframe tbody tr th:only-of-type {\n",
              "        vertical-align: middle;\n",
              "    }\n",
              "\n",
              "    .dataframe tbody tr th {\n",
              "        vertical-align: top;\n",
              "    }\n",
              "\n",
              "    .dataframe thead th {\n",
              "        text-align: right;\n",
              "    }\n",
              "</style>\n",
              "<table border=\"1\" class=\"dataframe\">\n",
              "  <thead>\n",
              "    <tr style=\"text-align: right;\">\n",
              "      <th></th>\n",
              "      <th>date</th>\n",
              "      <th>open</th>\n",
              "      <th>high</th>\n",
              "      <th>low</th>\n",
              "      <th>close</th>\n",
              "      <th>volume</th>\n",
              "      <th>Name</th>\n",
              "    </tr>\n",
              "  </thead>\n",
              "  <tbody>\n",
              "    <tr>\n",
              "      <th>0</th>\n",
              "      <td>2013-02-08</td>\n",
              "      <td>67.7142</td>\n",
              "      <td>68.4014</td>\n",
              "      <td>66.8928</td>\n",
              "      <td>67.8542</td>\n",
              "      <td>158168416</td>\n",
              "      <td>AAPL</td>\n",
              "    </tr>\n",
              "    <tr>\n",
              "      <th>1</th>\n",
              "      <td>2013-02-11</td>\n",
              "      <td>68.0714</td>\n",
              "      <td>69.2771</td>\n",
              "      <td>67.6071</td>\n",
              "      <td>68.5614</td>\n",
              "      <td>129029425</td>\n",
              "      <td>AAPL</td>\n",
              "    </tr>\n",
              "    <tr>\n",
              "      <th>2</th>\n",
              "      <td>2013-02-12</td>\n",
              "      <td>68.5014</td>\n",
              "      <td>68.9114</td>\n",
              "      <td>66.8205</td>\n",
              "      <td>66.8428</td>\n",
              "      <td>151829363</td>\n",
              "      <td>AAPL</td>\n",
              "    </tr>\n",
              "    <tr>\n",
              "      <th>3</th>\n",
              "      <td>2013-02-13</td>\n",
              "      <td>66.7442</td>\n",
              "      <td>67.6628</td>\n",
              "      <td>66.1742</td>\n",
              "      <td>66.7156</td>\n",
              "      <td>118721995</td>\n",
              "      <td>AAPL</td>\n",
              "    </tr>\n",
              "    <tr>\n",
              "      <th>4</th>\n",
              "      <td>2013-02-14</td>\n",
              "      <td>66.3599</td>\n",
              "      <td>67.3771</td>\n",
              "      <td>66.2885</td>\n",
              "      <td>66.6556</td>\n",
              "      <td>88809154</td>\n",
              "      <td>AAPL</td>\n",
              "    </tr>\n",
              "  </tbody>\n",
              "</table>\n",
              "</div>"
            ],
            "text/plain": [
              "         date     open     high      low    close     volume  Name\n",
              "0  2013-02-08  67.7142  68.4014  66.8928  67.8542  158168416  AAPL\n",
              "1  2013-02-11  68.0714  69.2771  67.6071  68.5614  129029425  AAPL\n",
              "2  2013-02-12  68.5014  68.9114  66.8205  66.8428  151829363  AAPL\n",
              "3  2013-02-13  66.7442  67.6628  66.1742  66.7156  118721995  AAPL\n",
              "4  2013-02-14  66.3599  67.3771  66.2885  66.6556   88809154  AAPL"
            ]
          },
          "metadata": {
            "tags": []
          },
          "execution_count": 7
        }
      ]
    },
    {
      "cell_type": "code",
      "metadata": {
        "id": "Vx815Mfg32Oe",
        "colab_type": "code",
        "colab": {
          "base_uri": "https://localhost:8080/",
          "height": 34
        },
        "outputId": "5db9647a-8c83-4553-bc2b-f76f36390bf6"
      },
      "source": [
        "type(df['date'])"
      ],
      "execution_count": 10,
      "outputs": [
        {
          "output_type": "execute_result",
          "data": {
            "text/plain": [
              "pandas.core.series.Series"
            ]
          },
          "metadata": {
            "tags": []
          },
          "execution_count": 10
        }
      ]
    },
    {
      "cell_type": "code",
      "metadata": {
        "id": "CXRB-qvr32UM",
        "colab_type": "code",
        "colab": {
          "base_uri": "https://localhost:8080/",
          "height": 50
        },
        "outputId": "dfc09cec-2471-4491-a139-fa31f906a24a"
      },
      "source": [
        "df.Name.value_counts()"
      ],
      "execution_count": 11,
      "outputs": [
        {
          "output_type": "execute_result",
          "data": {
            "text/plain": [
              "AAPL    1259\n",
              "Name: Name, dtype: int64"
            ]
          },
          "metadata": {
            "tags": []
          },
          "execution_count": 11
        }
      ]
    },
    {
      "cell_type": "markdown",
      "metadata": {
        "id": "8a8byXhK4WIq",
        "colab_type": "text"
      },
      "source": [
        "# Preprocessing and Feature Extraction"
      ]
    },
    {
      "cell_type": "code",
      "metadata": {
        "id": "mrS0mbrE4Pax",
        "colab_type": "code",
        "colab": {
          "base_uri": "https://localhost:8080/",
          "height": 118
        },
        "outputId": "f40445f5-d669-4a5c-8e48-01778a918575"
      },
      "source": [
        "df = df['open'].values\n",
        "df = df.reshape(-1, 1)\n",
        "print(df.shape)\n",
        "df[:5]"
      ],
      "execution_count": 12,
      "outputs": [
        {
          "output_type": "stream",
          "text": [
            "(1259, 1)\n"
          ],
          "name": "stdout"
        },
        {
          "output_type": "execute_result",
          "data": {
            "text/plain": [
              "array([[67.7142],\n",
              "       [68.0714],\n",
              "       [68.5014],\n",
              "       [66.7442],\n",
              "       [66.3599]])"
            ]
          },
          "metadata": {
            "tags": []
          },
          "execution_count": 12
        }
      ]
    },
    {
      "cell_type": "code",
      "metadata": {
        "id": "v1NgVjiW42tL",
        "colab_type": "code",
        "colab": {
          "base_uri": "https://localhost:8080/",
          "height": 50
        },
        "outputId": "9e51ac65-f6b1-4e89-8061-ad47cf2655a6"
      },
      "source": [
        "dataset_train = np.array(df[:int(df.shape[0]*0.8)])\n",
        "dataset_test = np.array(df[int(df.shape[0]*0.8)-50:])\n",
        "print(dataset_train.shape)\n",
        "print(dataset_test.shape)"
      ],
      "execution_count": 13,
      "outputs": [
        {
          "output_type": "stream",
          "text": [
            "(1007, 1)\n",
            "(302, 1)\n"
          ],
          "name": "stdout"
        }
      ]
    },
    {
      "cell_type": "code",
      "metadata": {
        "id": "oRy2w2qP423P",
        "colab_type": "code",
        "colab": {
          "base_uri": "https://localhost:8080/",
          "height": 101
        },
        "outputId": "543018dd-4383-4e80-ab20-7a6bfcdf0c50"
      },
      "source": [
        "scaler = MinMaxScaler(feature_range=(0,1))\n",
        "dataset_train = scaler.fit_transform(dataset_train)\n",
        "dataset_train[:5]"
      ],
      "execution_count": 14,
      "outputs": [
        {
          "output_type": "execute_result",
          "data": {
            "text/plain": [
              "array([[0.15550899],\n",
              "       [0.16002875],\n",
              "       [0.16546966],\n",
              "       [0.1432353 ],\n",
              "       [0.13837263]])"
            ]
          },
          "metadata": {
            "tags": []
          },
          "execution_count": 14
        }
      ]
    },
    {
      "cell_type": "code",
      "metadata": {
        "id": "dkgsCfi943CJ",
        "colab_type": "code",
        "colab": {
          "base_uri": "https://localhost:8080/",
          "height": 101
        },
        "outputId": "1d3a7189-5bc8-491d-807f-de81581d7ff2"
      },
      "source": [
        "dataset_test = scaler.transform(dataset_test)\n",
        "dataset_test[:5]"
      ],
      "execution_count": 15,
      "outputs": [
        {
          "output_type": "execute_result",
          "data": {
            "text/plain": [
              "array([[0.7048619 ],\n",
              "       [0.70865789],\n",
              "       [0.70043325],\n",
              "       [0.71080895],\n",
              "       [0.69518213]])"
            ]
          },
          "metadata": {
            "tags": []
          },
          "execution_count": 15
        }
      ]
    },
    {
      "cell_type": "code",
      "metadata": {
        "id": "rndSKarZ5HL9",
        "colab_type": "code",
        "colab": {}
      },
      "source": [
        "def create_dataset(df):\n",
        "    x = []\n",
        "    y = []\n",
        "    for i in range(50, df.shape[0]):\n",
        "        x.append(df[i-50:i, 0])\n",
        "        y.append(df[i, 0])\n",
        "    x = np.array(x)\n",
        "    y = np.array(y)\n",
        "    return x,y"
      ],
      "execution_count": 0,
      "outputs": []
    },
    {
      "cell_type": "code",
      "metadata": {
        "id": "GRLDDsWq5LJr",
        "colab_type": "code",
        "colab": {
          "base_uri": "https://localhost:8080/",
          "height": 185
        },
        "outputId": "f2a2d05b-7aa6-4f9d-db1a-0894683e1bde"
      },
      "source": [
        "x_train, y_train = create_dataset(dataset_train)\n",
        "x_train[:1]"
      ],
      "execution_count": 17,
      "outputs": [
        {
          "output_type": "execute_result",
          "data": {
            "text/plain": [
              "array([[0.15550899, 0.16002875, 0.16546966, 0.1432353 , 0.13837263,\n",
              "        0.14619996, 0.1321915 , 0.12602681, 0.10489581, 0.11077074,\n",
              "        0.11908522, 0.10095558, 0.10928904, 0.10137187, 0.09043563,\n",
              "        0.07199725, 0.06057385, 0.08412669, 0.06603248, 0.07561229,\n",
              "        0.07552245, 0.08609681, 0.07317274, 0.0810899 , 0.09030909,\n",
              "        0.09667117, 0.12929896, 0.1255384 , 0.11252448, 0.12040496,\n",
              "        0.13868011, 0.14003654, 0.12380363, 0.11180072, 0.09748478,\n",
              "        0.07163663, 0.07845043, 0.08277153, 0.06603248, 0.06666515,\n",
              "        0.06939446, 0.07254007, 0.08269814, 0.08347632, 0.07055098,\n",
              "        0.06073581, 0.0583861 , 0.03076649, 0.        , 0.00844228]])"
            ]
          },
          "metadata": {
            "tags": []
          },
          "execution_count": 17
        }
      ]
    },
    {
      "cell_type": "code",
      "metadata": {
        "id": "BVhWVeI_5Nwi",
        "colab_type": "code",
        "colab": {
          "base_uri": "https://localhost:8080/",
          "height": 185
        },
        "outputId": "037b2a0f-70d9-4b23-d2a3-7ca6b2cd0850"
      },
      "source": [
        "x_test, y_test = create_dataset(dataset_test)\n",
        "x_test[:1]"
      ],
      "execution_count": 18,
      "outputs": [
        {
          "output_type": "execute_result",
          "data": {
            "text/plain": [
              "array([[0.7048619 , 0.70865789, 0.70043325, 0.71080895, 0.69518213,\n",
              "        0.68006144, 0.69056368, 0.68423703, 0.68120024, 0.70144551,\n",
              "        0.71979279, 0.73219302, 0.73915233, 0.75433628, 0.7586384 ,\n",
              "        0.7724305 , 0.76395279, 0.77584689, 0.77660608, 0.7709121 ,\n",
              "        0.7612956 , 0.77306316, 0.78571645, 0.77217743, 0.77470809,\n",
              "        0.76395279, 0.76458545, 0.76547118, 0.77635302, 0.79115737,\n",
              "        0.80153307, 0.80115347, 0.80311474, 0.80583519, 0.79609216,\n",
              "        0.81709663, 0.80950465, 0.82279061, 0.81709663, 0.81140264,\n",
              "        0.82241101, 0.83822763, 0.84417468, 0.82886419, 0.83164791,\n",
              "        0.90604929, 0.91800665, 0.9222455 , 0.93262121, 0.95046235]])"
            ]
          },
          "metadata": {
            "tags": []
          },
          "execution_count": 18
        }
      ]
    },
    {
      "cell_type": "code",
      "metadata": {
        "id": "yI29cZYE5QA8",
        "colab_type": "code",
        "colab": {}
      },
      "source": [
        "# Reshape features for LSTM Layer\n",
        "x_train = np.reshape(x_train, (x_train.shape[0], x_train.shape[1], 1))\n",
        "x_test = np.reshape(x_test, (x_test.shape[0], x_test.shape[1], 1))"
      ],
      "execution_count": 0,
      "outputs": []
    },
    {
      "cell_type": "markdown",
      "metadata": {
        "id": "Iyy8J8bd5Te4",
        "colab_type": "text"
      },
      "source": [
        "# RNN model"
      ]
    },
    {
      "cell_type": "code",
      "metadata": {
        "id": "XuJGj5395Sdd",
        "colab_type": "code",
        "colab": {
          "base_uri": "https://localhost:8080/",
          "height": 138
        },
        "outputId": "e7bbed77-d286-4195-eb73-bd3be075f3c6"
      },
      "source": [
        "model = Sequential()\n",
        "model.add(LSTM(units=96, return_sequences=True, input_shape=(x_train.shape[1], 1)))\n",
        "model.add(Dropout(0.2))\n",
        "model.add(LSTM(units=96, return_sequences=True))\n",
        "model.add(Dropout(0.2))\n",
        "model.add(LSTM(units=96, return_sequences=True))\n",
        "model.add(Dropout(0.2))\n",
        "model.add(LSTM(units=96))\n",
        "model.add(Dropout(0.2))\n",
        "model.add(Dense(units=1))"
      ],
      "execution_count": 20,
      "outputs": [
        {
          "output_type": "stream",
          "text": [
            "WARNING:tensorflow:From /usr/local/lib/python3.6/dist-packages/tensorflow/python/framework/op_def_library.py:263: colocate_with (from tensorflow.python.framework.ops) is deprecated and will be removed in a future version.\n",
            "Instructions for updating:\n",
            "Colocations handled automatically by placer.\n",
            "WARNING:tensorflow:From /usr/local/lib/python3.6/dist-packages/keras/backend/tensorflow_backend.py:3445: calling dropout (from tensorflow.python.ops.nn_ops) with keep_prob is deprecated and will be removed in a future version.\n",
            "Instructions for updating:\n",
            "Please use `rate` instead of `keep_prob`. Rate should be set to `rate = 1 - keep_prob`.\n"
          ],
          "name": "stdout"
        }
      ]
    },
    {
      "cell_type": "code",
      "metadata": {
        "id": "0nWNlfG85by2",
        "colab_type": "code",
        "colab": {}
      },
      "source": [
        "model.compile(loss='mean_squared_error', optimizer='adam')"
      ],
      "execution_count": 0,
      "outputs": []
    },
    {
      "cell_type": "code",
      "metadata": {
        "id": "tQ0CpiKc5ei9",
        "colab_type": "code",
        "colab": {
          "base_uri": "https://localhost:8080/",
          "height": 1767
        },
        "outputId": "3c4972cc-2a34-42dd-b1b7-ba879b980d54"
      },
      "source": [
        "# training and saving model\n",
        "if(not os.path.exists('stock_prediction.h5')):\n",
        "    model.fit(x_train, y_train, epochs=50, batch_size=32)\n",
        "    model.save('stock_prediction.h5')"
      ],
      "execution_count": 22,
      "outputs": [
        {
          "output_type": "stream",
          "text": [
            "WARNING:tensorflow:From /usr/local/lib/python3.6/dist-packages/tensorflow/python/ops/math_ops.py:3066: to_int32 (from tensorflow.python.ops.math_ops) is deprecated and will be removed in a future version.\n",
            "Instructions for updating:\n",
            "Use tf.cast instead.\n",
            "Epoch 1/50\n",
            "957/957 [==============================] - 9s 9ms/step - loss: 0.0602\n",
            "Epoch 2/50\n",
            "957/957 [==============================] - 6s 6ms/step - loss: 0.0069\n",
            "Epoch 3/50\n",
            "957/957 [==============================] - 6s 6ms/step - loss: 0.0053\n",
            "Epoch 4/50\n",
            "957/957 [==============================] - 6s 6ms/step - loss: 0.0050\n",
            "Epoch 5/50\n",
            "957/957 [==============================] - 6s 6ms/step - loss: 0.0049\n",
            "Epoch 6/50\n",
            "957/957 [==============================] - 6s 6ms/step - loss: 0.0053\n",
            "Epoch 7/50\n",
            "957/957 [==============================] - 6s 6ms/step - loss: 0.0049\n",
            "Epoch 8/50\n",
            "957/957 [==============================] - 6s 6ms/step - loss: 0.0061\n",
            "Epoch 9/50\n",
            "957/957 [==============================] - 6s 6ms/step - loss: 0.0050\n",
            "Epoch 10/50\n",
            "957/957 [==============================] - 6s 6ms/step - loss: 0.0047\n",
            "Epoch 11/50\n",
            "957/957 [==============================] - 6s 6ms/step - loss: 0.0050\n",
            "Epoch 12/50\n",
            "957/957 [==============================] - 6s 6ms/step - loss: 0.0039\n",
            "Epoch 13/50\n",
            "957/957 [==============================] - 6s 6ms/step - loss: 0.0041\n",
            "Epoch 14/50\n",
            "957/957 [==============================] - 6s 6ms/step - loss: 0.0044\n",
            "Epoch 15/50\n",
            "957/957 [==============================] - 6s 6ms/step - loss: 0.0039\n",
            "Epoch 16/50\n",
            "957/957 [==============================] - 6s 6ms/step - loss: 0.0036\n",
            "Epoch 17/50\n",
            "957/957 [==============================] - 6s 6ms/step - loss: 0.0036\n",
            "Epoch 18/50\n",
            "957/957 [==============================] - 6s 6ms/step - loss: 0.0035\n",
            "Epoch 19/50\n",
            "957/957 [==============================] - 6s 6ms/step - loss: 0.0031\n",
            "Epoch 20/50\n",
            "957/957 [==============================] - 6s 6ms/step - loss: 0.0034\n",
            "Epoch 21/50\n",
            "957/957 [==============================] - 6s 6ms/step - loss: 0.0031\n",
            "Epoch 22/50\n",
            "957/957 [==============================] - 6s 6ms/step - loss: 0.0030\n",
            "Epoch 23/50\n",
            "957/957 [==============================] - 6s 6ms/step - loss: 0.0033\n",
            "Epoch 24/50\n",
            "957/957 [==============================] - 6s 6ms/step - loss: 0.0036\n",
            "Epoch 25/50\n",
            "957/957 [==============================] - 6s 6ms/step - loss: 0.0032\n",
            "Epoch 26/50\n",
            "957/957 [==============================] - 6s 6ms/step - loss: 0.0035\n",
            "Epoch 27/50\n",
            "957/957 [==============================] - 6s 6ms/step - loss: 0.0029\n",
            "Epoch 28/50\n",
            "957/957 [==============================] - 6s 6ms/step - loss: 0.0029\n",
            "Epoch 29/50\n",
            "957/957 [==============================] - 6s 6ms/step - loss: 0.0028\n",
            "Epoch 30/50\n",
            "957/957 [==============================] - 6s 6ms/step - loss: 0.0032\n",
            "Epoch 31/50\n",
            "957/957 [==============================] - 6s 6ms/step - loss: 0.0029\n",
            "Epoch 32/50\n",
            "957/957 [==============================] - 6s 6ms/step - loss: 0.0033\n",
            "Epoch 33/50\n",
            "957/957 [==============================] - 6s 6ms/step - loss: 0.0030\n",
            "Epoch 34/50\n",
            "957/957 [==============================] - 6s 6ms/step - loss: 0.0030\n",
            "Epoch 35/50\n",
            "957/957 [==============================] - 6s 6ms/step - loss: 0.0033\n",
            "Epoch 36/50\n",
            "957/957 [==============================] - 6s 6ms/step - loss: 0.0030\n",
            "Epoch 37/50\n",
            "957/957 [==============================] - 6s 6ms/step - loss: 0.0026\n",
            "Epoch 38/50\n",
            "957/957 [==============================] - 6s 6ms/step - loss: 0.0023\n",
            "Epoch 39/50\n",
            "957/957 [==============================] - 6s 6ms/step - loss: 0.0024\n",
            "Epoch 40/50\n",
            "957/957 [==============================] - 6s 6ms/step - loss: 0.0024\n",
            "Epoch 41/50\n",
            "957/957 [==============================] - 6s 6ms/step - loss: 0.0023\n",
            "Epoch 42/50\n",
            "957/957 [==============================] - 6s 6ms/step - loss: 0.0026\n",
            "Epoch 43/50\n",
            "957/957 [==============================] - 6s 6ms/step - loss: 0.0022\n",
            "Epoch 44/50\n",
            "957/957 [==============================] - 6s 6ms/step - loss: 0.0025\n",
            "Epoch 45/50\n",
            "957/957 [==============================] - 6s 6ms/step - loss: 0.0027\n",
            "Epoch 46/50\n",
            "957/957 [==============================] - 6s 6ms/step - loss: 0.0022\n",
            "Epoch 47/50\n",
            "957/957 [==============================] - 6s 6ms/step - loss: 0.0025\n",
            "Epoch 48/50\n",
            "957/957 [==============================] - 6s 6ms/step - loss: 0.0029\n",
            "Epoch 49/50\n",
            "957/957 [==============================] - 6s 6ms/step - loss: 0.0022\n",
            "Epoch 50/50\n",
            "957/957 [==============================] - 6s 6ms/step - loss: 0.0021\n"
          ],
          "name": "stdout"
        }
      ]
    },
    {
      "cell_type": "code",
      "metadata": {
        "id": "tZkuUA3X5jqx",
        "colab_type": "code",
        "colab": {}
      },
      "source": [
        "model = load_model('stock_prediction.h5')"
      ],
      "execution_count": 0,
      "outputs": []
    },
    {
      "cell_type": "markdown",
      "metadata": {
        "id": "zs7o2pcd8Jem",
        "colab_type": "text"
      },
      "source": [
        "# Results"
      ]
    },
    {
      "cell_type": "code",
      "metadata": {
        "id": "9GhEMRd88IvC",
        "colab_type": "code",
        "colab": {
          "base_uri": "https://localhost:8080/",
          "height": 286
        },
        "outputId": "b5f76e1f-5d4e-411c-a0b4-b352de8dfe32"
      },
      "source": [
        "predictions = model.predict(x_test)\n",
        "predictions = scaler.inverse_transform(predictions)\n",
        "\n",
        "fig, ax = plt.subplots(figsize=(8,4))\n",
        "plt.plot(df, color='red',  label=\"True Price\")\n",
        "ax.plot(range(len(y_train)+50,len(y_train)+50+len(predictions)),predictions, color='blue', label='Predicted Testing Price')\n",
        "plt.legend()"
      ],
      "execution_count": 24,
      "outputs": [
        {
          "output_type": "execute_result",
          "data": {
            "text/plain": [
              "<matplotlib.legend.Legend at 0x7f747344b6d8>"
            ]
          },
          "metadata": {
            "tags": []
          },
          "execution_count": 24
        },
        {
          "output_type": "display_data",
          "data": {
            "image/png": "[encoded data removed]",
            "text/plain": [
              "<Figure size 576x288 with 1 Axes>"
            ]
          },
          "metadata": {
            "tags": []
          }
        }
      ]
    },
    {
      "cell_type": "code",
      "metadata": {
        "id": "jgw39hV38PsM",
        "colab_type": "code",
        "colab": {
          "base_uri": "https://localhost:8080/",
          "height": 286
        },
        "outputId": "fa7e6b31-43ae-43ac-ca6c-25d463e56d53"
      },
      "source": [
        "y_test_scaled = scaler.inverse_transform(y_test.reshape(-1, 1))\n",
        "\n",
        "fig, ax = plt.subplots(figsize=(8,4))\n",
        "ax.plot(y_test_scaled, color='red', label='True Testing Price')\n",
        "plt.plot(predictions, color='blue', label='Predicted Testing Price')\n",
        "plt.legend()"
      ],
      "execution_count": 25,
      "outputs": [
        {
          "output_type": "execute_result",
          "data": {
            "text/plain": [
              "<matplotlib.legend.Legend at 0x7f74733759e8>"
            ]
          },
          "metadata": {
            "tags": []
          },
          "execution_count": 25
        },
        {
          "output_type": "display_data",
          "data": {
            "image/png": "[encoded data removed]",
            "text/plain": [
              "<Figure size 576x288 with 1 Axes>"
            ]
          },
          "metadata": {
            "tags": []
          }
        }
      ]
    }
  ]
}