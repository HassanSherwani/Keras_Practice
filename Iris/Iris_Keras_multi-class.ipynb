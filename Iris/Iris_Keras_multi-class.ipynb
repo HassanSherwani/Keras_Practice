{
 "cells": [
  {
   "cell_type": "markdown",
   "metadata": {},
   "source": [
    "# Iris Dataset classification using Neural Network"
   ]
  },
  {
   "cell_type": "markdown",
   "metadata": {},
   "source": [
    "## Importing key libraries"
   ]
  },
  {
   "cell_type": "code",
   "execution_count": 1,
   "metadata": {},
   "outputs": [],
   "source": [
    "# To avoid warnings\n",
    "import warnings\n",
    "warnings.filterwarnings('ignore')"
   ]
  },
  {
   "cell_type": "code",
   "execution_count": 2,
   "metadata": {},
   "outputs": [
    {
     "name": "stdout",
     "output_type": "stream",
     "text": [
      "Populating the interactive namespace from numpy and matplotlib\n"
     ]
    }
   ],
   "source": [
    "# For data visualization\n",
    "import matplotlib.pyplot as plt\n",
    "%matplotlib inline\n",
    "%pylab inline"
   ]
  },
  {
   "cell_type": "code",
   "execution_count": 3,
   "metadata": {},
   "outputs": [],
   "source": [
    "import numpy as np\n",
    "import pandas as pd\n",
    "from sklearn.model_selection import cross_val_score\n",
    "from sklearn.model_selection import KFold\n",
    "from sklearn.preprocessing import LabelEncoder\n",
    "from sklearn.pipeline import Pipeline"
   ]
  },
  {
   "cell_type": "code",
   "execution_count": 4,
   "metadata": {},
   "outputs": [
    {
     "name": "stderr",
     "output_type": "stream",
     "text": [
      "Using TensorFlow backend.\n"
     ]
    }
   ],
   "source": [
    "from keras.models import Sequential\n",
    "from keras.layers import Dense\n",
    "from keras.wrappers.scikit_learn import KerasClassifier\n",
    "from keras.utils import np_utils"
   ]
  },
  {
   "cell_type": "code",
   "execution_count": 5,
   "metadata": {},
   "outputs": [],
   "source": [
    "df = pd.read_csv('Iris.csv')"
   ]
  },
  {
   "cell_type": "code",
   "execution_count": 6,
   "metadata": {},
   "outputs": [
    {
     "data": {
      "text/html": [
       "<div>\n",
       "<style scoped>\n",
       "    .dataframe tbody tr th:only-of-type {\n",
       "        vertical-align: middle;\n",
       "    }\n",
       "\n",
       "    .dataframe tbody tr th {\n",
       "        vertical-align: top;\n",
       "    }\n",
       "\n",
       "    .dataframe thead th {\n",
       "        text-align: right;\n",
       "    }\n",
       "</style>\n",
       "<table border=\"1\" class=\"dataframe\">\n",
       "  <thead>\n",
       "    <tr style=\"text-align: right;\">\n",
       "      <th></th>\n",
       "      <th>Id</th>\n",
       "      <th>SepalLengthCm</th>\n",
       "      <th>SepalWidthCm</th>\n",
       "      <th>PetalLengthCm</th>\n",
       "      <th>PetalWidthCm</th>\n",
       "      <th>Species</th>\n",
       "    </tr>\n",
       "  </thead>\n",
       "  <tbody>\n",
       "    <tr>\n",
       "      <th>0</th>\n",
       "      <td>1</td>\n",
       "      <td>5.1</td>\n",
       "      <td>3.5</td>\n",
       "      <td>1.4</td>\n",
       "      <td>0.2</td>\n",
       "      <td>Iris-setosa</td>\n",
       "    </tr>\n",
       "    <tr>\n",
       "      <th>1</th>\n",
       "      <td>2</td>\n",
       "      <td>4.9</td>\n",
       "      <td>3.0</td>\n",
       "      <td>1.4</td>\n",
       "      <td>0.2</td>\n",
       "      <td>Iris-setosa</td>\n",
       "    </tr>\n",
       "    <tr>\n",
       "      <th>2</th>\n",
       "      <td>3</td>\n",
       "      <td>4.7</td>\n",
       "      <td>3.2</td>\n",
       "      <td>1.3</td>\n",
       "      <td>0.2</td>\n",
       "      <td>Iris-setosa</td>\n",
       "    </tr>\n",
       "    <tr>\n",
       "      <th>3</th>\n",
       "      <td>4</td>\n",
       "      <td>4.6</td>\n",
       "      <td>3.1</td>\n",
       "      <td>1.5</td>\n",
       "      <td>0.2</td>\n",
       "      <td>Iris-setosa</td>\n",
       "    </tr>\n",
       "    <tr>\n",
       "      <th>4</th>\n",
       "      <td>5</td>\n",
       "      <td>5.0</td>\n",
       "      <td>3.6</td>\n",
       "      <td>1.4</td>\n",
       "      <td>0.2</td>\n",
       "      <td>Iris-setosa</td>\n",
       "    </tr>\n",
       "  </tbody>\n",
       "</table>\n",
       "</div>"
      ],
      "text/plain": [
       "   Id  SepalLengthCm  SepalWidthCm  PetalLengthCm  PetalWidthCm      Species\n",
       "0   1            5.1           3.5            1.4           0.2  Iris-setosa\n",
       "1   2            4.9           3.0            1.4           0.2  Iris-setosa\n",
       "2   3            4.7           3.2            1.3           0.2  Iris-setosa\n",
       "3   4            4.6           3.1            1.5           0.2  Iris-setosa\n",
       "4   5            5.0           3.6            1.4           0.2  Iris-setosa"
      ]
     },
     "execution_count": 6,
     "metadata": {},
     "output_type": "execute_result"
    }
   ],
   "source": [
    "df.head()"
   ]
  },
  {
   "cell_type": "code",
   "execution_count": 7,
   "metadata": {},
   "outputs": [
    {
     "data": {
      "text/plain": [
       "(150, 6)"
      ]
     },
     "execution_count": 7,
     "metadata": {},
     "output_type": "execute_result"
    }
   ],
   "source": [
    "df.shape"
   ]
  },
  {
   "cell_type": "code",
   "execution_count": 8,
   "metadata": {},
   "outputs": [
    {
     "data": {
      "text/html": [
       "<div>\n",
       "<style scoped>\n",
       "    .dataframe tbody tr th:only-of-type {\n",
       "        vertical-align: middle;\n",
       "    }\n",
       "\n",
       "    .dataframe tbody tr th {\n",
       "        vertical-align: top;\n",
       "    }\n",
       "\n",
       "    .dataframe thead th {\n",
       "        text-align: right;\n",
       "    }\n",
       "</style>\n",
       "<table border=\"1\" class=\"dataframe\">\n",
       "  <thead>\n",
       "    <tr style=\"text-align: right;\">\n",
       "      <th></th>\n",
       "      <th>SepalLengthCm</th>\n",
       "      <th>SepalWidthCm</th>\n",
       "      <th>PetalLengthCm</th>\n",
       "      <th>PetalWidthCm</th>\n",
       "      <th>Species</th>\n",
       "    </tr>\n",
       "  </thead>\n",
       "  <tbody>\n",
       "    <tr>\n",
       "      <th>0</th>\n",
       "      <td>5.1</td>\n",
       "      <td>3.5</td>\n",
       "      <td>1.4</td>\n",
       "      <td>0.2</td>\n",
       "      <td>Iris-setosa</td>\n",
       "    </tr>\n",
       "    <tr>\n",
       "      <th>1</th>\n",
       "      <td>4.9</td>\n",
       "      <td>3.0</td>\n",
       "      <td>1.4</td>\n",
       "      <td>0.2</td>\n",
       "      <td>Iris-setosa</td>\n",
       "    </tr>\n",
       "    <tr>\n",
       "      <th>2</th>\n",
       "      <td>4.7</td>\n",
       "      <td>3.2</td>\n",
       "      <td>1.3</td>\n",
       "      <td>0.2</td>\n",
       "      <td>Iris-setosa</td>\n",
       "    </tr>\n",
       "    <tr>\n",
       "      <th>3</th>\n",
       "      <td>4.6</td>\n",
       "      <td>3.1</td>\n",
       "      <td>1.5</td>\n",
       "      <td>0.2</td>\n",
       "      <td>Iris-setosa</td>\n",
       "    </tr>\n",
       "    <tr>\n",
       "      <th>4</th>\n",
       "      <td>5.0</td>\n",
       "      <td>3.6</td>\n",
       "      <td>1.4</td>\n",
       "      <td>0.2</td>\n",
       "      <td>Iris-setosa</td>\n",
       "    </tr>\n",
       "  </tbody>\n",
       "</table>\n",
       "</div>"
      ],
      "text/plain": [
       "   SepalLengthCm  SepalWidthCm  PetalLengthCm  PetalWidthCm      Species\n",
       "0            5.1           3.5            1.4           0.2  Iris-setosa\n",
       "1            4.9           3.0            1.4           0.2  Iris-setosa\n",
       "2            4.7           3.2            1.3           0.2  Iris-setosa\n",
       "3            4.6           3.1            1.5           0.2  Iris-setosa\n",
       "4            5.0           3.6            1.4           0.2  Iris-setosa"
      ]
     },
     "execution_count": 8,
     "metadata": {},
     "output_type": "execute_result"
    }
   ],
   "source": [
    "#Removing Column ID because it's obsolete\n",
    "df=df.drop(\"Id\",axis=1)\n",
    "df.head()"
   ]
  },
  {
   "cell_type": "code",
   "execution_count": 9,
   "metadata": {},
   "outputs": [
    {
     "data": {
      "text/plain": [
       "Iris-setosa        50\n",
       "Iris-virginica     50\n",
       "Iris-versicolor    50\n",
       "Name: Species, dtype: int64"
      ]
     },
     "execution_count": 9,
     "metadata": {},
     "output_type": "execute_result"
    }
   ],
   "source": [
    "df.Species.value_counts()"
   ]
  },
  {
   "cell_type": "code",
   "execution_count": 40,
   "metadata": {},
   "outputs": [
    {
     "data": {
      "text/plain": [
       "<seaborn.axisgrid.PairGrid at 0x1b2cddcd4e0>"
      ]
     },
     "execution_count": 40,
     "metadata": {},
     "output_type": "execute_result"
    },
    {
     "data": {
      "image/png": "[encoded data removed]",
      "text/plain": [
       "<matplotlib.figure.Figure at 0x1b2cb5bd7f0>"
      ]
     },
     "metadata": {},
     "output_type": "display_data"
    }
   ],
   "source": [
    "import seaborn as sns\n",
    "sns.set(style=\"ticks\")\n",
    "sns.set_palette(\"husl\")\n",
    "sns.pairplot(df, hue='Species')"
   ]
  },
  {
   "cell_type": "code",
   "execution_count": 11,
   "metadata": {},
   "outputs": [],
   "source": [
    "#Making x and y\n",
    "x = df.iloc[:,0:4]\n",
    "y = df.iloc[:,4]"
   ]
  },
  {
   "cell_type": "code",
   "execution_count": 12,
   "metadata": {},
   "outputs": [
    {
     "name": "stdout",
     "output_type": "stream",
     "text": [
      "<class 'pandas.core.frame.DataFrame'>\n",
      "<class 'pandas.core.series.Series'>\n"
     ]
    }
   ],
   "source": [
    "print(type(x))\n",
    "print(type(y))"
   ]
  },
  {
   "cell_type": "code",
   "execution_count": 13,
   "metadata": {},
   "outputs": [
    {
     "name": "stdout",
     "output_type": "stream",
     "text": [
      "(150, 4)\n",
      "(150,)\n"
     ]
    }
   ],
   "source": [
    "print(x.shape)\n",
    "print(y.shape)"
   ]
  },
  {
   "cell_type": "code",
   "execution_count": 14,
   "metadata": {},
   "outputs": [
    {
     "data": {
      "text/html": [
       "<div>\n",
       "<style scoped>\n",
       "    .dataframe tbody tr th:only-of-type {\n",
       "        vertical-align: middle;\n",
       "    }\n",
       "\n",
       "    .dataframe tbody tr th {\n",
       "        vertical-align: top;\n",
       "    }\n",
       "\n",
       "    .dataframe thead th {\n",
       "        text-align: right;\n",
       "    }\n",
       "</style>\n",
       "<table border=\"1\" class=\"dataframe\">\n",
       "  <thead>\n",
       "    <tr style=\"text-align: right;\">\n",
       "      <th></th>\n",
       "      <th>SepalLengthCm</th>\n",
       "      <th>SepalWidthCm</th>\n",
       "      <th>PetalLengthCm</th>\n",
       "      <th>PetalWidthCm</th>\n",
       "    </tr>\n",
       "  </thead>\n",
       "  <tbody>\n",
       "    <tr>\n",
       "      <th>0</th>\n",
       "      <td>5.1</td>\n",
       "      <td>3.5</td>\n",
       "      <td>1.4</td>\n",
       "      <td>0.2</td>\n",
       "    </tr>\n",
       "    <tr>\n",
       "      <th>1</th>\n",
       "      <td>4.9</td>\n",
       "      <td>3.0</td>\n",
       "      <td>1.4</td>\n",
       "      <td>0.2</td>\n",
       "    </tr>\n",
       "    <tr>\n",
       "      <th>2</th>\n",
       "      <td>4.7</td>\n",
       "      <td>3.2</td>\n",
       "      <td>1.3</td>\n",
       "      <td>0.2</td>\n",
       "    </tr>\n",
       "    <tr>\n",
       "      <th>3</th>\n",
       "      <td>4.6</td>\n",
       "      <td>3.1</td>\n",
       "      <td>1.5</td>\n",
       "      <td>0.2</td>\n",
       "    </tr>\n",
       "    <tr>\n",
       "      <th>4</th>\n",
       "      <td>5.0</td>\n",
       "      <td>3.6</td>\n",
       "      <td>1.4</td>\n",
       "      <td>0.2</td>\n",
       "    </tr>\n",
       "  </tbody>\n",
       "</table>\n",
       "</div>"
      ],
      "text/plain": [
       "   SepalLengthCm  SepalWidthCm  PetalLengthCm  PetalWidthCm\n",
       "0            5.1           3.5            1.4           0.2\n",
       "1            4.9           3.0            1.4           0.2\n",
       "2            4.7           3.2            1.3           0.2\n",
       "3            4.6           3.1            1.5           0.2\n",
       "4            5.0           3.6            1.4           0.2"
      ]
     },
     "execution_count": 14,
     "metadata": {},
     "output_type": "execute_result"
    }
   ],
   "source": [
    "x[:5]"
   ]
  },
  {
   "cell_type": "code",
   "execution_count": 15,
   "metadata": {},
   "outputs": [
    {
     "data": {
      "text/plain": [
       "0    Iris-setosa\n",
       "1    Iris-setosa\n",
       "2    Iris-setosa\n",
       "3    Iris-setosa\n",
       "4    Iris-setosa\n",
       "Name: Species, dtype: object"
      ]
     },
     "execution_count": 15,
     "metadata": {},
     "output_type": "execute_result"
    }
   ],
   "source": [
    "y[:5]"
   ]
  },
  {
   "cell_type": "markdown",
   "metadata": {},
   "source": [
    "## Splitting x and y as test and train"
   ]
  },
  {
   "cell_type": "code",
   "execution_count": 16,
   "metadata": {},
   "outputs": [],
   "source": [
    "from sklearn.model_selection import train_test_split\n",
    "X_train,X_test,y_train,y_test=train_test_split(x,y,train_size=0.5,random_state=1)"
   ]
  },
  {
   "cell_type": "code",
   "execution_count": 17,
   "metadata": {},
   "outputs": [
    {
     "data": {
      "text/plain": [
       "LogisticRegression(C=1.0, class_weight=None, dual=False, fit_intercept=True,\n",
       "          intercept_scaling=1, max_iter=100, multi_class='warn',\n",
       "          n_jobs=None, penalty='l2', random_state=None, solver='warn',\n",
       "          tol=0.0001, verbose=0, warm_start=False)"
      ]
     },
     "execution_count": 17,
     "metadata": {},
     "output_type": "execute_result"
    }
   ],
   "source": [
    "from sklearn.linear_model import LogisticRegression\n",
    "\n",
    "# train the model on the training set\n",
    "logreg = LogisticRegression()\n",
    "logreg.fit(X_train, y_train)"
   ]
  },
  {
   "cell_type": "code",
   "execution_count": 18,
   "metadata": {},
   "outputs": [],
   "source": [
    "#make predictions on the testing set\n",
    "y_pred = logreg.predict(X_test)"
   ]
  },
  {
   "cell_type": "code",
   "execution_count": 19,
   "metadata": {},
   "outputs": [
    {
     "name": "stdout",
     "output_type": "stream",
     "text": [
      "0.92\n"
     ]
    }
   ],
   "source": [
    "# Check accuracy\n",
    "from sklearn import metrics\n",
    "print(metrics.accuracy_score(y_test, y_pred))"
   ]
  },
  {
   "cell_type": "markdown",
   "metadata": {},
   "source": [
    "## One-hot Encoding"
   ]
  },
  {
   "cell_type": "code",
   "execution_count": 20,
   "metadata": {},
   "outputs": [
    {
     "name": "stdout",
     "output_type": "stream",
     "text": [
      "<class 'pandas.core.frame.DataFrame'>\n",
      "<class 'pandas.core.frame.DataFrame'>\n",
      "<class 'pandas.core.series.Series'>\n",
      "<class 'pandas.core.frame.DataFrame'>\n"
     ]
    }
   ],
   "source": [
    "print(type(X_train))\n",
    "print(type(X_test))\n",
    "print(type(y_train))\n",
    "print(type(X_test))"
   ]
  },
  {
   "cell_type": "code",
   "execution_count": 21,
   "metadata": {},
   "outputs": [],
   "source": [
    "# keras needs inputs to be vectors , so one hot encoding values\n",
    "def one_hot_encode_object_array(arr):\n",
    "    '''One hot encode a numpy array of objects (e.g. strings)'''\n",
    "    uniques, ids = np.unique(arr, return_inverse=True)\n",
    "    return np_utils.to_categorical(ids, len(uniques))\n",
    "\n",
    "y_train_ohe=one_hot_encode_object_array(y_train)\n",
    "y_test_ohe=one_hot_encode_object_array(y_test)"
   ]
  },
  {
   "cell_type": "code",
   "execution_count": 22,
   "metadata": {},
   "outputs": [
    {
     "name": "stdout",
     "output_type": "stream",
     "text": [
      "<class 'pandas.core.series.Series'>\n",
      "<class 'pandas.core.series.Series'>\n"
     ]
    }
   ],
   "source": [
    "print(type(y_train))\n",
    "print(type(y_test))"
   ]
  },
  {
   "cell_type": "code",
   "execution_count": 23,
   "metadata": {},
   "outputs": [
    {
     "data": {
      "text/plain": [
       "array([[0., 1., 0.],\n",
       "       [0., 0., 1.],\n",
       "       [0., 1., 0.],\n",
       "       [0., 0., 1.],\n",
       "       [0., 1., 0.]], dtype=float32)"
      ]
     },
     "execution_count": 23,
     "metadata": {},
     "output_type": "execute_result"
    }
   ],
   "source": [
    "y_train_ohe[:5]"
   ]
  },
  {
   "cell_type": "code",
   "execution_count": 24,
   "metadata": {},
   "outputs": [
    {
     "data": {
      "text/plain": [
       "array([[1., 0., 0.],\n",
       "       [0., 1., 0.],\n",
       "       [0., 1., 0.],\n",
       "       [1., 0., 0.],\n",
       "       [0., 0., 1.]], dtype=float32)"
      ]
     },
     "execution_count": 24,
     "metadata": {},
     "output_type": "execute_result"
    }
   ],
   "source": [
    "y_test_ohe[:5]"
   ]
  },
  {
   "cell_type": "code",
   "execution_count": 25,
   "metadata": {},
   "outputs": [
    {
     "data": {
      "text/plain": [
       "((75, 3), (75, 3))"
      ]
     },
     "execution_count": 25,
     "metadata": {},
     "output_type": "execute_result"
    }
   ],
   "source": [
    "y_train_ohe.shape, y_test_ohe.shape"
   ]
  },
  {
   "cell_type": "code",
   "execution_count": 26,
   "metadata": {},
   "outputs": [
    {
     "name": "stdout",
     "output_type": "stream",
     "text": [
      "WARNING:tensorflow:From C:\\Program Files\\Anaconda3\\lib\\site-packages\\tensorflow\\python\\framework\\op_def_library.py:263: colocate_with (from tensorflow.python.framework.ops) is deprecated and will be removed in a future version.\n",
      "Instructions for updating:\n",
      "Colocations handled automatically by placer.\n"
     ]
    }
   ],
   "source": [
    "# Creating a model\n",
    "model = Sequential()\n",
    "model.add(Dense(10, input_dim=4, activation='relu'))\n",
    "model.add(Dense(10, activation='relu'))\n",
    "model.add(Dense(3, activation='softmax'))"
   ]
  },
  {
   "cell_type": "code",
   "execution_count": 27,
   "metadata": {},
   "outputs": [],
   "source": [
    "# Compiling model\n",
    "model.compile(loss='categorical_crossentropy', optimizer='adam', metrics=['accuracy'])"
   ]
  },
  {
   "cell_type": "code",
   "execution_count": 28,
   "metadata": {},
   "outputs": [
    {
     "name": "stdout",
     "output_type": "stream",
     "text": [
      "_________________________________________________________________\n",
      "Layer (type)                 Output Shape              Param #   \n",
      "=================================================================\n",
      "dense_1 (Dense)              (None, 10)                50        \n",
      "_________________________________________________________________\n",
      "dense_2 (Dense)              (None, 10)                110       \n",
      "_________________________________________________________________\n",
      "dense_3 (Dense)              (None, 3)                 33        \n",
      "=================================================================\n",
      "Total params: 193\n",
      "Trainable params: 193\n",
      "Non-trainable params: 0\n",
      "_________________________________________________________________\n"
     ]
    }
   ],
   "source": [
    "model.summary()"
   ]
  },
  {
   "cell_type": "markdown",
   "metadata": {},
   "source": [
    "**one input layer with four nodes(input_dim=4), because we are having four attributes in our input values<br>\n",
    "two hidden layers with ten neurons each<br>\n",
    "one output layer with three neurons, because we are having three output classes**"
   ]
  },
  {
   "cell_type": "markdown",
   "metadata": {},
   "source": [
    "## Training model"
   ]
  },
  {
   "cell_type": "code",
   "execution_count": 29,
   "metadata": {},
   "outputs": [
    {
     "name": "stdout",
     "output_type": "stream",
     "text": [
      "WARNING:tensorflow:From C:\\Program Files\\Anaconda3\\lib\\site-packages\\tensorflow\\python\\ops\\math_ops.py:3066: to_int32 (from tensorflow.python.ops.math_ops) is deprecated and will be removed in a future version.\n",
      "Instructions for updating:\n",
      "Use tf.cast instead.\n",
      "Train on 75 samples, validate on 75 samples\n",
      "Epoch 1/500\n",
      "75/75 [==============================] - 0s 3ms/step - loss: 1.2624 - acc: 0.3467 - val_loss: 1.3169 - val_acc: 0.3200\n",
      "Epoch 2/500\n",
      "75/75 [==============================] - 0s 120us/step - loss: 1.2194 - acc: 0.3467 - val_loss: 1.2754 - val_acc: 0.3200\n",
      "Epoch 3/500\n",
      "75/75 [==============================] - 0s 120us/step - loss: 1.1868 - acc: 0.3467 - val_loss: 1.2316 - val_acc: 0.3200\n",
      "Epoch 4/500\n",
      "75/75 [==============================] - 0s 120us/step - loss: 1.1510 - acc: 0.3467 - val_loss: 1.1933 - val_acc: 0.3200\n",
      "Epoch 5/500\n",
      "75/75 [==============================] - 0s 120us/step - loss: 1.1234 - acc: 0.3467 - val_loss: 1.1568 - val_acc: 0.3200\n",
      "Epoch 6/500\n",
      "75/75 [==============================] - 0s 147us/step - loss: 1.0950 - acc: 0.3467 - val_loss: 1.1276 - val_acc: 0.3200\n",
      "Epoch 7/500\n",
      "75/75 [==============================] - 0s 134us/step - loss: 1.0715 - acc: 0.3467 - val_loss: 1.0988 - val_acc: 0.3200\n",
      "Epoch 8/500\n",
      "75/75 [==============================] - 0s 120us/step - loss: 1.0483 - acc: 0.3467 - val_loss: 1.0719 - val_acc: 0.3200\n",
      "Epoch 9/500\n",
      "75/75 [==============================] - 0s 107us/step - loss: 1.0275 - acc: 0.3467 - val_loss: 1.0446 - val_acc: 0.3200\n",
      "Epoch 10/500\n",
      "75/75 [==============================] - 0s 120us/step - loss: 1.0059 - acc: 0.3467 - val_loss: 1.0186 - val_acc: 0.3333\n",
      "Epoch 11/500\n",
      "75/75 [==============================] - 0s 120us/step - loss: 0.9844 - acc: 0.4000 - val_loss: 0.9945 - val_acc: 0.3733\n",
      "Epoch 12/500\n",
      "75/75 [==============================] - 0s 120us/step - loss: 0.9651 - acc: 0.4267 - val_loss: 0.9715 - val_acc: 0.3733\n",
      "Epoch 13/500\n",
      "75/75 [==============================] - 0s 107us/step - loss: 0.9461 - acc: 0.4267 - val_loss: 0.9497 - val_acc: 0.3733\n",
      "Epoch 14/500\n",
      "75/75 [==============================] - 0s 120us/step - loss: 0.9281 - acc: 0.4267 - val_loss: 0.9276 - val_acc: 0.3867\n",
      "Epoch 15/500\n",
      "75/75 [==============================] - 0s 107us/step - loss: 0.9086 - acc: 0.5067 - val_loss: 0.9077 - val_acc: 0.4133\n",
      "Epoch 16/500\n",
      "75/75 [==============================] - 0s 107us/step - loss: 0.8911 - acc: 0.6533 - val_loss: 0.8894 - val_acc: 0.6533\n",
      "Epoch 17/500\n",
      "75/75 [==============================] - 0s 134us/step - loss: 0.8759 - acc: 0.7200 - val_loss: 0.8748 - val_acc: 0.6400\n",
      "Epoch 18/500\n",
      "75/75 [==============================] - 0s 107us/step - loss: 0.8635 - acc: 0.6800 - val_loss: 0.8631 - val_acc: 0.6400\n",
      "Epoch 19/500\n",
      "75/75 [==============================] - 0s 107us/step - loss: 0.8524 - acc: 0.6667 - val_loss: 0.8532 - val_acc: 0.6400\n",
      "Epoch 20/500\n",
      "75/75 [==============================] - 0s 120us/step - loss: 0.8427 - acc: 0.6933 - val_loss: 0.8439 - val_acc: 0.6400\n",
      "Epoch 21/500\n",
      "75/75 [==============================] - 0s 107us/step - loss: 0.8326 - acc: 0.7067 - val_loss: 0.8336 - val_acc: 0.7067\n",
      "Epoch 22/500\n",
      "75/75 [==============================] - 0s 107us/step - loss: 0.8220 - acc: 0.7333 - val_loss: 0.8247 - val_acc: 0.7600\n",
      "Epoch 23/500\n",
      "75/75 [==============================] - 0s 107us/step - loss: 0.8133 - acc: 0.8133 - val_loss: 0.8156 - val_acc: 0.7867\n",
      "Epoch 24/500\n",
      "75/75 [==============================] - 0s 107us/step - loss: 0.8045 - acc: 0.7733 - val_loss: 0.8062 - val_acc: 0.7600\n",
      "Epoch 25/500\n",
      "75/75 [==============================] - 0s 107us/step - loss: 0.7951 - acc: 0.7600 - val_loss: 0.7972 - val_acc: 0.8267\n",
      "Epoch 26/500\n",
      "75/75 [==============================] - 0s 120us/step - loss: 0.7864 - acc: 0.8000 - val_loss: 0.7895 - val_acc: 0.8133\n",
      "Epoch 27/500\n",
      "75/75 [==============================] - 0s 120us/step - loss: 0.7778 - acc: 0.8133 - val_loss: 0.7818 - val_acc: 0.8133\n",
      "Epoch 28/500\n",
      "75/75 [==============================] - 0s 107us/step - loss: 0.7699 - acc: 0.8400 - val_loss: 0.7745 - val_acc: 0.8133\n",
      "Epoch 29/500\n",
      "75/75 [==============================] - 0s 94us/step - loss: 0.7623 - acc: 0.8400 - val_loss: 0.7678 - val_acc: 0.8000\n",
      "Epoch 30/500\n",
      "75/75 [==============================] - 0s 120us/step - loss: 0.7546 - acc: 0.8533 - val_loss: 0.7597 - val_acc: 0.8400\n",
      "Epoch 31/500\n",
      "75/75 [==============================] - 0s 107us/step - loss: 0.7474 - acc: 0.8533 - val_loss: 0.7531 - val_acc: 0.8400\n",
      "Epoch 32/500\n",
      "75/75 [==============================] - 0s 107us/step - loss: 0.7404 - acc: 0.8533 - val_loss: 0.7468 - val_acc: 0.8400\n",
      "Epoch 33/500\n",
      "75/75 [==============================] - 0s 134us/step - loss: 0.7337 - acc: 0.8533 - val_loss: 0.7409 - val_acc: 0.8267\n",
      "Epoch 34/500\n",
      "75/75 [==============================] - 0s 107us/step - loss: 0.7272 - acc: 0.8400 - val_loss: 0.7336 - val_acc: 0.8933\n",
      "Epoch 35/500\n",
      "75/75 [==============================] - 0s 134us/step - loss: 0.7209 - acc: 0.8800 - val_loss: 0.7282 - val_acc: 0.8800\n",
      "Epoch 36/500\n",
      "75/75 [==============================] - 0s 120us/step - loss: 0.7148 - acc: 0.8933 - val_loss: 0.7230 - val_acc: 0.8800\n",
      "Epoch 37/500\n",
      "75/75 [==============================] - 0s 107us/step - loss: 0.7089 - acc: 0.8933 - val_loss: 0.7182 - val_acc: 0.8533\n",
      "Epoch 38/500\n",
      "75/75 [==============================] - 0s 120us/step - loss: 0.7036 - acc: 0.8800 - val_loss: 0.7123 - val_acc: 0.8800\n",
      "Epoch 39/500\n",
      "75/75 [==============================] - 0s 107us/step - loss: 0.6981 - acc: 0.8933 - val_loss: 0.7074 - val_acc: 0.8933\n",
      "Epoch 40/500\n",
      "75/75 [==============================] - 0s 120us/step - loss: 0.6928 - acc: 0.8667 - val_loss: 0.7037 - val_acc: 0.8400\n",
      "Epoch 41/500\n",
      "75/75 [==============================] - 0s 120us/step - loss: 0.6873 - acc: 0.8667 - val_loss: 0.6987 - val_acc: 0.8800\n",
      "Epoch 42/500\n",
      "75/75 [==============================] - 0s 107us/step - loss: 0.6822 - acc: 0.8933 - val_loss: 0.6936 - val_acc: 0.8933\n",
      "Epoch 43/500\n",
      "75/75 [==============================] - 0s 147us/step - loss: 0.6780 - acc: 0.8933 - val_loss: 0.6888 - val_acc: 0.8933\n",
      "Epoch 44/500\n",
      "75/75 [==============================] - 0s 147us/step - loss: 0.6730 - acc: 0.8933 - val_loss: 0.6845 - val_acc: 0.8933\n",
      "Epoch 45/500\n",
      "75/75 [==============================] - 0s 120us/step - loss: 0.6684 - acc: 0.9200 - val_loss: 0.6807 - val_acc: 0.8933\n",
      "Epoch 46/500\n",
      "75/75 [==============================] - 0s 174us/step - loss: 0.6639 - acc: 0.8933 - val_loss: 0.6771 - val_acc: 0.8800\n",
      "Epoch 47/500\n",
      "75/75 [==============================] - 0s 174us/step - loss: 0.6595 - acc: 0.9067 - val_loss: 0.6730 - val_acc: 0.8800\n",
      "Epoch 48/500\n",
      "75/75 [==============================] - 0s 160us/step - loss: 0.6554 - acc: 0.8933 - val_loss: 0.6699 - val_acc: 0.8400\n",
      "Epoch 49/500\n",
      "75/75 [==============================] - 0s 107us/step - loss: 0.6510 - acc: 0.8933 - val_loss: 0.6649 - val_acc: 0.8933\n",
      "Epoch 50/500\n",
      "75/75 [==============================] - 0s 160us/step - loss: 0.6465 - acc: 0.9200 - val_loss: 0.6613 - val_acc: 0.8933\n",
      "Epoch 51/500\n",
      "75/75 [==============================] - 0s 187us/step - loss: 0.6421 - acc: 0.8933 - val_loss: 0.6581 - val_acc: 0.8667\n",
      "Epoch 52/500\n",
      "75/75 [==============================] - 0s 174us/step - loss: 0.6384 - acc: 0.8933 - val_loss: 0.6542 - val_acc: 0.8667\n",
      "Epoch 53/500\n",
      "75/75 [==============================] - 0s 174us/step - loss: 0.6343 - acc: 0.8933 - val_loss: 0.6498 - val_acc: 0.8933\n",
      "Epoch 54/500\n",
      "75/75 [==============================] - 0s 187us/step - loss: 0.6307 - acc: 0.8933 - val_loss: 0.6473 - val_acc: 0.8533\n",
      "Epoch 55/500\n",
      "75/75 [==============================] - 0s 147us/step - loss: 0.6261 - acc: 0.8933 - val_loss: 0.6436 - val_acc: 0.8533\n",
      "Epoch 56/500\n",
      "75/75 [==============================] - 0s 160us/step - loss: 0.6220 - acc: 0.9067 - val_loss: 0.6388 - val_acc: 0.8933\n",
      "Epoch 57/500\n",
      "75/75 [==============================] - 0s 134us/step - loss: 0.6182 - acc: 0.9067 - val_loss: 0.6353 - val_acc: 0.8933\n",
      "Epoch 58/500\n",
      "75/75 [==============================] - 0s 174us/step - loss: 0.6140 - acc: 0.8933 - val_loss: 0.6327 - val_acc: 0.8533\n",
      "Epoch 59/500\n",
      "75/75 [==============================] - 0s 174us/step - loss: 0.6113 - acc: 0.8933 - val_loss: 0.6300 - val_acc: 0.8533\n"
     ]
    },
    {
     "name": "stdout",
     "output_type": "stream",
     "text": [
      "Epoch 60/500\n",
      "75/75 [==============================] - 0s 160us/step - loss: 0.6061 - acc: 0.8933 - val_loss: 0.6247 - val_acc: 0.8800\n",
      "Epoch 61/500\n",
      "75/75 [==============================] - 0s 134us/step - loss: 0.6035 - acc: 0.9200 - val_loss: 0.6209 - val_acc: 0.8933\n",
      "Epoch 62/500\n",
      "75/75 [==============================] - 0s 187us/step - loss: 0.5992 - acc: 0.9067 - val_loss: 0.6179 - val_acc: 0.8800\n",
      "Epoch 63/500\n",
      "75/75 [==============================] - 0s 147us/step - loss: 0.5947 - acc: 0.8933 - val_loss: 0.6157 - val_acc: 0.8533\n",
      "Epoch 64/500\n",
      "75/75 [==============================] - 0s 160us/step - loss: 0.5917 - acc: 0.8933 - val_loss: 0.6115 - val_acc: 0.8667\n",
      "Epoch 65/500\n",
      "75/75 [==============================] - 0s 174us/step - loss: 0.5878 - acc: 0.8933 - val_loss: 0.6080 - val_acc: 0.8533\n",
      "Epoch 66/500\n",
      "75/75 [==============================] - 0s 147us/step - loss: 0.5836 - acc: 0.8933 - val_loss: 0.6046 - val_acc: 0.8533\n",
      "Epoch 67/500\n",
      "75/75 [==============================] - 0s 120us/step - loss: 0.5802 - acc: 0.8933 - val_loss: 0.6007 - val_acc: 0.8667\n",
      "Epoch 68/500\n",
      "75/75 [==============================] - 0s 160us/step - loss: 0.5766 - acc: 0.8933 - val_loss: 0.5984 - val_acc: 0.8400\n",
      "Epoch 69/500\n",
      "75/75 [==============================] - 0s 147us/step - loss: 0.5730 - acc: 0.8933 - val_loss: 0.5941 - val_acc: 0.8667\n",
      "Epoch 70/500\n",
      "75/75 [==============================] - 0s 107us/step - loss: 0.5686 - acc: 0.8933 - val_loss: 0.5905 - val_acc: 0.8667\n",
      "Epoch 71/500\n",
      "75/75 [==============================] - 0s 147us/step - loss: 0.5653 - acc: 0.8933 - val_loss: 0.5866 - val_acc: 0.8667\n",
      "Epoch 72/500\n",
      "75/75 [==============================] - 0s 147us/step - loss: 0.5615 - acc: 0.8933 - val_loss: 0.5845 - val_acc: 0.8533\n",
      "Epoch 73/500\n",
      "75/75 [==============================] - 0s 107us/step - loss: 0.5591 - acc: 0.8800 - val_loss: 0.5808 - val_acc: 0.8533\n",
      "Epoch 74/500\n",
      "75/75 [==============================] - 0s 120us/step - loss: 0.5541 - acc: 0.8933 - val_loss: 0.5766 - val_acc: 0.8667\n",
      "Epoch 75/500\n",
      "75/75 [==============================] - 0s 107us/step - loss: 0.5507 - acc: 0.8933 - val_loss: 0.5737 - val_acc: 0.8667\n",
      "Epoch 76/500\n",
      "75/75 [==============================] - 0s 107us/step - loss: 0.5469 - acc: 0.8933 - val_loss: 0.5705 - val_acc: 0.8667\n",
      "Epoch 77/500\n",
      "75/75 [==============================] - 0s 107us/step - loss: 0.5452 - acc: 0.8800 - val_loss: 0.5677 - val_acc: 0.8533\n",
      "Epoch 78/500\n",
      "75/75 [==============================] - 0s 107us/step - loss: 0.5407 - acc: 0.8933 - val_loss: 0.5626 - val_acc: 0.8933\n",
      "Epoch 79/500\n",
      "75/75 [==============================] - 0s 107us/step - loss: 0.5377 - acc: 0.8933 - val_loss: 0.5598 - val_acc: 0.8800\n",
      "Epoch 80/500\n",
      "75/75 [==============================] - 0s 107us/step - loss: 0.5352 - acc: 0.8800 - val_loss: 0.5578 - val_acc: 0.8533\n",
      "Epoch 81/500\n",
      "75/75 [==============================] - 0s 107us/step - loss: 0.5296 - acc: 0.8933 - val_loss: 0.5528 - val_acc: 0.8800\n",
      "Epoch 82/500\n",
      "75/75 [==============================] - 0s 107us/step - loss: 0.5275 - acc: 0.9067 - val_loss: 0.5493 - val_acc: 0.8933\n",
      "Epoch 83/500\n",
      "75/75 [==============================] - 0s 107us/step - loss: 0.5231 - acc: 0.8933 - val_loss: 0.5477 - val_acc: 0.8667\n",
      "Epoch 84/500\n",
      "75/75 [==============================] - 0s 120us/step - loss: 0.5197 - acc: 0.8933 - val_loss: 0.5435 - val_acc: 0.8667\n",
      "Epoch 85/500\n",
      "75/75 [==============================] - 0s 134us/step - loss: 0.5156 - acc: 0.8933 - val_loss: 0.5403 - val_acc: 0.8667\n",
      "Epoch 86/500\n",
      "75/75 [==============================] - 0s 107us/step - loss: 0.5126 - acc: 0.8933 - val_loss: 0.5371 - val_acc: 0.8667\n",
      "Epoch 87/500\n",
      "75/75 [==============================] - 0s 107us/step - loss: 0.5095 - acc: 0.8933 - val_loss: 0.5328 - val_acc: 0.8933\n",
      "Epoch 88/500\n",
      "75/75 [==============================] - 0s 107us/step - loss: 0.5061 - acc: 0.8933 - val_loss: 0.5309 - val_acc: 0.8667\n",
      "Epoch 89/500\n",
      "75/75 [==============================] - 0s 120us/step - loss: 0.5028 - acc: 0.8800 - val_loss: 0.5289 - val_acc: 0.8400\n",
      "Epoch 90/500\n",
      "75/75 [==============================] - 0s 107us/step - loss: 0.5003 - acc: 0.8933 - val_loss: 0.5230 - val_acc: 0.8933\n",
      "Epoch 91/500\n",
      "75/75 [==============================] - 0s 107us/step - loss: 0.4965 - acc: 0.8933 - val_loss: 0.5198 - val_acc: 0.8933\n",
      "Epoch 92/500\n",
      "75/75 [==============================] - 0s 107us/step - loss: 0.4923 - acc: 0.8933 - val_loss: 0.5177 - val_acc: 0.8667\n",
      "Epoch 93/500\n",
      "75/75 [==============================] - 0s 107us/step - loss: 0.4888 - acc: 0.8933 - val_loss: 0.5147 - val_acc: 0.8667\n",
      "Epoch 94/500\n",
      "75/75 [==============================] - 0s 120us/step - loss: 0.4856 - acc: 0.8933 - val_loss: 0.5118 - val_acc: 0.8667\n",
      "Epoch 95/500\n",
      "75/75 [==============================] - 0s 94us/step - loss: 0.4827 - acc: 0.8933 - val_loss: 0.5078 - val_acc: 0.8800\n",
      "Epoch 96/500\n",
      "75/75 [==============================] - 0s 120us/step - loss: 0.4786 - acc: 0.8933 - val_loss: 0.5057 - val_acc: 0.8667\n",
      "Epoch 97/500\n",
      "75/75 [==============================] - 0s 107us/step - loss: 0.4766 - acc: 0.8933 - val_loss: 0.5031 - val_acc: 0.8667\n",
      "Epoch 98/500\n",
      "75/75 [==============================] - 0s 107us/step - loss: 0.4724 - acc: 0.8933 - val_loss: 0.4988 - val_acc: 0.8800\n",
      "Epoch 99/500\n",
      "75/75 [==============================] - 0s 120us/step - loss: 0.4690 - acc: 0.8933 - val_loss: 0.4953 - val_acc: 0.8800\n",
      "Epoch 100/500\n",
      "75/75 [==============================] - 0s 107us/step - loss: 0.4664 - acc: 0.8933 - val_loss: 0.4914 - val_acc: 0.8933\n",
      "Epoch 101/500\n",
      "75/75 [==============================] - 0s 107us/step - loss: 0.4669 - acc: 0.9067 - val_loss: 0.4880 - val_acc: 0.8933\n",
      "Epoch 102/500\n",
      "75/75 [==============================] - 0s 107us/step - loss: 0.4606 - acc: 0.9067 - val_loss: 0.4869 - val_acc: 0.8800\n",
      "Epoch 103/500\n",
      "75/75 [==============================] - 0s 107us/step - loss: 0.4571 - acc: 0.8933 - val_loss: 0.4844 - val_acc: 0.8667\n",
      "Epoch 104/500\n",
      "75/75 [==============================] - 0s 107us/step - loss: 0.4537 - acc: 0.8933 - val_loss: 0.4799 - val_acc: 0.8800\n",
      "Epoch 105/500\n",
      "75/75 [==============================] - 0s 107us/step - loss: 0.4505 - acc: 0.8933 - val_loss: 0.4777 - val_acc: 0.8800\n",
      "Epoch 106/500\n",
      "75/75 [==============================] - 0s 120us/step - loss: 0.4483 - acc: 0.8933 - val_loss: 0.4753 - val_acc: 0.8800\n",
      "Epoch 107/500\n",
      "75/75 [==============================] - 0s 107us/step - loss: 0.4438 - acc: 0.8933 - val_loss: 0.4699 - val_acc: 0.8933\n",
      "Epoch 108/500\n",
      "75/75 [==============================] - 0s 107us/step - loss: 0.4428 - acc: 0.8933 - val_loss: 0.4678 - val_acc: 0.8933\n",
      "Epoch 109/500\n",
      "75/75 [==============================] - 0s 120us/step - loss: 0.4398 - acc: 0.9067 - val_loss: 0.4640 - val_acc: 0.8933\n",
      "Epoch 110/500\n",
      "75/75 [==============================] - 0s 107us/step - loss: 0.4365 - acc: 0.8933 - val_loss: 0.4634 - val_acc: 0.8800\n",
      "Epoch 111/500\n",
      "75/75 [==============================] - 0s 107us/step - loss: 0.4337 - acc: 0.8933 - val_loss: 0.4616 - val_acc: 0.8800\n",
      "Epoch 112/500\n",
      "75/75 [==============================] - 0s 107us/step - loss: 0.4315 - acc: 0.9067 - val_loss: 0.4561 - val_acc: 0.8933\n",
      "Epoch 113/500\n",
      "75/75 [==============================] - 0s 120us/step - loss: 0.4272 - acc: 0.8933 - val_loss: 0.4554 - val_acc: 0.8800\n",
      "Epoch 114/500\n",
      "75/75 [==============================] - 0s 94us/step - loss: 0.4259 - acc: 0.8933 - val_loss: 0.4509 - val_acc: 0.8933\n",
      "Epoch 115/500\n",
      "75/75 [==============================] - 0s 94us/step - loss: 0.4222 - acc: 0.8933 - val_loss: 0.4508 - val_acc: 0.8800\n",
      "Epoch 116/500\n",
      "75/75 [==============================] - 0s 107us/step - loss: 0.4193 - acc: 0.8933 - val_loss: 0.4465 - val_acc: 0.8800\n",
      "Epoch 117/500\n",
      "75/75 [==============================] - 0s 107us/step - loss: 0.4156 - acc: 0.9067 - val_loss: 0.4410 - val_acc: 0.8933\n",
      "Epoch 118/500\n",
      "75/75 [==============================] - 0s 107us/step - loss: 0.4157 - acc: 0.9067 - val_loss: 0.4403 - val_acc: 0.8800\n",
      "Epoch 119/500\n",
      "75/75 [==============================] - 0s 120us/step - loss: 0.4103 - acc: 0.8933 - val_loss: 0.4367 - val_acc: 0.8933\n",
      "Epoch 120/500\n",
      "75/75 [==============================] - 0s 107us/step - loss: 0.4084 - acc: 0.8933 - val_loss: 0.4346 - val_acc: 0.8933\n",
      "Epoch 121/500\n"
     ]
    },
    {
     "name": "stdout",
     "output_type": "stream",
     "text": [
      "75/75 [==============================] - 0s 120us/step - loss: 0.4056 - acc: 0.9067 - val_loss: 0.4345 - val_acc: 0.8800\n",
      "Epoch 122/500\n",
      "75/75 [==============================] - 0s 107us/step - loss: 0.4031 - acc: 0.8933 - val_loss: 0.4313 - val_acc: 0.8800\n",
      "Epoch 123/500\n",
      "75/75 [==============================] - 0s 107us/step - loss: 0.4002 - acc: 0.9067 - val_loss: 0.4249 - val_acc: 0.8933\n",
      "Epoch 124/500\n",
      "75/75 [==============================] - 0s 107us/step - loss: 0.3971 - acc: 0.9200 - val_loss: 0.4224 - val_acc: 0.8933\n",
      "Epoch 125/500\n",
      "75/75 [==============================] - 0s 94us/step - loss: 0.3941 - acc: 0.9200 - val_loss: 0.4214 - val_acc: 0.8933\n",
      "Epoch 126/500\n",
      "75/75 [==============================] - 0s 107us/step - loss: 0.3917 - acc: 0.9067 - val_loss: 0.4212 - val_acc: 0.8800\n",
      "Epoch 127/500\n",
      "75/75 [==============================] - 0s 94us/step - loss: 0.3929 - acc: 0.8933 - val_loss: 0.4147 - val_acc: 0.8933\n",
      "Epoch 128/500\n",
      "75/75 [==============================] - 0s 94us/step - loss: 0.3866 - acc: 0.9067 - val_loss: 0.4155 - val_acc: 0.8933\n",
      "Epoch 129/500\n",
      "75/75 [==============================] - 0s 94us/step - loss: 0.3842 - acc: 0.9067 - val_loss: 0.4121 - val_acc: 0.8933\n",
      "Epoch 130/500\n",
      "75/75 [==============================] - 0s 120us/step - loss: 0.3815 - acc: 0.9200 - val_loss: 0.4086 - val_acc: 0.8933\n",
      "Epoch 131/500\n",
      "75/75 [==============================] - 0s 107us/step - loss: 0.3792 - acc: 0.9200 - val_loss: 0.4058 - val_acc: 0.8933\n",
      "Epoch 132/500\n",
      "75/75 [==============================] - 0s 94us/step - loss: 0.3768 - acc: 0.9200 - val_loss: 0.4031 - val_acc: 0.8933\n",
      "Epoch 133/500\n",
      "75/75 [==============================] - 0s 94us/step - loss: 0.3742 - acc: 0.9200 - val_loss: 0.4015 - val_acc: 0.8933\n",
      "Epoch 134/500\n",
      "75/75 [==============================] - 0s 94us/step - loss: 0.3737 - acc: 0.9067 - val_loss: 0.4010 - val_acc: 0.8933\n",
      "Epoch 135/500\n",
      "75/75 [==============================] - 0s 107us/step - loss: 0.3706 - acc: 0.9200 - val_loss: 0.3936 - val_acc: 0.9067\n",
      "Epoch 136/500\n",
      "75/75 [==============================] - 0s 107us/step - loss: 0.3692 - acc: 0.9200 - val_loss: 0.3934 - val_acc: 0.8933\n",
      "Epoch 137/500\n",
      "75/75 [==============================] - 0s 107us/step - loss: 0.3648 - acc: 0.9200 - val_loss: 0.3893 - val_acc: 0.9067\n",
      "Epoch 138/500\n",
      "75/75 [==============================] - 0s 120us/step - loss: 0.3630 - acc: 0.9333 - val_loss: 0.3866 - val_acc: 0.9067\n",
      "Epoch 139/500\n",
      "75/75 [==============================] - 0s 107us/step - loss: 0.3601 - acc: 0.9200 - val_loss: 0.3868 - val_acc: 0.8933\n",
      "Epoch 140/500\n",
      "75/75 [==============================] - 0s 107us/step - loss: 0.3581 - acc: 0.9200 - val_loss: 0.3850 - val_acc: 0.8933\n",
      "Epoch 141/500\n",
      "75/75 [==============================] - 0s 94us/step - loss: 0.3562 - acc: 0.9200 - val_loss: 0.3812 - val_acc: 0.8933\n",
      "Epoch 142/500\n",
      "75/75 [==============================] - 0s 120us/step - loss: 0.3534 - acc: 0.9200 - val_loss: 0.3815 - val_acc: 0.8933\n",
      "Epoch 143/500\n",
      "75/75 [==============================] - 0s 120us/step - loss: 0.3514 - acc: 0.9200 - val_loss: 0.3793 - val_acc: 0.8933\n",
      "Epoch 144/500\n",
      "75/75 [==============================] - 0s 107us/step - loss: 0.3515 - acc: 0.9200 - val_loss: 0.3726 - val_acc: 0.9067\n",
      "Epoch 145/500\n",
      "75/75 [==============================] - 0s 107us/step - loss: 0.3490 - acc: 0.9200 - val_loss: 0.3735 - val_acc: 0.8933\n",
      "Epoch 146/500\n",
      "75/75 [==============================] - 0s 107us/step - loss: 0.3452 - acc: 0.9200 - val_loss: 0.3675 - val_acc: 0.9200\n",
      "Epoch 147/500\n",
      "75/75 [==============================] - 0s 120us/step - loss: 0.3431 - acc: 0.9333 - val_loss: 0.3674 - val_acc: 0.9067\n",
      "Epoch 148/500\n",
      "75/75 [==============================] - 0s 107us/step - loss: 0.3410 - acc: 0.9333 - val_loss: 0.3643 - val_acc: 0.9067\n",
      "Epoch 149/500\n",
      "75/75 [==============================] - 0s 120us/step - loss: 0.3382 - acc: 0.9333 - val_loss: 0.3632 - val_acc: 0.9067\n",
      "Epoch 150/500\n",
      "75/75 [==============================] - 0s 94us/step - loss: 0.3367 - acc: 0.9200 - val_loss: 0.3625 - val_acc: 0.8933\n",
      "Epoch 151/500\n",
      "75/75 [==============================] - 0s 94us/step - loss: 0.3352 - acc: 0.9200 - val_loss: 0.3583 - val_acc: 0.9067\n",
      "Epoch 152/500\n",
      "75/75 [==============================] - 0s 107us/step - loss: 0.3323 - acc: 0.9333 - val_loss: 0.3562 - val_acc: 0.9067\n",
      "Epoch 153/500\n",
      "75/75 [==============================] - 0s 107us/step - loss: 0.3309 - acc: 0.9333 - val_loss: 0.3546 - val_acc: 0.9067\n",
      "Epoch 154/500\n",
      "75/75 [==============================] - 0s 81us/step - loss: 0.3287 - acc: 0.9333 - val_loss: 0.3512 - val_acc: 0.9200\n",
      "Epoch 155/500\n",
      "75/75 [==============================] - 0s 0us/step - loss: 0.3262 - acc: 0.9467 - val_loss: 0.3490 - val_acc: 0.9200\n",
      "Epoch 156/500\n",
      "75/75 [==============================] - 0s 208us/step - loss: 0.3237 - acc: 0.9467 - val_loss: 0.3489 - val_acc: 0.9067\n",
      "Epoch 157/500\n",
      "75/75 [==============================] - 0s 0us/step - loss: 0.3238 - acc: 0.9200 - val_loss: 0.3514 - val_acc: 0.8933\n",
      "Epoch 158/500\n",
      "75/75 [==============================] - 0s 208us/step - loss: 0.3217 - acc: 0.9200 - val_loss: 0.3449 - val_acc: 0.9067\n",
      "Epoch 159/500\n",
      "75/75 [==============================] - 0s 0us/step - loss: 0.3185 - acc: 0.9467 - val_loss: 0.3404 - val_acc: 0.9200\n",
      "Epoch 160/500\n",
      "75/75 [==============================] - 0s 0us/step - loss: 0.3173 - acc: 0.9467 - val_loss: 0.3405 - val_acc: 0.9200\n",
      "Epoch 161/500\n",
      "75/75 [==============================] - 0s 208us/step - loss: 0.3145 - acc: 0.9333 - val_loss: 0.3367 - val_acc: 0.9200\n",
      "Epoch 162/500\n",
      "75/75 [==============================] - 0s 0us/step - loss: 0.3133 - acc: 0.9467 - val_loss: 0.3344 - val_acc: 0.9200\n",
      "Epoch 163/500\n",
      "75/75 [==============================] - 0s 208us/step - loss: 0.3117 - acc: 0.9467 - val_loss: 0.3313 - val_acc: 0.9200\n",
      "Epoch 164/500\n",
      "75/75 [==============================] - 0s 0us/step - loss: 0.3105 - acc: 0.9333 - val_loss: 0.3287 - val_acc: 0.9200\n",
      "Epoch 165/500\n",
      "75/75 [==============================] - 0s 0us/step - loss: 0.3110 - acc: 0.9333 - val_loss: 0.3327 - val_acc: 0.9067\n",
      "Epoch 166/500\n",
      "75/75 [==============================] - 0s 208us/step - loss: 0.3058 - acc: 0.9333 - val_loss: 0.3283 - val_acc: 0.9200\n",
      "Epoch 167/500\n",
      "75/75 [==============================] - 0s 0us/step - loss: 0.3037 - acc: 0.9333 - val_loss: 0.3238 - val_acc: 0.9200\n",
      "Epoch 168/500\n",
      "75/75 [==============================] - 0s 208us/step - loss: 0.3027 - acc: 0.9200 - val_loss: 0.3226 - val_acc: 0.9200\n",
      "Epoch 169/500\n",
      "75/75 [==============================] - 0s 0us/step - loss: 0.3028 - acc: 0.9467 - val_loss: 0.3236 - val_acc: 0.9200\n",
      "Epoch 170/500\n",
      "75/75 [==============================] - 0s 208us/step - loss: 0.2983 - acc: 0.9467 - val_loss: 0.3180 - val_acc: 0.9200\n",
      "Epoch 171/500\n",
      "75/75 [==============================] - 0s 0us/step - loss: 0.2975 - acc: 0.9333 - val_loss: 0.3160 - val_acc: 0.9200\n",
      "Epoch 172/500\n",
      "75/75 [==============================] - 0s 208us/step - loss: 0.2962 - acc: 0.9467 - val_loss: 0.3125 - val_acc: 0.9333\n",
      "Epoch 173/500\n",
      "75/75 [==============================] - 0s 208us/step - loss: 0.2950 - acc: 0.9467 - val_loss: 0.3108 - val_acc: 0.9333\n",
      "Epoch 174/500\n",
      "75/75 [==============================] - 0s 0us/step - loss: 0.2919 - acc: 0.9467 - val_loss: 0.3113 - val_acc: 0.9200\n",
      "Epoch 175/500\n",
      "75/75 [==============================] - 0s 208us/step - loss: 0.2911 - acc: 0.9333 - val_loss: 0.3120 - val_acc: 0.9200\n",
      "Epoch 176/500\n",
      "75/75 [==============================] - 0s 0us/step - loss: 0.2889 - acc: 0.9467 - val_loss: 0.3102 - val_acc: 0.9200\n",
      "Epoch 177/500\n",
      "75/75 [==============================] - 0s 208us/step - loss: 0.2875 - acc: 0.9333 - val_loss: 0.3048 - val_acc: 0.9200\n",
      "Epoch 178/500\n",
      "75/75 [==============================] - 0s 208us/step - loss: 0.2864 - acc: 0.9467 - val_loss: 0.3048 - val_acc: 0.9200\n",
      "Epoch 179/500\n",
      "75/75 [==============================] - 0s 0us/step - loss: 0.2844 - acc: 0.9467 - val_loss: 0.3005 - val_acc: 0.9333\n",
      "Epoch 180/500\n",
      "75/75 [==============================] - 0s 208us/step - loss: 0.2834 - acc: 0.9467 - val_loss: 0.2986 - val_acc: 0.9333\n",
      "Epoch 181/500\n",
      "75/75 [==============================] - ETA: 0s - loss: 0.2386 - acc: 0.900 - 0s 0us/step - loss: 0.2808 - acc: 0.9467 - val_loss: 0.2985 - val_acc: 0.9200\n"
     ]
    },
    {
     "name": "stdout",
     "output_type": "stream",
     "text": [
      "Epoch 182/500\n",
      "75/75 [==============================] - 0s 0us/step - loss: 0.2795 - acc: 0.9333 - val_loss: 0.2991 - val_acc: 0.9200\n",
      "Epoch 183/500\n",
      "75/75 [==============================] - 0s 208us/step - loss: 0.2809 - acc: 0.9467 - val_loss: 0.3021 - val_acc: 0.9200\n",
      "Epoch 184/500\n",
      "75/75 [==============================] - 0s 0us/step - loss: 0.2767 - acc: 0.9333 - val_loss: 0.2950 - val_acc: 0.9200\n",
      "Epoch 185/500\n",
      "75/75 [==============================] - 0s 208us/step - loss: 0.2749 - acc: 0.9333 - val_loss: 0.2912 - val_acc: 0.9200\n",
      "Epoch 186/500\n",
      "75/75 [==============================] - 0s 208us/step - loss: 0.2761 - acc: 0.9200 - val_loss: 0.2930 - val_acc: 0.9200\n",
      "Epoch 187/500\n",
      "75/75 [==============================] - 0s 0us/step - loss: 0.2721 - acc: 0.9333 - val_loss: 0.2892 - val_acc: 0.9200\n",
      "Epoch 188/500\n",
      "75/75 [==============================] - 0s 208us/step - loss: 0.2699 - acc: 0.9467 - val_loss: 0.2843 - val_acc: 0.9467\n",
      "Epoch 189/500\n",
      "75/75 [==============================] - 0s 0us/step - loss: 0.2709 - acc: 0.9333 - val_loss: 0.2819 - val_acc: 0.9600\n",
      "Epoch 190/500\n",
      "75/75 [==============================] - 0s 0us/step - loss: 0.2674 - acc: 0.9467 - val_loss: 0.2821 - val_acc: 0.9333\n",
      "Epoch 191/500\n",
      "75/75 [==============================] - 0s 208us/step - loss: 0.2705 - acc: 0.9200 - val_loss: 0.2914 - val_acc: 0.9200\n",
      "Epoch 192/500\n",
      "75/75 [==============================] - 0s 0us/step - loss: 0.2661 - acc: 0.9467 - val_loss: 0.2849 - val_acc: 0.9200\n",
      "Epoch 193/500\n",
      "75/75 [==============================] - 0s 208us/step - loss: 0.2635 - acc: 0.9333 - val_loss: 0.2796 - val_acc: 0.9200\n",
      "Epoch 194/500\n",
      "75/75 [==============================] - 0s 0us/step - loss: 0.2622 - acc: 0.9467 - val_loss: 0.2764 - val_acc: 0.9333\n",
      "Epoch 195/500\n",
      "75/75 [==============================] - 0s 208us/step - loss: 0.2624 - acc: 0.9467 - val_loss: 0.2764 - val_acc: 0.9200\n",
      "Epoch 196/500\n",
      "75/75 [==============================] - 0s 0us/step - loss: 0.2603 - acc: 0.9467 - val_loss: 0.2737 - val_acc: 0.9333\n",
      "Epoch 197/500\n",
      "75/75 [==============================] - 0s 0us/step - loss: 0.2585 - acc: 0.9467 - val_loss: 0.2726 - val_acc: 0.9333\n",
      "Epoch 198/500\n",
      "75/75 [==============================] - 0s 208us/step - loss: 0.2582 - acc: 0.9333 - val_loss: 0.2741 - val_acc: 0.9200\n",
      "Epoch 199/500\n",
      "75/75 [==============================] - 0s 0us/step - loss: 0.2566 - acc: 0.9467 - val_loss: 0.2712 - val_acc: 0.9200\n",
      "Epoch 200/500\n",
      "75/75 [==============================] - 0s 208us/step - loss: 0.2545 - acc: 0.9467 - val_loss: 0.2723 - val_acc: 0.9200\n",
      "Epoch 201/500\n",
      "75/75 [==============================] - 0s 0us/step - loss: 0.2544 - acc: 0.9467 - val_loss: 0.2718 - val_acc: 0.9200\n",
      "Epoch 202/500\n",
      "75/75 [==============================] - 0s 208us/step - loss: 0.2544 - acc: 0.9467 - val_loss: 0.2642 - val_acc: 0.9467\n",
      "Epoch 203/500\n",
      "75/75 [==============================] - 0s 208us/step - loss: 0.2512 - acc: 0.9467 - val_loss: 0.2657 - val_acc: 0.9200\n",
      "Epoch 204/500\n",
      "75/75 [==============================] - 0s 0us/step - loss: 0.2507 - acc: 0.9467 - val_loss: 0.2622 - val_acc: 0.9333\n",
      "Epoch 205/500\n",
      "75/75 [==============================] - 0s 208us/step - loss: 0.2483 - acc: 0.9467 - val_loss: 0.2617 - val_acc: 0.9333\n",
      "Epoch 206/500\n",
      "75/75 [==============================] - 0s 0us/step - loss: 0.2473 - acc: 0.9467 - val_loss: 0.2627 - val_acc: 0.9200\n",
      "Epoch 207/500\n",
      "75/75 [==============================] - 0s 208us/step - loss: 0.2462 - acc: 0.9467 - val_loss: 0.2583 - val_acc: 0.9333\n",
      "Epoch 208/500\n",
      "75/75 [==============================] - 0s 0us/step - loss: 0.2446 - acc: 0.9467 - val_loss: 0.2555 - val_acc: 0.9467\n",
      "Epoch 209/500\n",
      "75/75 [==============================] - 0s 208us/step - loss: 0.2450 - acc: 0.9467 - val_loss: 0.2554 - val_acc: 0.9467\n",
      "Epoch 210/500\n",
      "75/75 [==============================] - 0s 208us/step - loss: 0.2423 - acc: 0.9467 - val_loss: 0.2529 - val_acc: 0.9467\n",
      "Epoch 211/500\n",
      "75/75 [==============================] - 0s 0us/step - loss: 0.2405 - acc: 0.9467 - val_loss: 0.2500 - val_acc: 0.9600\n",
      "Epoch 212/500\n",
      "75/75 [==============================] - 0s 208us/step - loss: 0.2405 - acc: 0.9467 - val_loss: 0.2490 - val_acc: 0.9600\n",
      "Epoch 213/500\n",
      "75/75 [==============================] - 0s 0us/step - loss: 0.2393 - acc: 0.9333 - val_loss: 0.2478 - val_acc: 0.9600\n",
      "Epoch 214/500\n",
      "75/75 [==============================] - 0s 208us/step - loss: 0.2383 - acc: 0.9467 - val_loss: 0.2497 - val_acc: 0.9333\n",
      "Epoch 215/500\n",
      "75/75 [==============================] - 0s 208us/step - loss: 0.2369 - acc: 0.9467 - val_loss: 0.2488 - val_acc: 0.9333\n",
      "Epoch 216/500\n",
      "75/75 [==============================] - 0s 0us/step - loss: 0.2358 - acc: 0.9467 - val_loss: 0.2452 - val_acc: 0.9467\n",
      "Epoch 217/500\n",
      "75/75 [==============================] - 0s 208us/step - loss: 0.2344 - acc: 0.9467 - val_loss: 0.2441 - val_acc: 0.9467\n",
      "Epoch 218/500\n",
      "75/75 [==============================] - 0s 0us/step - loss: 0.2352 - acc: 0.9467 - val_loss: 0.2460 - val_acc: 0.9333\n",
      "Epoch 219/500\n",
      "75/75 [==============================] - 0s 0us/step - loss: 0.2324 - acc: 0.9467 - val_loss: 0.2411 - val_acc: 0.9467\n",
      "Epoch 220/500\n",
      "75/75 [==============================] - 0s 208us/step - loss: 0.2325 - acc: 0.9467 - val_loss: 0.2386 - val_acc: 0.9600\n",
      "Epoch 221/500\n",
      "75/75 [==============================] - 0s 0us/step - loss: 0.2297 - acc: 0.9467 - val_loss: 0.2405 - val_acc: 0.9467\n",
      "Epoch 222/500\n",
      "75/75 [==============================] - 0s 208us/step - loss: 0.2291 - acc: 0.9467 - val_loss: 0.2415 - val_acc: 0.9333\n",
      "Epoch 223/500\n",
      "75/75 [==============================] - 0s 208us/step - loss: 0.2282 - acc: 0.9467 - val_loss: 0.2389 - val_acc: 0.9467\n",
      "Epoch 224/500\n",
      "75/75 [==============================] - 0s 0us/step - loss: 0.2276 - acc: 0.9467 - val_loss: 0.2327 - val_acc: 0.9600\n",
      "Epoch 225/500\n",
      "75/75 [==============================] - 0s 208us/step - loss: 0.2272 - acc: 0.9333 - val_loss: 0.2315 - val_acc: 0.9600\n",
      "Epoch 226/500\n",
      "75/75 [==============================] - 0s 0us/step - loss: 0.2263 - acc: 0.9467 - val_loss: 0.2311 - val_acc: 0.9600\n",
      "Epoch 227/500\n",
      "75/75 [==============================] - 0s 208us/step - loss: 0.2297 - acc: 0.9333 - val_loss: 0.2275 - val_acc: 0.9733\n",
      "Epoch 228/500\n",
      "75/75 [==============================] - 0s 0us/step - loss: 0.2263 - acc: 0.9333 - val_loss: 0.2313 - val_acc: 0.9467\n",
      "Epoch 229/500\n",
      "75/75 [==============================] - 0s 107us/step - loss: 0.2226 - acc: 0.9467 - val_loss: 0.2311 - val_acc: 0.9467\n",
      "Epoch 230/500\n",
      "75/75 [==============================] - 0s 120us/step - loss: 0.2216 - acc: 0.9467 - val_loss: 0.2318 - val_acc: 0.9467\n",
      "Epoch 231/500\n",
      "75/75 [==============================] - 0s 107us/step - loss: 0.2199 - acc: 0.9467 - val_loss: 0.2273 - val_acc: 0.9600\n",
      "Epoch 232/500\n",
      "75/75 [==============================] - 0s 107us/step - loss: 0.2187 - acc: 0.9467 - val_loss: 0.2240 - val_acc: 0.9600\n",
      "Epoch 233/500\n",
      "75/75 [==============================] - 0s 107us/step - loss: 0.2182 - acc: 0.9467 - val_loss: 0.2244 - val_acc: 0.9600\n",
      "Epoch 234/500\n",
      "75/75 [==============================] - 0s 107us/step - loss: 0.2187 - acc: 0.9467 - val_loss: 0.2213 - val_acc: 0.9600\n",
      "Epoch 235/500\n",
      "75/75 [==============================] - 0s 107us/step - loss: 0.2176 - acc: 0.9333 - val_loss: 0.2242 - val_acc: 0.9467\n",
      "Epoch 236/500\n",
      "75/75 [==============================] - 0s 107us/step - loss: 0.2156 - acc: 0.9467 - val_loss: 0.2220 - val_acc: 0.9600\n",
      "Epoch 237/500\n",
      "75/75 [==============================] - 0s 94us/step - loss: 0.2137 - acc: 0.9467 - val_loss: 0.2186 - val_acc: 0.9600\n",
      "Epoch 238/500\n",
      "75/75 [==============================] - 0s 107us/step - loss: 0.2147 - acc: 0.9333 - val_loss: 0.2170 - val_acc: 0.9600\n",
      "Epoch 239/500\n",
      "75/75 [==============================] - 0s 94us/step - loss: 0.2125 - acc: 0.9333 - val_loss: 0.2168 - val_acc: 0.9600\n",
      "Epoch 240/500\n",
      "75/75 [==============================] - 0s 107us/step - loss: 0.2112 - acc: 0.9467 - val_loss: 0.2178 - val_acc: 0.9600\n",
      "Epoch 241/500\n",
      "75/75 [==============================] - 0s 107us/step - loss: 0.2106 - acc: 0.9467 - val_loss: 0.2183 - val_acc: 0.9467\n",
      "Epoch 242/500\n",
      "75/75 [==============================] - 0s 107us/step - loss: 0.2123 - acc: 0.9467 - val_loss: 0.2207 - val_acc: 0.9467\n",
      "Epoch 243/500\n"
     ]
    },
    {
     "name": "stdout",
     "output_type": "stream",
     "text": [
      "75/75 [==============================] - 0s 107us/step - loss: 0.2093 - acc: 0.9467 - val_loss: 0.2137 - val_acc: 0.9600\n",
      "Epoch 244/500\n",
      "75/75 [==============================] - 0s 107us/step - loss: 0.2079 - acc: 0.9467 - val_loss: 0.2119 - val_acc: 0.9600\n",
      "Epoch 245/500\n",
      "75/75 [==============================] - 0s 107us/step - loss: 0.2071 - acc: 0.9467 - val_loss: 0.2116 - val_acc: 0.9600\n",
      "Epoch 246/500\n",
      "75/75 [==============================] - 0s 107us/step - loss: 0.2069 - acc: 0.9333 - val_loss: 0.2094 - val_acc: 0.9600\n",
      "Epoch 247/500\n",
      "75/75 [==============================] - 0s 94us/step - loss: 0.2058 - acc: 0.9467 - val_loss: 0.2124 - val_acc: 0.9467\n",
      "Epoch 248/500\n",
      "75/75 [==============================] - 0s 120us/step - loss: 0.2056 - acc: 0.9467 - val_loss: 0.2107 - val_acc: 0.9467\n",
      "Epoch 249/500\n",
      "75/75 [==============================] - 0s 107us/step - loss: 0.2052 - acc: 0.9467 - val_loss: 0.2084 - val_acc: 0.9600\n",
      "Epoch 250/500\n",
      "75/75 [==============================] - 0s 120us/step - loss: 0.2032 - acc: 0.9467 - val_loss: 0.2081 - val_acc: 0.9600\n",
      "Epoch 251/500\n",
      "75/75 [==============================] - 0s 107us/step - loss: 0.2043 - acc: 0.9467 - val_loss: 0.2077 - val_acc: 0.9600\n",
      "Epoch 252/500\n",
      "75/75 [==============================] - 0s 107us/step - loss: 0.2024 - acc: 0.9467 - val_loss: 0.2066 - val_acc: 0.9600\n",
      "Epoch 253/500\n",
      "75/75 [==============================] - 0s 107us/step - loss: 0.2015 - acc: 0.9467 - val_loss: 0.2037 - val_acc: 0.9600\n",
      "Epoch 254/500\n",
      "75/75 [==============================] - 0s 107us/step - loss: 0.2004 - acc: 0.9467 - val_loss: 0.2031 - val_acc: 0.9600\n",
      "Epoch 255/500\n",
      "75/75 [==============================] - 0s 107us/step - loss: 0.2002 - acc: 0.9333 - val_loss: 0.2006 - val_acc: 0.9600\n",
      "Epoch 256/500\n",
      "75/75 [==============================] - 0s 107us/step - loss: 0.1997 - acc: 0.9467 - val_loss: 0.2055 - val_acc: 0.9467\n",
      "Epoch 257/500\n",
      "75/75 [==============================] - 0s 107us/step - loss: 0.1979 - acc: 0.9467 - val_loss: 0.2019 - val_acc: 0.9600\n",
      "Epoch 258/500\n",
      "75/75 [==============================] - 0s 107us/step - loss: 0.1972 - acc: 0.9467 - val_loss: 0.1991 - val_acc: 0.9600\n",
      "Epoch 259/500\n",
      "75/75 [==============================] - 0s 94us/step - loss: 0.1964 - acc: 0.9333 - val_loss: 0.1975 - val_acc: 0.9600\n",
      "Epoch 260/500\n",
      "75/75 [==============================] - 0s 94us/step - loss: 0.1982 - acc: 0.9333 - val_loss: 0.1939 - val_acc: 0.9733\n",
      "Epoch 261/500\n",
      "75/75 [==============================] - 0s 107us/step - loss: 0.2019 - acc: 0.9333 - val_loss: 0.2038 - val_acc: 0.9467\n",
      "Epoch 262/500\n",
      "75/75 [==============================] - 0s 107us/step - loss: 0.1950 - acc: 0.9467 - val_loss: 0.1990 - val_acc: 0.9467\n",
      "Epoch 263/500\n",
      "75/75 [==============================] - 0s 94us/step - loss: 0.1951 - acc: 0.9333 - val_loss: 0.1935 - val_acc: 0.9600\n",
      "Epoch 264/500\n",
      "75/75 [==============================] - 0s 107us/step - loss: 0.1935 - acc: 0.9333 - val_loss: 0.1943 - val_acc: 0.9600\n",
      "Epoch 265/500\n",
      "75/75 [==============================] - 0s 281us/step - loss: 0.1918 - acc: 0.9333 - val_loss: 0.1922 - val_acc: 0.9600\n",
      "Epoch 266/500\n",
      "75/75 [==============================] - 0s 94us/step - loss: 0.1921 - acc: 0.9333 - val_loss: 0.1888 - val_acc: 0.9733\n",
      "Epoch 267/500\n",
      "75/75 [==============================] - 0s 107us/step - loss: 0.1912 - acc: 0.9333 - val_loss: 0.1885 - val_acc: 0.9733\n",
      "Epoch 268/500\n",
      "75/75 [==============================] - 0s 80us/step - loss: 0.1900 - acc: 0.9333 - val_loss: 0.1906 - val_acc: 0.9600\n",
      "Epoch 269/500\n",
      "75/75 [==============================] - 0s 94us/step - loss: 0.1907 - acc: 0.9333 - val_loss: 0.1887 - val_acc: 0.9600\n",
      "Epoch 270/500\n",
      "75/75 [==============================] - 0s 94us/step - loss: 0.1886 - acc: 0.9333 - val_loss: 0.1899 - val_acc: 0.9600\n",
      "Epoch 271/500\n",
      "75/75 [==============================] - 0s 80us/step - loss: 0.1886 - acc: 0.9333 - val_loss: 0.1868 - val_acc: 0.9600\n",
      "Epoch 272/500\n",
      "75/75 [==============================] - 0s 94us/step - loss: 0.1880 - acc: 0.9467 - val_loss: 0.1884 - val_acc: 0.9600\n",
      "Epoch 273/500\n",
      "75/75 [==============================] - 0s 94us/step - loss: 0.1860 - acc: 0.9467 - val_loss: 0.1852 - val_acc: 0.9600\n",
      "Epoch 274/500\n",
      "75/75 [==============================] - 0s 94us/step - loss: 0.1858 - acc: 0.9333 - val_loss: 0.1840 - val_acc: 0.9600\n",
      "Epoch 275/500\n",
      "75/75 [==============================] - 0s 80us/step - loss: 0.1874 - acc: 0.9333 - val_loss: 0.1823 - val_acc: 0.9733\n",
      "Epoch 276/500\n",
      "75/75 [==============================] - 0s 94us/step - loss: 0.1857 - acc: 0.9333 - val_loss: 0.1886 - val_acc: 0.9600\n",
      "Epoch 277/500\n",
      "75/75 [==============================] - 0s 80us/step - loss: 0.1866 - acc: 0.9467 - val_loss: 0.1919 - val_acc: 0.9467\n",
      "Epoch 278/500\n",
      "75/75 [==============================] - 0s 94us/step - loss: 0.1844 - acc: 0.9467 - val_loss: 0.1818 - val_acc: 0.9600\n",
      "Epoch 279/500\n",
      "75/75 [==============================] - 0s 94us/step - loss: 0.1843 - acc: 0.9333 - val_loss: 0.1773 - val_acc: 0.9733\n",
      "Epoch 280/500\n",
      "75/75 [==============================] - 0s 80us/step - loss: 0.1841 - acc: 0.9333 - val_loss: 0.1762 - val_acc: 0.9867\n",
      "Epoch 281/500\n",
      "75/75 [==============================] - 0s 94us/step - loss: 0.1826 - acc: 0.9333 - val_loss: 0.1800 - val_acc: 0.9600\n",
      "Epoch 282/500\n",
      "75/75 [==============================] - 0s 94us/step - loss: 0.1804 - acc: 0.9333 - val_loss: 0.1807 - val_acc: 0.9600\n",
      "Epoch 283/500\n",
      "75/75 [==============================] - 0s 80us/step - loss: 0.1816 - acc: 0.9333 - val_loss: 0.1781 - val_acc: 0.9600\n",
      "Epoch 284/500\n",
      "75/75 [==============================] - 0s 94us/step - loss: 0.1836 - acc: 0.9467 - val_loss: 0.1869 - val_acc: 0.9467\n",
      "Epoch 285/500\n",
      "75/75 [==============================] - 0s 94us/step - loss: 0.1820 - acc: 0.9467 - val_loss: 0.1850 - val_acc: 0.9467\n",
      "Epoch 286/500\n",
      "75/75 [==============================] - 0s 94us/step - loss: 0.1781 - acc: 0.9467 - val_loss: 0.1731 - val_acc: 0.9733\n",
      "Epoch 287/500\n",
      "75/75 [==============================] - 0s 94us/step - loss: 0.1789 - acc: 0.9333 - val_loss: 0.1701 - val_acc: 0.9867\n",
      "Epoch 288/500\n",
      "75/75 [==============================] - 0s 80us/step - loss: 0.1805 - acc: 0.9467 - val_loss: 0.1691 - val_acc: 0.9867\n",
      "Epoch 289/500\n",
      "75/75 [==============================] - 0s 94us/step - loss: 0.1792 - acc: 0.9333 - val_loss: 0.1726 - val_acc: 0.9600\n",
      "Epoch 290/500\n",
      "75/75 [==============================] - 0s 94us/step - loss: 0.1758 - acc: 0.9333 - val_loss: 0.1749 - val_acc: 0.9600\n",
      "Epoch 291/500\n",
      "75/75 [==============================] - 0s 94us/step - loss: 0.1754 - acc: 0.9467 - val_loss: 0.1752 - val_acc: 0.9600\n",
      "Epoch 292/500\n",
      "75/75 [==============================] - 0s 94us/step - loss: 0.1758 - acc: 0.9467 - val_loss: 0.1801 - val_acc: 0.9467\n",
      "Epoch 293/500\n",
      "75/75 [==============================] - 0s 94us/step - loss: 0.1756 - acc: 0.9467 - val_loss: 0.1759 - val_acc: 0.9600\n",
      "Epoch 294/500\n",
      "75/75 [==============================] - 0s 94us/step - loss: 0.1740 - acc: 0.9467 - val_loss: 0.1725 - val_acc: 0.9600\n",
      "Epoch 295/500\n",
      "75/75 [==============================] - 0s 94us/step - loss: 0.1745 - acc: 0.9333 - val_loss: 0.1720 - val_acc: 0.9600\n",
      "Epoch 296/500\n",
      "75/75 [==============================] - 0s 94us/step - loss: 0.1733 - acc: 0.9467 - val_loss: 0.1725 - val_acc: 0.9600\n",
      "Epoch 297/500\n",
      "75/75 [==============================] - 0s 80us/step - loss: 0.1714 - acc: 0.9467 - val_loss: 0.1675 - val_acc: 0.9600\n",
      "Epoch 298/500\n",
      "75/75 [==============================] - ETA: 0s - loss: 0.2429 - acc: 0.800 - 0s 94us/step - loss: 0.1746 - acc: 0.9333 - val_loss: 0.1636 - val_acc: 0.9867\n",
      "Epoch 299/500\n",
      "75/75 [==============================] - 0s 94us/step - loss: 0.1760 - acc: 0.9333 - val_loss: 0.1680 - val_acc: 0.9600\n",
      "Epoch 300/500\n",
      "75/75 [==============================] - 0s 94us/step - loss: 0.1725 - acc: 0.9333 - val_loss: 0.1622 - val_acc: 0.9867\n",
      "Epoch 301/500\n",
      "75/75 [==============================] - 0s 94us/step - loss: 0.1706 - acc: 0.9333 - val_loss: 0.1651 - val_acc: 0.9600\n",
      "Epoch 302/500\n",
      "75/75 [==============================] - 0s 94us/step - loss: 0.1713 - acc: 0.9333 - val_loss: 0.1699 - val_acc: 0.9600\n",
      "Epoch 303/500\n",
      "75/75 [==============================] - 0s 94us/step - loss: 0.1701 - acc: 0.9467 - val_loss: 0.1636 - val_acc: 0.9600\n"
     ]
    },
    {
     "name": "stdout",
     "output_type": "stream",
     "text": [
      "Epoch 304/500\n",
      "75/75 [==============================] - 0s 94us/step - loss: 0.1691 - acc: 0.9333 - val_loss: 0.1636 - val_acc: 0.9600\n",
      "Epoch 305/500\n",
      "75/75 [==============================] - 0s 94us/step - loss: 0.1680 - acc: 0.9333 - val_loss: 0.1627 - val_acc: 0.9600\n",
      "Epoch 306/500\n",
      "75/75 [==============================] - 0s 94us/step - loss: 0.1673 - acc: 0.9333 - val_loss: 0.1635 - val_acc: 0.9600\n",
      "Epoch 307/500\n",
      "75/75 [==============================] - 0s 94us/step - loss: 0.1671 - acc: 0.9333 - val_loss: 0.1626 - val_acc: 0.9600\n",
      "Epoch 308/500\n",
      "75/75 [==============================] - 0s 94us/step - loss: 0.1670 - acc: 0.9333 - val_loss: 0.1669 - val_acc: 0.9600\n",
      "Epoch 309/500\n",
      "75/75 [==============================] - 0s 94us/step - loss: 0.1671 - acc: 0.9467 - val_loss: 0.1662 - val_acc: 0.9600\n",
      "Epoch 310/500\n",
      "75/75 [==============================] - 0s 94us/step - loss: 0.1659 - acc: 0.9467 - val_loss: 0.1618 - val_acc: 0.9600\n",
      "Epoch 311/500\n",
      "75/75 [==============================] - 0s 94us/step - loss: 0.1655 - acc: 0.9333 - val_loss: 0.1590 - val_acc: 0.9600\n",
      "Epoch 312/500\n",
      "75/75 [==============================] - 0s 94us/step - loss: 0.1652 - acc: 0.9333 - val_loss: 0.1565 - val_acc: 0.9733\n",
      "Epoch 313/500\n",
      "75/75 [==============================] - 0s 94us/step - loss: 0.1643 - acc: 0.9333 - val_loss: 0.1568 - val_acc: 0.9733\n",
      "Epoch 314/500\n",
      "75/75 [==============================] - 0s 94us/step - loss: 0.1647 - acc: 0.9467 - val_loss: 0.1620 - val_acc: 0.9600\n",
      "Epoch 315/500\n",
      "75/75 [==============================] - 0s 94us/step - loss: 0.1629 - acc: 0.9467 - val_loss: 0.1579 - val_acc: 0.9600\n",
      "Epoch 316/500\n",
      "75/75 [==============================] - 0s 94us/step - loss: 0.1629 - acc: 0.9333 - val_loss: 0.1560 - val_acc: 0.9733\n",
      "Epoch 317/500\n",
      "75/75 [==============================] - 0s 94us/step - loss: 0.1627 - acc: 0.9333 - val_loss: 0.1523 - val_acc: 0.9867\n",
      "Epoch 318/500\n",
      "75/75 [==============================] - 0s 94us/step - loss: 0.1631 - acc: 0.9333 - val_loss: 0.1509 - val_acc: 0.9867\n",
      "Epoch 319/500\n",
      "75/75 [==============================] - 0s 80us/step - loss: 0.1621 - acc: 0.9333 - val_loss: 0.1529 - val_acc: 0.9733\n",
      "Epoch 320/500\n",
      "75/75 [==============================] - 0s 94us/step - loss: 0.1610 - acc: 0.9333 - val_loss: 0.1543 - val_acc: 0.9600\n",
      "Epoch 321/500\n",
      "75/75 [==============================] - 0s 107us/step - loss: 0.1638 - acc: 0.9333 - val_loss: 0.1522 - val_acc: 0.9733\n",
      "Epoch 322/500\n",
      "75/75 [==============================] - 0s 107us/step - loss: 0.1649 - acc: 0.9467 - val_loss: 0.1679 - val_acc: 0.9467\n",
      "Epoch 323/500\n",
      "75/75 [==============================] - 0s 80us/step - loss: 0.1621 - acc: 0.9467 - val_loss: 0.1625 - val_acc: 0.9467\n",
      "Epoch 324/500\n",
      "75/75 [==============================] - 0s 107us/step - loss: 0.1603 - acc: 0.9467 - val_loss: 0.1548 - val_acc: 0.9600\n",
      "Epoch 325/500\n",
      "75/75 [==============================] - 0s 94us/step - loss: 0.1587 - acc: 0.9333 - val_loss: 0.1514 - val_acc: 0.9733\n",
      "Epoch 326/500\n",
      "75/75 [==============================] - 0s 94us/step - loss: 0.1583 - acc: 0.9333 - val_loss: 0.1513 - val_acc: 0.9600\n",
      "Epoch 327/500\n",
      "75/75 [==============================] - 0s 94us/step - loss: 0.1578 - acc: 0.9333 - val_loss: 0.1513 - val_acc: 0.9600\n",
      "Epoch 328/500\n",
      "75/75 [==============================] - 0s 107us/step - loss: 0.1607 - acc: 0.9333 - val_loss: 0.1567 - val_acc: 0.9600\n",
      "Epoch 329/500\n",
      "75/75 [==============================] - 0s 94us/step - loss: 0.1595 - acc: 0.9333 - val_loss: 0.1467 - val_acc: 0.9733\n",
      "Epoch 330/500\n",
      "75/75 [==============================] - 0s 107us/step - loss: 0.1584 - acc: 0.9333 - val_loss: 0.1508 - val_acc: 0.9600\n",
      "Epoch 331/500\n",
      "75/75 [==============================] - 0s 94us/step - loss: 0.1561 - acc: 0.9333 - val_loss: 0.1479 - val_acc: 0.9733\n",
      "Epoch 332/500\n",
      "75/75 [==============================] - 0s 94us/step - loss: 0.1574 - acc: 0.9467 - val_loss: 0.1488 - val_acc: 0.9600\n",
      "Epoch 333/500\n",
      "75/75 [==============================] - 0s 107us/step - loss: 0.1567 - acc: 0.9333 - val_loss: 0.1445 - val_acc: 0.9733\n",
      "Epoch 334/500\n",
      "75/75 [==============================] - 0s 107us/step - loss: 0.1572 - acc: 0.9333 - val_loss: 0.1439 - val_acc: 0.9733\n",
      "Epoch 335/500\n",
      "75/75 [==============================] - 0s 94us/step - loss: 0.1550 - acc: 0.9333 - val_loss: 0.1517 - val_acc: 0.9600\n",
      "Epoch 336/500\n",
      "75/75 [==============================] - 0s 94us/step - loss: 0.1588 - acc: 0.9467 - val_loss: 0.1569 - val_acc: 0.9467\n",
      "Epoch 337/500\n",
      "75/75 [==============================] - 0s 94us/step - loss: 0.1575 - acc: 0.9333 - val_loss: 0.1426 - val_acc: 0.9733\n",
      "Epoch 338/500\n",
      "75/75 [==============================] - 0s 80us/step - loss: 0.1542 - acc: 0.9333 - val_loss: 0.1433 - val_acc: 0.9733\n",
      "Epoch 339/500\n",
      "75/75 [==============================] - 0s 94us/step - loss: 0.1547 - acc: 0.9333 - val_loss: 0.1417 - val_acc: 0.9733\n",
      "Epoch 340/500\n",
      "75/75 [==============================] - 0s 80us/step - loss: 0.1522 - acc: 0.9333 - val_loss: 0.1498 - val_acc: 0.9600\n",
      "Epoch 341/500\n",
      "75/75 [==============================] - 0s 94us/step - loss: 0.1547 - acc: 0.9467 - val_loss: 0.1480 - val_acc: 0.9600\n",
      "Epoch 342/500\n",
      "75/75 [==============================] - 0s 94us/step - loss: 0.1530 - acc: 0.9467 - val_loss: 0.1499 - val_acc: 0.9600\n",
      "Epoch 343/500\n",
      "75/75 [==============================] - 0s 94us/step - loss: 0.1545 - acc: 0.9333 - val_loss: 0.1398 - val_acc: 0.9733\n",
      "Epoch 344/500\n",
      "75/75 [==============================] - 0s 80us/step - loss: 0.1518 - acc: 0.9333 - val_loss: 0.1406 - val_acc: 0.9733\n",
      "Epoch 345/500\n",
      "75/75 [==============================] - 0s 94us/step - loss: 0.1517 - acc: 0.9467 - val_loss: 0.1472 - val_acc: 0.9600\n",
      "Epoch 346/500\n",
      "75/75 [==============================] - 0s 94us/step - loss: 0.1510 - acc: 0.9467 - val_loss: 0.1483 - val_acc: 0.9600\n",
      "Epoch 347/500\n",
      "75/75 [==============================] - 0s 80us/step - loss: 0.1510 - acc: 0.9467 - val_loss: 0.1441 - val_acc: 0.9600\n",
      "Epoch 348/500\n",
      "75/75 [==============================] - 0s 101us/step - loss: 0.1504 - acc: 0.9467 - val_loss: 0.1430 - val_acc: 0.9600\n",
      "Epoch 349/500\n",
      "75/75 [==============================] - 0s 80us/step - loss: 0.1503 - acc: 0.9333 - val_loss: 0.1427 - val_acc: 0.9600\n",
      "Epoch 350/500\n",
      "75/75 [==============================] - 0s 94us/step - loss: 0.1494 - acc: 0.9467 - val_loss: 0.1384 - val_acc: 0.9733\n",
      "Epoch 351/500\n",
      "75/75 [==============================] - 0s 94us/step - loss: 0.1488 - acc: 0.9333 - val_loss: 0.1390 - val_acc: 0.9733\n",
      "Epoch 352/500\n",
      "75/75 [==============================] - 0s 94us/step - loss: 0.1484 - acc: 0.9333 - val_loss: 0.1390 - val_acc: 0.9733\n",
      "Epoch 353/500\n",
      "75/75 [==============================] - 0s 94us/step - loss: 0.1485 - acc: 0.9333 - val_loss: 0.1401 - val_acc: 0.9600\n",
      "Epoch 354/500\n",
      "75/75 [==============================] - 0s 80us/step - loss: 0.1477 - acc: 0.9467 - val_loss: 0.1432 - val_acc: 0.9600\n",
      "Epoch 355/500\n",
      "75/75 [==============================] - 0s 94us/step - loss: 0.1487 - acc: 0.9467 - val_loss: 0.1411 - val_acc: 0.9600\n",
      "Epoch 356/500\n",
      "75/75 [==============================] - 0s 94us/step - loss: 0.1474 - acc: 0.9467 - val_loss: 0.1438 - val_acc: 0.9600\n",
      "Epoch 357/500\n",
      "75/75 [==============================] - 0s 68us/step - loss: 0.1494 - acc: 0.9467 - val_loss: 0.1458 - val_acc: 0.9600\n",
      "Epoch 358/500\n",
      "75/75 [==============================] - 0s 0us/step - loss: 0.1476 - acc: 0.9333 - val_loss: 0.1357 - val_acc: 0.9733\n",
      "Epoch 359/500\n",
      "75/75 [==============================] - 0s 208us/step - loss: 0.1461 - acc: 0.9333 - val_loss: 0.1350 - val_acc: 0.9733\n",
      "Epoch 360/500\n",
      "75/75 [==============================] - 0s 0us/step - loss: 0.1458 - acc: 0.9333 - val_loss: 0.1349 - val_acc: 0.9733\n",
      "Epoch 361/500\n",
      "75/75 [==============================] - 0s 208us/step - loss: 0.1472 - acc: 0.9333 - val_loss: 0.1324 - val_acc: 0.9733\n",
      "Epoch 362/500\n",
      "75/75 [==============================] - 0s 0us/step - loss: 0.1460 - acc: 0.9467 - val_loss: 0.1380 - val_acc: 0.9600\n",
      "Epoch 363/500\n",
      "75/75 [==============================] - 0s 208us/step - loss: 0.1447 - acc: 0.9467 - val_loss: 0.1384 - val_acc: 0.9600\n",
      "Epoch 364/500\n",
      "75/75 [==============================] - 0s 0us/step - loss: 0.1471 - acc: 0.9467 - val_loss: 0.1412 - val_acc: 0.9600\n",
      "Epoch 365/500\n"
     ]
    },
    {
     "name": "stdout",
     "output_type": "stream",
     "text": [
      "75/75 [==============================] - 0s 208us/step - loss: 0.1442 - acc: 0.9333 - val_loss: 0.1311 - val_acc: 0.9733\n",
      "Epoch 366/500\n",
      "75/75 [==============================] - 0s 0us/step - loss: 0.1438 - acc: 0.9333 - val_loss: 0.1309 - val_acc: 0.9733\n",
      "Epoch 367/500\n",
      "75/75 [==============================] - 0s 208us/step - loss: 0.1440 - acc: 0.9333 - val_loss: 0.1325 - val_acc: 0.9733\n",
      "Epoch 368/500\n",
      "75/75 [==============================] - 0s 0us/step - loss: 0.1433 - acc: 0.9333 - val_loss: 0.1327 - val_acc: 0.9733\n",
      "Epoch 369/500\n",
      "75/75 [==============================] - 0s 208us/step - loss: 0.1428 - acc: 0.9333 - val_loss: 0.1350 - val_acc: 0.9600\n",
      "Epoch 370/500\n",
      "75/75 [==============================] - 0s 0us/step - loss: 0.1428 - acc: 0.9333 - val_loss: 0.1325 - val_acc: 0.9600\n",
      "Epoch 371/500\n",
      "75/75 [==============================] - 0s 208us/step - loss: 0.1432 - acc: 0.9333 - val_loss: 0.1327 - val_acc: 0.9600\n",
      "Epoch 372/500\n",
      "75/75 [==============================] - 0s 0us/step - loss: 0.1426 - acc: 0.9467 - val_loss: 0.1346 - val_acc: 0.9600\n",
      "Epoch 373/500\n",
      "75/75 [==============================] - 0s 208us/step - loss: 0.1426 - acc: 0.9333 - val_loss: 0.1273 - val_acc: 0.9733\n",
      "Epoch 374/500\n",
      "75/75 [==============================] - 0s 0us/step - loss: 0.1413 - acc: 0.9333 - val_loss: 0.1302 - val_acc: 0.9733\n",
      "Epoch 375/500\n",
      "75/75 [==============================] - 0s 208us/step - loss: 0.1404 - acc: 0.9333 - val_loss: 0.1334 - val_acc: 0.9600\n",
      "Epoch 376/500\n",
      "75/75 [==============================] - 0s 0us/step - loss: 0.1413 - acc: 0.9467 - val_loss: 0.1356 - val_acc: 0.9600\n",
      "Epoch 377/500\n",
      "75/75 [==============================] - 0s 208us/step - loss: 0.1411 - acc: 0.9467 - val_loss: 0.1309 - val_acc: 0.9600\n",
      "Epoch 378/500\n",
      "75/75 [==============================] - 0s 0us/step - loss: 0.1401 - acc: 0.9333 - val_loss: 0.1295 - val_acc: 0.9600\n",
      "Epoch 379/500\n",
      "75/75 [==============================] - 0s 208us/step - loss: 0.1398 - acc: 0.9333 - val_loss: 0.1278 - val_acc: 0.9733\n",
      "Epoch 380/500\n",
      "75/75 [==============================] - 0s 0us/step - loss: 0.1401 - acc: 0.9333 - val_loss: 0.1261 - val_acc: 0.9733\n",
      "Epoch 381/500\n",
      "75/75 [==============================] - 0s 208us/step - loss: 0.1395 - acc: 0.9333 - val_loss: 0.1280 - val_acc: 0.9733\n",
      "Epoch 382/500\n",
      "75/75 [==============================] - 0s 0us/step - loss: 0.1427 - acc: 0.9333 - val_loss: 0.1333 - val_acc: 0.9600\n",
      "Epoch 383/500\n",
      "75/75 [==============================] - 0s 208us/step - loss: 0.1403 - acc: 0.9333 - val_loss: 0.1265 - val_acc: 0.9733\n",
      "Epoch 384/500\n",
      "75/75 [==============================] - 0s 0us/step - loss: 0.1385 - acc: 0.9333 - val_loss: 0.1277 - val_acc: 0.9600\n",
      "Epoch 385/500\n",
      "75/75 [==============================] - 0s 208us/step - loss: 0.1399 - acc: 0.9467 - val_loss: 0.1297 - val_acc: 0.9600\n",
      "Epoch 386/500\n",
      "75/75 [==============================] - 0s 0us/step - loss: 0.1377 - acc: 0.9333 - val_loss: 0.1232 - val_acc: 0.9733\n",
      "Epoch 387/500\n",
      "75/75 [==============================] - 0s 208us/step - loss: 0.1378 - acc: 0.9333 - val_loss: 0.1212 - val_acc: 0.9867\n",
      "Epoch 388/500\n",
      "75/75 [==============================] - 0s 0us/step - loss: 0.1405 - acc: 0.9333 - val_loss: 0.1256 - val_acc: 0.9733\n",
      "Epoch 389/500\n",
      "75/75 [==============================] - 0s 208us/step - loss: 0.1397 - acc: 0.9333 - val_loss: 0.1194 - val_acc: 0.9867\n",
      "Epoch 390/500\n",
      "75/75 [==============================] - 0s 0us/step - loss: 0.1379 - acc: 0.9333 - val_loss: 0.1213 - val_acc: 0.9733\n",
      "Epoch 391/500\n",
      "75/75 [==============================] - 0s 208us/step - loss: 0.1365 - acc: 0.9333 - val_loss: 0.1198 - val_acc: 0.9867\n",
      "Epoch 392/500\n",
      "75/75 [==============================] - 0s 0us/step - loss: 0.1377 - acc: 0.9333 - val_loss: 0.1185 - val_acc: 0.9867\n",
      "Epoch 393/500\n",
      "75/75 [==============================] - 0s 208us/step - loss: 0.1361 - acc: 0.9333 - val_loss: 0.1219 - val_acc: 0.9733\n",
      "Epoch 394/500\n",
      "75/75 [==============================] - 0s 0us/step - loss: 0.1368 - acc: 0.9333 - val_loss: 0.1278 - val_acc: 0.9600\n",
      "Epoch 395/500\n",
      "75/75 [==============================] - 0s 208us/step - loss: 0.1356 - acc: 0.9467 - val_loss: 0.1245 - val_acc: 0.9600\n",
      "Epoch 396/500\n",
      "75/75 [==============================] - 0s 0us/step - loss: 0.1371 - acc: 0.9333 - val_loss: 0.1226 - val_acc: 0.9733\n",
      "Epoch 397/500\n",
      "75/75 [==============================] - 0s 208us/step - loss: 0.1361 - acc: 0.9333 - val_loss: 0.1219 - val_acc: 0.9733\n",
      "Epoch 398/500\n",
      "75/75 [==============================] - 0s 0us/step - loss: 0.1344 - acc: 0.9333 - val_loss: 0.1163 - val_acc: 0.9867\n",
      "Epoch 399/500\n",
      "75/75 [==============================] - 0s 208us/step - loss: 0.1349 - acc: 0.9333 - val_loss: 0.1175 - val_acc: 0.9867\n",
      "Epoch 400/500\n",
      "75/75 [==============================] - 0s 0us/step - loss: 0.1343 - acc: 0.9333 - val_loss: 0.1202 - val_acc: 0.9733\n",
      "Epoch 401/500\n",
      "75/75 [==============================] - 0s 208us/step - loss: 0.1347 - acc: 0.9467 - val_loss: 0.1349 - val_acc: 0.9600\n",
      "Epoch 402/500\n",
      "75/75 [==============================] - 0s 0us/step - loss: 0.1361 - acc: 0.9467 - val_loss: 0.1326 - val_acc: 0.9600\n",
      "Epoch 403/500\n",
      "75/75 [==============================] - 0s 208us/step - loss: 0.1328 - acc: 0.9467 - val_loss: 0.1183 - val_acc: 0.9733\n",
      "Epoch 404/500\n",
      "75/75 [==============================] - 0s 0us/step - loss: 0.1333 - acc: 0.9333 - val_loss: 0.1146 - val_acc: 0.9867\n",
      "Epoch 405/500\n",
      "75/75 [==============================] - 0s 0us/step - loss: 0.1338 - acc: 0.9333 - val_loss: 0.1142 - val_acc: 0.9867\n",
      "Epoch 406/500\n",
      "75/75 [==============================] - 0s 0us/step - loss: 0.1331 - acc: 0.9333 - val_loss: 0.1231 - val_acc: 0.9600\n",
      "Epoch 407/500\n",
      "75/75 [==============================] - 0s 0us/step - loss: 0.1334 - acc: 0.9333 - val_loss: 0.1225 - val_acc: 0.9600\n",
      "Epoch 408/500\n",
      "75/75 [==============================] - 0s 0us/step - loss: 0.1328 - acc: 0.9333 - val_loss: 0.1179 - val_acc: 0.9733\n",
      "Epoch 409/500\n",
      "75/75 [==============================] - 0s 208us/step - loss: 0.1321 - acc: 0.9333 - val_loss: 0.1182 - val_acc: 0.9733\n",
      "Epoch 410/500\n",
      "75/75 [==============================] - 0s 0us/step - loss: 0.1330 - acc: 0.9333 - val_loss: 0.1198 - val_acc: 0.9600\n",
      "Epoch 411/500\n",
      "75/75 [==============================] - 0s 0us/step - loss: 0.1323 - acc: 0.9333 - val_loss: 0.1143 - val_acc: 0.9867\n",
      "Epoch 412/500\n",
      "75/75 [==============================] - 0s 0us/step - loss: 0.1309 - acc: 0.9333 - val_loss: 0.1170 - val_acc: 0.9733\n",
      "Epoch 413/500\n",
      "75/75 [==============================] - 0s 0us/step - loss: 0.1327 - acc: 0.9467 - val_loss: 0.1242 - val_acc: 0.9600\n",
      "Epoch 414/500\n",
      "75/75 [==============================] - 0s 0us/step - loss: 0.1329 - acc: 0.9333 - val_loss: 0.1142 - val_acc: 0.9733\n",
      "Epoch 415/500\n",
      "75/75 [==============================] - 0s 208us/step - loss: 0.1318 - acc: 0.9333 - val_loss: 0.1132 - val_acc: 0.9733\n",
      "Epoch 416/500\n",
      "75/75 [==============================] - 0s 0us/step - loss: 0.1301 - acc: 0.9333 - val_loss: 0.1164 - val_acc: 0.9733\n",
      "Epoch 417/500\n",
      "75/75 [==============================] - 0s 0us/step - loss: 0.1320 - acc: 0.9467 - val_loss: 0.1282 - val_acc: 0.9600\n",
      "Epoch 418/500\n",
      "75/75 [==============================] - 0s 0us/step - loss: 0.1356 - acc: 0.9467 - val_loss: 0.1324 - val_acc: 0.9467\n",
      "Epoch 419/500\n",
      "75/75 [==============================] - 0s 0us/step - loss: 0.1305 - acc: 0.9600 - val_loss: 0.1150 - val_acc: 0.9733\n",
      "Epoch 420/500\n",
      "75/75 [==============================] - 0s 0us/step - loss: 0.1301 - acc: 0.9333 - val_loss: 0.1095 - val_acc: 0.9867\n",
      "Epoch 421/500\n",
      "75/75 [==============================] - 0s 0us/step - loss: 0.1300 - acc: 0.9333 - val_loss: 0.1111 - val_acc: 0.9867\n",
      "Epoch 422/500\n",
      "75/75 [==============================] - 0s 0us/step - loss: 0.1299 - acc: 0.9333 - val_loss: 0.1129 - val_acc: 0.9733\n",
      "Epoch 423/500\n",
      "75/75 [==============================] - 0s 0us/step - loss: 0.1286 - acc: 0.9333 - val_loss: 0.1155 - val_acc: 0.9733\n",
      "Epoch 424/500\n",
      "75/75 [==============================] - 0s 0us/step - loss: 0.1284 - acc: 0.9467 - val_loss: 0.1164 - val_acc: 0.9600\n",
      "Epoch 425/500\n",
      "75/75 [==============================] - 0s 0us/step - loss: 0.1284 - acc: 0.9467 - val_loss: 0.1167 - val_acc: 0.9600\n",
      "Epoch 426/500\n"
     ]
    },
    {
     "name": "stdout",
     "output_type": "stream",
     "text": [
      "75/75 [==============================] - 0s 0us/step - loss: 0.1282 - acc: 0.9333 - val_loss: 0.1140 - val_acc: 0.9733\n",
      "Epoch 427/500\n",
      "75/75 [==============================] - 0s 208us/step - loss: 0.1292 - acc: 0.9333 - val_loss: 0.1126 - val_acc: 0.9733\n",
      "Epoch 428/500\n",
      "75/75 [==============================] - 0s 0us/step - loss: 0.1274 - acc: 0.9333 - val_loss: 0.1119 - val_acc: 0.9733\n",
      "Epoch 429/500\n",
      "75/75 [==============================] - 0s 0us/step - loss: 0.1276 - acc: 0.9333 - val_loss: 0.1121 - val_acc: 0.9733\n",
      "Epoch 430/500\n",
      "75/75 [==============================] - 0s 0us/step - loss: 0.1327 - acc: 0.9333 - val_loss: 0.1208 - val_acc: 0.9600\n",
      "Epoch 431/500\n",
      "75/75 [==============================] - 0s 0us/step - loss: 0.1263 - acc: 0.9467 - val_loss: 0.1136 - val_acc: 0.9733\n",
      "Epoch 432/500\n",
      "75/75 [==============================] - 0s 155us/step - loss: 0.1266 - acc: 0.9333 - val_loss: 0.1054 - val_acc: 0.9867\n",
      "Epoch 433/500\n",
      "75/75 [==============================] - 0s 107us/step - loss: 0.1283 - acc: 0.9333 - val_loss: 0.1063 - val_acc: 0.9867\n",
      "Epoch 434/500\n",
      "75/75 [==============================] - 0s 107us/step - loss: 0.1267 - acc: 0.9333 - val_loss: 0.1078 - val_acc: 0.9867\n",
      "Epoch 435/500\n",
      "75/75 [==============================] - 0s 107us/step - loss: 0.1264 - acc: 0.9333 - val_loss: 0.1092 - val_acc: 0.9733\n",
      "Epoch 436/500\n",
      "75/75 [==============================] - 0s 107us/step - loss: 0.1304 - acc: 0.9467 - val_loss: 0.1219 - val_acc: 0.9600\n",
      "Epoch 437/500\n",
      "75/75 [==============================] - 0s 107us/step - loss: 0.1265 - acc: 0.9467 - val_loss: 0.1180 - val_acc: 0.9600\n",
      "Epoch 438/500\n",
      "75/75 [==============================] - 0s 107us/step - loss: 0.1262 - acc: 0.9333 - val_loss: 0.1078 - val_acc: 0.9733\n",
      "Epoch 439/500\n",
      "75/75 [==============================] - 0s 107us/step - loss: 0.1258 - acc: 0.9333 - val_loss: 0.1089 - val_acc: 0.9733\n",
      "Epoch 440/500\n",
      "75/75 [==============================] - 0s 107us/step - loss: 0.1251 - acc: 0.9333 - val_loss: 0.1092 - val_acc: 0.9733\n",
      "Epoch 441/500\n",
      "75/75 [==============================] - 0s 107us/step - loss: 0.1264 - acc: 0.9333 - val_loss: 0.1101 - val_acc: 0.9733\n",
      "Epoch 442/500\n",
      "75/75 [==============================] - 0s 160us/step - loss: 0.1256 - acc: 0.9467 - val_loss: 0.1118 - val_acc: 0.9600\n",
      "Epoch 443/500\n",
      "75/75 [==============================] - 0s 107us/step - loss: 0.1246 - acc: 0.9467 - val_loss: 0.1128 - val_acc: 0.9600\n",
      "Epoch 444/500\n",
      "75/75 [==============================] - 0s 107us/step - loss: 0.1260 - acc: 0.9467 - val_loss: 0.1154 - val_acc: 0.9600\n",
      "Epoch 445/500\n",
      "75/75 [==============================] - 0s 160us/step - loss: 0.1259 - acc: 0.9467 - val_loss: 0.1068 - val_acc: 0.9733\n",
      "Epoch 446/500\n",
      "75/75 [==============================] - 0s 267us/step - loss: 0.1247 - acc: 0.9333 - val_loss: 0.1122 - val_acc: 0.9600\n",
      "Epoch 447/500\n",
      "75/75 [==============================] - 0s 267us/step - loss: 0.1232 - acc: 0.9333 - val_loss: 0.1080 - val_acc: 0.9733\n",
      "Epoch 448/500\n",
      "75/75 [==============================] - 0s 427us/step - loss: 0.1246 - acc: 0.9333 - val_loss: 0.1082 - val_acc: 0.9733\n",
      "Epoch 449/500\n",
      "75/75 [==============================] - 0s 160us/step - loss: 0.1235 - acc: 0.9333 - val_loss: 0.1055 - val_acc: 0.9733\n",
      "Epoch 450/500\n",
      "75/75 [==============================] - 0s 107us/step - loss: 0.1247 - acc: 0.9333 - val_loss: 0.1030 - val_acc: 0.9867\n",
      "Epoch 451/500\n",
      "75/75 [==============================] - 0s 267us/step - loss: 0.1225 - acc: 0.9333 - val_loss: 0.1090 - val_acc: 0.9733\n",
      "Epoch 452/500\n",
      "75/75 [==============================] - 0s 160us/step - loss: 0.1257 - acc: 0.9467 - val_loss: 0.1189 - val_acc: 0.9600\n",
      "Epoch 453/500\n",
      "75/75 [==============================] - 0s 160us/step - loss: 0.1239 - acc: 0.9467 - val_loss: 0.1111 - val_acc: 0.9600\n",
      "Epoch 454/500\n",
      "75/75 [==============================] - 0s 213us/step - loss: 0.1222 - acc: 0.9333 - val_loss: 0.1071 - val_acc: 0.9733\n",
      "Epoch 455/500\n",
      "75/75 [==============================] - 0s 160us/step - loss: 0.1223 - acc: 0.9333 - val_loss: 0.1029 - val_acc: 0.9867\n",
      "Epoch 456/500\n",
      "75/75 [==============================] - 0s 160us/step - loss: 0.1243 - acc: 0.9333 - val_loss: 0.1095 - val_acc: 0.9600\n",
      "Epoch 457/500\n",
      "75/75 [==============================] - 0s 160us/step - loss: 0.1222 - acc: 0.9333 - val_loss: 0.1045 - val_acc: 0.9733\n",
      "Epoch 458/500\n",
      "75/75 [==============================] - 0s 107us/step - loss: 0.1219 - acc: 0.9333 - val_loss: 0.1062 - val_acc: 0.9733\n",
      "Epoch 459/500\n",
      "75/75 [==============================] - 0s 148us/step - loss: 0.1217 - acc: 0.9333 - val_loss: 0.1072 - val_acc: 0.9733\n",
      "Epoch 460/500\n",
      "75/75 [==============================] - 0s 107us/step - loss: 0.1229 - acc: 0.9467 - val_loss: 0.1104 - val_acc: 0.9600\n",
      "Epoch 461/500\n",
      "75/75 [==============================] - 0s 94us/step - loss: 0.1223 - acc: 0.9333 - val_loss: 0.1017 - val_acc: 0.9867\n",
      "Epoch 462/500\n",
      "75/75 [==============================] - 0s 94us/step - loss: 0.1249 - acc: 0.9333 - val_loss: 0.1062 - val_acc: 0.9733\n",
      "Epoch 463/500\n",
      "75/75 [==============================] - 0s 94us/step - loss: 0.1230 - acc: 0.9333 - val_loss: 0.0978 - val_acc: 0.9867\n",
      "Epoch 464/500\n",
      "75/75 [==============================] - 0s 94us/step - loss: 0.1224 - acc: 0.9333 - val_loss: 0.1002 - val_acc: 0.9867\n",
      "Epoch 465/500\n",
      "75/75 [==============================] - 0s 94us/step - loss: 0.1209 - acc: 0.9333 - val_loss: 0.1054 - val_acc: 0.9733\n",
      "Epoch 466/500\n",
      "75/75 [==============================] - 0s 80us/step - loss: 0.1215 - acc: 0.9467 - val_loss: 0.1093 - val_acc: 0.9600\n",
      "Epoch 467/500\n",
      "75/75 [==============================] - 0s 94us/step - loss: 0.1199 - acc: 0.9467 - val_loss: 0.1058 - val_acc: 0.9733\n",
      "Epoch 468/500\n",
      "75/75 [==============================] - 0s 94us/step - loss: 0.1229 - acc: 0.9333 - val_loss: 0.1060 - val_acc: 0.9600\n",
      "Epoch 469/500\n",
      "75/75 [==============================] - 0s 80us/step - loss: 0.1209 - acc: 0.9333 - val_loss: 0.0978 - val_acc: 0.9867\n",
      "Epoch 470/500\n",
      "75/75 [==============================] - 0s 94us/step - loss: 0.1202 - acc: 0.9333 - val_loss: 0.0991 - val_acc: 0.9867\n",
      "Epoch 471/500\n",
      "75/75 [==============================] - 0s 107us/step - loss: 0.1220 - acc: 0.9467 - val_loss: 0.1071 - val_acc: 0.9600\n",
      "Epoch 472/500\n",
      "75/75 [==============================] - 0s 94us/step - loss: 0.1194 - acc: 0.9333 - val_loss: 0.0999 - val_acc: 0.9733\n",
      "Epoch 473/500\n",
      "75/75 [==============================] - 0s 107us/step - loss: 0.1201 - acc: 0.9333 - val_loss: 0.1027 - val_acc: 0.9733\n",
      "Epoch 474/500\n",
      "75/75 [==============================] - 0s 94us/step - loss: 0.1200 - acc: 0.9467 - val_loss: 0.1055 - val_acc: 0.9600\n",
      "Epoch 475/500\n",
      "75/75 [==============================] - 0s 107us/step - loss: 0.1205 - acc: 0.9333 - val_loss: 0.0962 - val_acc: 0.9867\n",
      "Epoch 476/500\n",
      "75/75 [==============================] - 0s 94us/step - loss: 0.1193 - acc: 0.9333 - val_loss: 0.0995 - val_acc: 0.9733\n",
      "Epoch 477/500\n",
      "75/75 [==============================] - 0s 94us/step - loss: 0.1224 - acc: 0.9333 - val_loss: 0.1073 - val_acc: 0.9600\n",
      "Epoch 478/500\n",
      "75/75 [==============================] - 0s 94us/step - loss: 0.1194 - acc: 0.9467 - val_loss: 0.1094 - val_acc: 0.9600\n",
      "Epoch 479/500\n",
      "75/75 [==============================] - 0s 94us/step - loss: 0.1214 - acc: 0.9467 - val_loss: 0.1104 - val_acc: 0.9600\n",
      "Epoch 480/500\n",
      "75/75 [==============================] - 0s 107us/step - loss: 0.1191 - acc: 0.9467 - val_loss: 0.1011 - val_acc: 0.9733\n",
      "Epoch 481/500\n",
      "75/75 [==============================] - 0s 94us/step - loss: 0.1187 - acc: 0.9333 - val_loss: 0.0991 - val_acc: 0.9733\n",
      "Epoch 482/500\n",
      "75/75 [==============================] - 0s 120us/step - loss: 0.1172 - acc: 0.9467 - val_loss: 0.1060 - val_acc: 0.9600\n",
      "Epoch 483/500\n",
      "75/75 [==============================] - 0s 94us/step - loss: 0.1193 - acc: 0.9467 - val_loss: 0.1119 - val_acc: 0.9600\n",
      "Epoch 484/500\n",
      "75/75 [==============================] - 0s 107us/step - loss: 0.1187 - acc: 0.9600 - val_loss: 0.1089 - val_acc: 0.9600\n",
      "Epoch 485/500\n",
      "75/75 [==============================] - 0s 94us/step - loss: 0.1160 - acc: 0.9467 - val_loss: 0.0968 - val_acc: 0.9867\n",
      "Epoch 486/500\n",
      "75/75 [==============================] - 0s 94us/step - loss: 0.1164 - acc: 0.9333 - val_loss: 0.0916 - val_acc: 0.9867\n",
      "Epoch 487/500\n"
     ]
    },
    {
     "name": "stdout",
     "output_type": "stream",
     "text": [
      "75/75 [==============================] - 0s 80us/step - loss: 0.1190 - acc: 0.9467 - val_loss: 0.0909 - val_acc: 0.9867\n",
      "Epoch 488/500\n",
      "75/75 [==============================] - 0s 94us/step - loss: 0.1189 - acc: 0.9333 - val_loss: 0.0959 - val_acc: 0.9867\n",
      "Epoch 489/500\n",
      "75/75 [==============================] - 0s 80us/step - loss: 0.1165 - acc: 0.9333 - val_loss: 0.0987 - val_acc: 0.9733\n",
      "Epoch 490/500\n",
      "75/75 [==============================] - 0s 107us/step - loss: 0.1190 - acc: 0.9467 - val_loss: 0.1058 - val_acc: 0.9600\n",
      "Epoch 491/500\n",
      "75/75 [==============================] - 0s 94us/step - loss: 0.1189 - acc: 0.9333 - val_loss: 0.0967 - val_acc: 0.9733\n",
      "Epoch 492/500\n",
      "75/75 [==============================] - 0s 80us/step - loss: 0.1159 - acc: 0.9333 - val_loss: 0.0995 - val_acc: 0.9733\n",
      "Epoch 493/500\n",
      "75/75 [==============================] - 0s 94us/step - loss: 0.1176 - acc: 0.9467 - val_loss: 0.1024 - val_acc: 0.9600\n",
      "Epoch 494/500\n",
      "75/75 [==============================] - 0s 94us/step - loss: 0.1159 - acc: 0.9467 - val_loss: 0.1060 - val_acc: 0.9600\n",
      "Epoch 495/500\n",
      "75/75 [==============================] - 0s 94us/step - loss: 0.1161 - acc: 0.9467 - val_loss: 0.1025 - val_acc: 0.9600\n",
      "Epoch 496/500\n",
      "75/75 [==============================] - 0s 94us/step - loss: 0.1158 - acc: 0.9333 - val_loss: 0.0983 - val_acc: 0.9733\n",
      "Epoch 497/500\n",
      "75/75 [==============================] - 0s 94us/step - loss: 0.1152 - acc: 0.9333 - val_loss: 0.0957 - val_acc: 0.9733\n",
      "Epoch 498/500\n",
      "75/75 [==============================] - 0s 94us/step - loss: 0.1153 - acc: 0.9333 - val_loss: 0.0986 - val_acc: 0.9733\n",
      "Epoch 499/500\n",
      "75/75 [==============================] - 0s 94us/step - loss: 0.1152 - acc: 0.9467 - val_loss: 0.0996 - val_acc: 0.9733\n",
      "Epoch 500/500\n",
      "75/75 [==============================] - 0s 94us/step - loss: 0.1155 - acc: 0.9333 - val_loss: 0.0952 - val_acc: 0.9733\n"
     ]
    }
   ],
   "source": [
    "history=model.fit(X_train,y_train_ohe,validation_data=(X_test, y_test_ohe), epochs=500,batch_size=10,verbose=1)"
   ]
  },
  {
   "cell_type": "code",
   "execution_count": 30,
   "metadata": {},
   "outputs": [],
   "source": [
    "y_pred = model.predict(X_test)"
   ]
  },
  {
   "cell_type": "code",
   "execution_count": 31,
   "metadata": {},
   "outputs": [
    {
     "data": {
      "text/plain": [
       "array([[9.9999118e-01, 8.8336847e-06, 4.2409522e-13],\n",
       "       [9.7138677e-03, 9.8863608e-01, 1.6501012e-03],\n",
       "       [1.2334171e-03, 9.9535573e-01, 3.4109110e-03],\n",
       "       [9.9997556e-01, 2.4432833e-05, 5.6456025e-12],\n",
       "       [2.3601875e-02, 6.0603940e-01, 3.7035874e-01]], dtype=float32)"
      ]
     },
     "execution_count": 31,
     "metadata": {},
     "output_type": "execute_result"
    }
   ],
   "source": [
    "y_pred[:5]"
   ]
  },
  {
   "cell_type": "code",
   "execution_count": 32,
   "metadata": {},
   "outputs": [
    {
     "data": {
      "text/plain": [
       "array([[1., 0., 0.],\n",
       "       [0., 1., 0.],\n",
       "       [0., 1., 0.],\n",
       "       [1., 0., 0.],\n",
       "       [0., 0., 1.]], dtype=float32)"
      ]
     },
     "execution_count": 32,
     "metadata": {},
     "output_type": "execute_result"
    }
   ],
   "source": [
    "y_test_ohe[:5]"
   ]
  },
  {
   "cell_type": "code",
   "execution_count": 33,
   "metadata": {},
   "outputs": [],
   "source": [
    "y_test_class = np.argmax(y_test_ohe,axis=1)\n",
    "y_pred_class = np.argmax(y_pred,axis=1)"
   ]
  },
  {
   "cell_type": "code",
   "execution_count": 34,
   "metadata": {},
   "outputs": [
    {
     "name": "stdout",
     "output_type": "stream",
     "text": [
      "              precision    recall  f1-score   support\n",
      "\n",
      "           0       1.00      1.00      1.00        24\n",
      "           1       0.92      1.00      0.96        24\n",
      "           2       1.00      0.93      0.96        27\n",
      "\n",
      "   micro avg       0.97      0.97      0.97        75\n",
      "   macro avg       0.97      0.98      0.97        75\n",
      "weighted avg       0.98      0.97      0.97        75\n",
      "\n"
     ]
    }
   ],
   "source": [
    "from sklearn.metrics import classification_report,confusion_matrix\n",
    "print(classification_report(y_test_class,y_pred_class))"
   ]
  },
  {
   "cell_type": "code",
   "execution_count": 35,
   "metadata": {},
   "outputs": [
    {
     "name": "stdout",
     "output_type": "stream",
     "text": [
      "[[24  0  0]\n",
      " [ 0 24  0]\n",
      " [ 0  2 25]]\n"
     ]
    }
   ],
   "source": [
    "print(confusion_matrix(y_test_class,y_pred_class))"
   ]
  },
  {
   "cell_type": "code",
   "execution_count": 36,
   "metadata": {},
   "outputs": [
    {
     "name": "stdout",
     "output_type": "stream",
     "text": [
      "Training Accuracy: 0.9333\n",
      "Training Loss: 0.1145\n"
     ]
    }
   ],
   "source": [
    "loss, accuracy = model.evaluate(X_train, y_train_ohe, verbose=False)\n",
    "print(\"Training Accuracy: {:.4f}\".format(accuracy))\n",
    "print(\"Training Loss: {:.4f}\".format(loss))"
   ]
  },
  {
   "cell_type": "code",
   "execution_count": 37,
   "metadata": {},
   "outputs": [
    {
     "name": "stdout",
     "output_type": "stream",
     "text": [
      "Testing Accuracy:  0.9733\n",
      "Testing Loss:  0.0952\n"
     ]
    }
   ],
   "source": [
    "loss, accuracy = model.evaluate(X_test, y_test_ohe, verbose=False)\n",
    "print(\"Testing Accuracy:  {:.4f}\".format(accuracy))\n",
    "print(\"Testing Loss:  {:.4f}\".format(loss))"
   ]
  },
  {
   "cell_type": "markdown",
   "metadata": {},
   "source": [
    "**Our train accuracy score is 97 and test accuracy score is same 94.**"
   ]
  },
  {
   "cell_type": "code",
   "execution_count": 38,
   "metadata": {},
   "outputs": [],
   "source": [
    "import matplotlib.pyplot as plt\n",
    "plt.style.use('ggplot')\n",
    "\n",
    "def plot_history(history):\n",
    "    acc = history.history['acc']\n",
    "    val_acc = history.history['val_acc']\n",
    "    loss = history.history['loss']\n",
    "    val_loss = history.history['val_loss']\n",
    "    x = range(1, len(acc) + 1)\n",
    "\n",
    "    plt.figure(figsize=(12, 5))\n",
    "    plt.subplot(1, 2, 1)\n",
    "    plt.plot(x, acc, 'b', label='Training acc')\n",
    "    plt.plot(x, val_acc, 'r', label='Validation acc')\n",
    "    plt.title('Training and validation accuracy')\n",
    "    plt.legend()\n",
    "    plt.subplot(1, 2, 2)\n",
    "    plt.plot(x, loss, 'b', label='Training loss')\n",
    "    plt.plot(x, val_loss, 'r', label='Validation loss')\n",
    "    plt.title('Training and validation loss')\n",
    "    plt.legend()"
   ]
  },
  {
   "cell_type": "code",
   "execution_count": 39,
   "metadata": {},
   "outputs": [
    {
     "data": {
      "image/png": "[encoded data removed]",
      "text/plain": [
       "<matplotlib.figure.Figure at 0x1b2ce952668>"
      ]
     },
     "metadata": {},
     "output_type": "display_data"
    }
   ],
   "source": [
    "plot_history(history)"
   ]
  }
 ],
 "metadata": {
  "kernelspec": {
   "display_name": "Python 3",
   "language": "python",
   "name": "python3"
  },
  "language_info": {
   "codemirror_mode": {
    "name": "ipython",
    "version": 3
   },
   "file_extension": ".py",
   "mimetype": "text/x-python",
   "name": "python",
   "nbconvert_exporter": "python",
   "pygments_lexer": "ipython3",
   "version": "3.6.3"
  }
 },
 "nbformat": 4,
 "nbformat_minor": 2
}
